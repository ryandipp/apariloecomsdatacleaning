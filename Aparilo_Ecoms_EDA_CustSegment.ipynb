{
  "cells": [
    {
      "cell_type": "markdown",
      "metadata": {
        "id": "view-in-github",
        "colab_type": "text"
      },
      "source": [
        "<a href=\"https://colab.research.google.com/github/ryandipp/python-project-aparilo-ecomms/blob/main/Aparilo_Ecoms_EDA_CustSegment.ipynb\" target=\"_parent\"><img src=\"https://colab.research.google.com/assets/colab-badge.svg\" alt=\"Open In Colab\"/></a>"
      ]
    },
    {
      "cell_type": "markdown",
      "metadata": {
        "id": "OxXS2VeD4erE"
      },
      "source": [
        "# Importing Data"
      ]
    },
    {
      "cell_type": "code",
      "execution_count": 8,
      "metadata": {
        "id": "ZUrO6w7v4p_8"
      },
      "outputs": [],
      "source": [
        "import numpy as np\n",
        "import pandas as pd\n",
        "import matplotlib.pyplot as plt\n",
        "import seaborn as sns\n",
        "import warnings\n",
        "import datetime\n",
        "from scipy import stats\n",
        "from sklearn.preprocessing import StandardScaler\n",
        "from sklearn import cluster\n",
        "%matplotlib inline\n",
        "warnings.filterwarnings(\"ignore\")\n",
        "pd.set_option('display.float_format', lambda x: '%.2f' % x) # setting all float number to 2 place decimal like 2.33"
      ]
    },
    {
      "cell_type": "markdown",
      "metadata": {
        "id": "nkyc2F0G5CmU"
      },
      "source": [
        "1. importing dataframe#1 ORDERS"
      ]
    },
    {
      "cell_type": "code",
      "execution_count": null,
      "metadata": {
        "colab": {
          "base_uri": "https://localhost:8080/",
          "height": 213
        },
        "id": "6a1uZ9We43_n",
        "outputId": "591aee76-5fb9-4abd-c788-2bef84a689cc"
      },
      "outputs": [
        {
          "output_type": "execute_result",
          "data": {
            "text/plain": [
              "   order_id  user_id   status gender           created_at returned_at  \\\n",
              "0         2        1  Shipped      F  2022-09-23 16:02:00         NaN   \n",
              "1        14        9  Shipped      F  2022-01-13 00:42:00         NaN   \n",
              "2        23       14  Shipped      F  2022-07-06 16:45:00         NaN   \n",
              "3        26       14  Shipped      F  2022-08-15 16:45:00         NaN   \n",
              "4        28       16  Shipped      F  2022-05-26 16:39:00         NaN   \n",
              "\n",
              "            shipped_at delivered_at  num_of_item  \n",
              "0  2022-09-25 23:03:00          NaN            1  \n",
              "1  2022-01-15 09:26:00          NaN            1  \n",
              "2  2022-07-09 10:32:00          NaN            3  \n",
              "3  2022-08-18 03:32:00          NaN            3  \n",
              "4  2022-05-29 05:35:00          NaN            1  "
            ],
            "text/html": [
              "\n",
              "  <div id=\"df-2adf8cf2-2d94-4e2b-b520-5d485e61d940\">\n",
              "    <div class=\"colab-df-container\">\n",
              "      <div>\n",
              "<style scoped>\n",
              "    .dataframe tbody tr th:only-of-type {\n",
              "        vertical-align: middle;\n",
              "    }\n",
              "\n",
              "    .dataframe tbody tr th {\n",
              "        vertical-align: top;\n",
              "    }\n",
              "\n",
              "    .dataframe thead th {\n",
              "        text-align: right;\n",
              "    }\n",
              "</style>\n",
              "<table border=\"1\" class=\"dataframe\">\n",
              "  <thead>\n",
              "    <tr style=\"text-align: right;\">\n",
              "      <th></th>\n",
              "      <th>order_id</th>\n",
              "      <th>user_id</th>\n",
              "      <th>status</th>\n",
              "      <th>gender</th>\n",
              "      <th>created_at</th>\n",
              "      <th>returned_at</th>\n",
              "      <th>shipped_at</th>\n",
              "      <th>delivered_at</th>\n",
              "      <th>num_of_item</th>\n",
              "    </tr>\n",
              "  </thead>\n",
              "  <tbody>\n",
              "    <tr>\n",
              "      <th>0</th>\n",
              "      <td>2</td>\n",
              "      <td>1</td>\n",
              "      <td>Shipped</td>\n",
              "      <td>F</td>\n",
              "      <td>2022-09-23 16:02:00</td>\n",
              "      <td>NaN</td>\n",
              "      <td>2022-09-25 23:03:00</td>\n",
              "      <td>NaN</td>\n",
              "      <td>1</td>\n",
              "    </tr>\n",
              "    <tr>\n",
              "      <th>1</th>\n",
              "      <td>14</td>\n",
              "      <td>9</td>\n",
              "      <td>Shipped</td>\n",
              "      <td>F</td>\n",
              "      <td>2022-01-13 00:42:00</td>\n",
              "      <td>NaN</td>\n",
              "      <td>2022-01-15 09:26:00</td>\n",
              "      <td>NaN</td>\n",
              "      <td>1</td>\n",
              "    </tr>\n",
              "    <tr>\n",
              "      <th>2</th>\n",
              "      <td>23</td>\n",
              "      <td>14</td>\n",
              "      <td>Shipped</td>\n",
              "      <td>F</td>\n",
              "      <td>2022-07-06 16:45:00</td>\n",
              "      <td>NaN</td>\n",
              "      <td>2022-07-09 10:32:00</td>\n",
              "      <td>NaN</td>\n",
              "      <td>3</td>\n",
              "    </tr>\n",
              "    <tr>\n",
              "      <th>3</th>\n",
              "      <td>26</td>\n",
              "      <td>14</td>\n",
              "      <td>Shipped</td>\n",
              "      <td>F</td>\n",
              "      <td>2022-08-15 16:45:00</td>\n",
              "      <td>NaN</td>\n",
              "      <td>2022-08-18 03:32:00</td>\n",
              "      <td>NaN</td>\n",
              "      <td>3</td>\n",
              "    </tr>\n",
              "    <tr>\n",
              "      <th>4</th>\n",
              "      <td>28</td>\n",
              "      <td>16</td>\n",
              "      <td>Shipped</td>\n",
              "      <td>F</td>\n",
              "      <td>2022-05-26 16:39:00</td>\n",
              "      <td>NaN</td>\n",
              "      <td>2022-05-29 05:35:00</td>\n",
              "      <td>NaN</td>\n",
              "      <td>1</td>\n",
              "    </tr>\n",
              "  </tbody>\n",
              "</table>\n",
              "</div>\n",
              "      <button class=\"colab-df-convert\" onclick=\"convertToInteractive('df-2adf8cf2-2d94-4e2b-b520-5d485e61d940')\"\n",
              "              title=\"Convert this dataframe to an interactive table.\"\n",
              "              style=\"display:none;\">\n",
              "        \n",
              "  <svg xmlns=\"http://www.w3.org/2000/svg\" height=\"24px\"viewBox=\"0 0 24 24\"\n",
              "       width=\"24px\">\n",
              "    <path d=\"M0 0h24v24H0V0z\" fill=\"none\"/>\n",
              "    <path d=\"M18.56 5.44l.94 2.06.94-2.06 2.06-.94-2.06-.94-.94-2.06-.94 2.06-2.06.94zm-11 1L8.5 8.5l.94-2.06 2.06-.94-2.06-.94L8.5 2.5l-.94 2.06-2.06.94zm10 10l.94 2.06.94-2.06 2.06-.94-2.06-.94-.94-2.06-.94 2.06-2.06.94z\"/><path d=\"M17.41 7.96l-1.37-1.37c-.4-.4-.92-.59-1.43-.59-.52 0-1.04.2-1.43.59L10.3 9.45l-7.72 7.72c-.78.78-.78 2.05 0 2.83L4 21.41c.39.39.9.59 1.41.59.51 0 1.02-.2 1.41-.59l7.78-7.78 2.81-2.81c.8-.78.8-2.07 0-2.86zM5.41 20L4 18.59l7.72-7.72 1.47 1.35L5.41 20z\"/>\n",
              "  </svg>\n",
              "      </button>\n",
              "      \n",
              "  <style>\n",
              "    .colab-df-container {\n",
              "      display:flex;\n",
              "      flex-wrap:wrap;\n",
              "      gap: 12px;\n",
              "    }\n",
              "\n",
              "    .colab-df-convert {\n",
              "      background-color: #E8F0FE;\n",
              "      border: none;\n",
              "      border-radius: 50%;\n",
              "      cursor: pointer;\n",
              "      display: none;\n",
              "      fill: #1967D2;\n",
              "      height: 32px;\n",
              "      padding: 0 0 0 0;\n",
              "      width: 32px;\n",
              "    }\n",
              "\n",
              "    .colab-df-convert:hover {\n",
              "      background-color: #E2EBFA;\n",
              "      box-shadow: 0px 1px 2px rgba(60, 64, 67, 0.3), 0px 1px 3px 1px rgba(60, 64, 67, 0.15);\n",
              "      fill: #174EA6;\n",
              "    }\n",
              "\n",
              "    [theme=dark] .colab-df-convert {\n",
              "      background-color: #3B4455;\n",
              "      fill: #D2E3FC;\n",
              "    }\n",
              "\n",
              "    [theme=dark] .colab-df-convert:hover {\n",
              "      background-color: #434B5C;\n",
              "      box-shadow: 0px 1px 3px 1px rgba(0, 0, 0, 0.15);\n",
              "      filter: drop-shadow(0px 1px 2px rgba(0, 0, 0, 0.3));\n",
              "      fill: #FFFFFF;\n",
              "    }\n",
              "  </style>\n",
              "\n",
              "      <script>\n",
              "        const buttonEl =\n",
              "          document.querySelector('#df-2adf8cf2-2d94-4e2b-b520-5d485e61d940 button.colab-df-convert');\n",
              "        buttonEl.style.display =\n",
              "          google.colab.kernel.accessAllowed ? 'block' : 'none';\n",
              "\n",
              "        async function convertToInteractive(key) {\n",
              "          const element = document.querySelector('#df-2adf8cf2-2d94-4e2b-b520-5d485e61d940');\n",
              "          const dataTable =\n",
              "            await google.colab.kernel.invokeFunction('convertToInteractive',\n",
              "                                                     [key], {});\n",
              "          if (!dataTable) return;\n",
              "\n",
              "          const docLinkHtml = 'Like what you see? Visit the ' +\n",
              "            '<a target=\"_blank\" href=https://colab.research.google.com/notebooks/data_table.ipynb>data table notebook</a>'\n",
              "            + ' to learn more about interactive tables.';\n",
              "          element.innerHTML = '';\n",
              "          dataTable['output_type'] = 'display_data';\n",
              "          await google.colab.output.renderOutput(dataTable, element);\n",
              "          const docLink = document.createElement('div');\n",
              "          docLink.innerHTML = docLinkHtml;\n",
              "          element.appendChild(docLink);\n",
              "        }\n",
              "      </script>\n",
              "    </div>\n",
              "  </div>\n",
              "  "
            ]
          },
          "metadata": {},
          "execution_count": 3
        }
      ],
      "source": [
        "url = 'https://raw.githubusercontent.com/ryandipp/sql-project-aparilo-ecomms/main/data/apo_ecom_orders.csv'\n",
        "orders = pd.read_csv(url, sep=';')\n",
        "orders.head()"
      ]
    },
    {
      "cell_type": "markdown",
      "metadata": {
        "id": "gI2IEiGGBjJp"
      },
      "source": [
        "2. importing dataframe#2 ORDER ITEMS\n"
      ]
    },
    {
      "cell_type": "code",
      "execution_count": null,
      "metadata": {
        "colab": {
          "base_uri": "https://localhost:8080/",
          "height": 206
        },
        "id": "nGpLU0DGAmyC",
        "outputId": "bff16550-68d8-4b24-ba83-78b964ce51fa"
      },
      "outputs": [
        {
          "output_type": "execute_result",
          "data": {
            "text/plain": [
              "       id  order_id  user_id  product_id  inventory_item_id    status  \\\n",
              "0  134723     92627    73944       13606             363175   Shipped   \n",
              "1   92042     63301    50599       13606             248352  Complete   \n",
              "2   75253     51752    41347       28951             202948   Shipped   \n",
              "3   17593     12085     9744       28951              47364  Complete   \n",
              "4  134660     92577    73900       28951             363006  Complete   \n",
              "\n",
              "            created_at           shipped_at         delivered_at returned_at  \\\n",
              "0  2020-09-16 15:54:03  2020-09-15 14:00:00                  NaN         NaN   \n",
              "1  2023-01-16 10:52:40  2023-01-16 21:29:00  2023-01-21 10:49:00         NaN   \n",
              "2  2023-03-08 14:19:30  2023-03-06 19:05:00                  NaN         NaN   \n",
              "3  2021-10-15 00:16:31  2021-10-17 16:29:00  2021-10-20 06:45:00         NaN   \n",
              "4  2023-04-16 17:02:17  2023-04-19 13:56:00  2023-04-20 17:53:00         NaN   \n",
              "\n",
              "   sale_price  \n",
              "0        2.50  \n",
              "1        2.50  \n",
              "2        3.00  \n",
              "3        3.00  \n",
              "4        3.00  "
            ],
            "text/html": [
              "\n",
              "  <div id=\"df-471218ea-0337-4bcc-a259-443baa26e458\">\n",
              "    <div class=\"colab-df-container\">\n",
              "      <div>\n",
              "<style scoped>\n",
              "    .dataframe tbody tr th:only-of-type {\n",
              "        vertical-align: middle;\n",
              "    }\n",
              "\n",
              "    .dataframe tbody tr th {\n",
              "        vertical-align: top;\n",
              "    }\n",
              "\n",
              "    .dataframe thead th {\n",
              "        text-align: right;\n",
              "    }\n",
              "</style>\n",
              "<table border=\"1\" class=\"dataframe\">\n",
              "  <thead>\n",
              "    <tr style=\"text-align: right;\">\n",
              "      <th></th>\n",
              "      <th>id</th>\n",
              "      <th>order_id</th>\n",
              "      <th>user_id</th>\n",
              "      <th>product_id</th>\n",
              "      <th>inventory_item_id</th>\n",
              "      <th>status</th>\n",
              "      <th>created_at</th>\n",
              "      <th>shipped_at</th>\n",
              "      <th>delivered_at</th>\n",
              "      <th>returned_at</th>\n",
              "      <th>sale_price</th>\n",
              "    </tr>\n",
              "  </thead>\n",
              "  <tbody>\n",
              "    <tr>\n",
              "      <th>0</th>\n",
              "      <td>134723</td>\n",
              "      <td>92627</td>\n",
              "      <td>73944</td>\n",
              "      <td>13606</td>\n",
              "      <td>363175</td>\n",
              "      <td>Shipped</td>\n",
              "      <td>2020-09-16 15:54:03</td>\n",
              "      <td>2020-09-15 14:00:00</td>\n",
              "      <td>NaN</td>\n",
              "      <td>NaN</td>\n",
              "      <td>2.50</td>\n",
              "    </tr>\n",
              "    <tr>\n",
              "      <th>1</th>\n",
              "      <td>92042</td>\n",
              "      <td>63301</td>\n",
              "      <td>50599</td>\n",
              "      <td>13606</td>\n",
              "      <td>248352</td>\n",
              "      <td>Complete</td>\n",
              "      <td>2023-01-16 10:52:40</td>\n",
              "      <td>2023-01-16 21:29:00</td>\n",
              "      <td>2023-01-21 10:49:00</td>\n",
              "      <td>NaN</td>\n",
              "      <td>2.50</td>\n",
              "    </tr>\n",
              "    <tr>\n",
              "      <th>2</th>\n",
              "      <td>75253</td>\n",
              "      <td>51752</td>\n",
              "      <td>41347</td>\n",
              "      <td>28951</td>\n",
              "      <td>202948</td>\n",
              "      <td>Shipped</td>\n",
              "      <td>2023-03-08 14:19:30</td>\n",
              "      <td>2023-03-06 19:05:00</td>\n",
              "      <td>NaN</td>\n",
              "      <td>NaN</td>\n",
              "      <td>3.00</td>\n",
              "    </tr>\n",
              "    <tr>\n",
              "      <th>3</th>\n",
              "      <td>17593</td>\n",
              "      <td>12085</td>\n",
              "      <td>9744</td>\n",
              "      <td>28951</td>\n",
              "      <td>47364</td>\n",
              "      <td>Complete</td>\n",
              "      <td>2021-10-15 00:16:31</td>\n",
              "      <td>2021-10-17 16:29:00</td>\n",
              "      <td>2021-10-20 06:45:00</td>\n",
              "      <td>NaN</td>\n",
              "      <td>3.00</td>\n",
              "    </tr>\n",
              "    <tr>\n",
              "      <th>4</th>\n",
              "      <td>134660</td>\n",
              "      <td>92577</td>\n",
              "      <td>73900</td>\n",
              "      <td>28951</td>\n",
              "      <td>363006</td>\n",
              "      <td>Complete</td>\n",
              "      <td>2023-04-16 17:02:17</td>\n",
              "      <td>2023-04-19 13:56:00</td>\n",
              "      <td>2023-04-20 17:53:00</td>\n",
              "      <td>NaN</td>\n",
              "      <td>3.00</td>\n",
              "    </tr>\n",
              "  </tbody>\n",
              "</table>\n",
              "</div>\n",
              "      <button class=\"colab-df-convert\" onclick=\"convertToInteractive('df-471218ea-0337-4bcc-a259-443baa26e458')\"\n",
              "              title=\"Convert this dataframe to an interactive table.\"\n",
              "              style=\"display:none;\">\n",
              "        \n",
              "  <svg xmlns=\"http://www.w3.org/2000/svg\" height=\"24px\"viewBox=\"0 0 24 24\"\n",
              "       width=\"24px\">\n",
              "    <path d=\"M0 0h24v24H0V0z\" fill=\"none\"/>\n",
              "    <path d=\"M18.56 5.44l.94 2.06.94-2.06 2.06-.94-2.06-.94-.94-2.06-.94 2.06-2.06.94zm-11 1L8.5 8.5l.94-2.06 2.06-.94-2.06-.94L8.5 2.5l-.94 2.06-2.06.94zm10 10l.94 2.06.94-2.06 2.06-.94-2.06-.94-.94-2.06-.94 2.06-2.06.94z\"/><path d=\"M17.41 7.96l-1.37-1.37c-.4-.4-.92-.59-1.43-.59-.52 0-1.04.2-1.43.59L10.3 9.45l-7.72 7.72c-.78.78-.78 2.05 0 2.83L4 21.41c.39.39.9.59 1.41.59.51 0 1.02-.2 1.41-.59l7.78-7.78 2.81-2.81c.8-.78.8-2.07 0-2.86zM5.41 20L4 18.59l7.72-7.72 1.47 1.35L5.41 20z\"/>\n",
              "  </svg>\n",
              "      </button>\n",
              "      \n",
              "  <style>\n",
              "    .colab-df-container {\n",
              "      display:flex;\n",
              "      flex-wrap:wrap;\n",
              "      gap: 12px;\n",
              "    }\n",
              "\n",
              "    .colab-df-convert {\n",
              "      background-color: #E8F0FE;\n",
              "      border: none;\n",
              "      border-radius: 50%;\n",
              "      cursor: pointer;\n",
              "      display: none;\n",
              "      fill: #1967D2;\n",
              "      height: 32px;\n",
              "      padding: 0 0 0 0;\n",
              "      width: 32px;\n",
              "    }\n",
              "\n",
              "    .colab-df-convert:hover {\n",
              "      background-color: #E2EBFA;\n",
              "      box-shadow: 0px 1px 2px rgba(60, 64, 67, 0.3), 0px 1px 3px 1px rgba(60, 64, 67, 0.15);\n",
              "      fill: #174EA6;\n",
              "    }\n",
              "\n",
              "    [theme=dark] .colab-df-convert {\n",
              "      background-color: #3B4455;\n",
              "      fill: #D2E3FC;\n",
              "    }\n",
              "\n",
              "    [theme=dark] .colab-df-convert:hover {\n",
              "      background-color: #434B5C;\n",
              "      box-shadow: 0px 1px 3px 1px rgba(0, 0, 0, 0.15);\n",
              "      filter: drop-shadow(0px 1px 2px rgba(0, 0, 0, 0.3));\n",
              "      fill: #FFFFFF;\n",
              "    }\n",
              "  </style>\n",
              "\n",
              "      <script>\n",
              "        const buttonEl =\n",
              "          document.querySelector('#df-471218ea-0337-4bcc-a259-443baa26e458 button.colab-df-convert');\n",
              "        buttonEl.style.display =\n",
              "          google.colab.kernel.accessAllowed ? 'block' : 'none';\n",
              "\n",
              "        async function convertToInteractive(key) {\n",
              "          const element = document.querySelector('#df-471218ea-0337-4bcc-a259-443baa26e458');\n",
              "          const dataTable =\n",
              "            await google.colab.kernel.invokeFunction('convertToInteractive',\n",
              "                                                     [key], {});\n",
              "          if (!dataTable) return;\n",
              "\n",
              "          const docLinkHtml = 'Like what you see? Visit the ' +\n",
              "            '<a target=\"_blank\" href=https://colab.research.google.com/notebooks/data_table.ipynb>data table notebook</a>'\n",
              "            + ' to learn more about interactive tables.';\n",
              "          element.innerHTML = '';\n",
              "          dataTable['output_type'] = 'display_data';\n",
              "          await google.colab.output.renderOutput(dataTable, element);\n",
              "          const docLink = document.createElement('div');\n",
              "          docLink.innerHTML = docLinkHtml;\n",
              "          element.appendChild(docLink);\n",
              "        }\n",
              "      </script>\n",
              "    </div>\n",
              "  </div>\n",
              "  "
            ]
          },
          "metadata": {},
          "execution_count": 4
        }
      ],
      "source": [
        "url = 'https://raw.githubusercontent.com/ryandipp/sql-project-aparilo-ecomms/main/data/apo_ecom_orderitems.csv'\n",
        "oitems = pd.read_csv(url, sep=';')\n",
        "oitems.head()"
      ]
    },
    {
      "cell_type": "markdown",
      "metadata": {
        "id": "VEI9Gz585RY8"
      },
      "source": [
        "3. importing dataframe#3 PRODUCTS\n"
      ]
    },
    {
      "cell_type": "code",
      "execution_count": null,
      "metadata": {
        "colab": {
          "base_uri": "https://localhost:8080/",
          "height": 250
        },
        "id": "hqmmI6Mu5S5A",
        "outputId": "551dfd64-a6d9-48d4-8877-c3027ceb6584"
      },
      "outputs": [
        {
          "output_type": "execute_result",
          "data": {
            "text/plain": [
              "      id  cost category                                               name  \\\n",
              "0  27569 92.65     Swim     2XU Men's Swimmers Compression Long Sleeve Top   \n",
              "1  27445 24.72     Swim         TYR Sport Men's Square Leg Short Swim Suit   \n",
              "2  27457 15.90     Swim    TYR Sport Men's Solid Durafast Jammer Swim Suit   \n",
              "3  27466 17.85     Swim  TYR Sport Men's Swim Short/Resistance Short Sw...   \n",
              "4  27481 29.41     Swim                    TYR Alliance Team Splice Jammer   \n",
              "\n",
              "  brand  retail_price department                               sku  \\\n",
              "0   2XU        150.41        Men  B23C5765E165D83AA924FA8F13C05F25   \n",
              "1   TYR         38.99        Men  2AB7D3B23574C3DEA2BD278AFD0939AB   \n",
              "2   TYR         27.60        Men  8F831227B0EB6C6D09A0555531365933   \n",
              "3   TYR         30.00        Men  67317D6DCC4CB778AEB9219565F5456B   \n",
              "4   TYR         45.95        Men  213C888198806EF1A0E2BBF2F4855C6C   \n",
              "\n",
              "   distribution_center_id  \n",
              "0                    1.00  \n",
              "1                    1.00  \n",
              "2                    1.00  \n",
              "3                    1.00  \n",
              "4                    1.00  "
            ],
            "text/html": [
              "\n",
              "  <div id=\"df-fa34c577-27bc-4012-9395-4388a52e7689\">\n",
              "    <div class=\"colab-df-container\">\n",
              "      <div>\n",
              "<style scoped>\n",
              "    .dataframe tbody tr th:only-of-type {\n",
              "        vertical-align: middle;\n",
              "    }\n",
              "\n",
              "    .dataframe tbody tr th {\n",
              "        vertical-align: top;\n",
              "    }\n",
              "\n",
              "    .dataframe thead th {\n",
              "        text-align: right;\n",
              "    }\n",
              "</style>\n",
              "<table border=\"1\" class=\"dataframe\">\n",
              "  <thead>\n",
              "    <tr style=\"text-align: right;\">\n",
              "      <th></th>\n",
              "      <th>id</th>\n",
              "      <th>cost</th>\n",
              "      <th>category</th>\n",
              "      <th>name</th>\n",
              "      <th>brand</th>\n",
              "      <th>retail_price</th>\n",
              "      <th>department</th>\n",
              "      <th>sku</th>\n",
              "      <th>distribution_center_id</th>\n",
              "    </tr>\n",
              "  </thead>\n",
              "  <tbody>\n",
              "    <tr>\n",
              "      <th>0</th>\n",
              "      <td>27569</td>\n",
              "      <td>92.65</td>\n",
              "      <td>Swim</td>\n",
              "      <td>2XU Men's Swimmers Compression Long Sleeve Top</td>\n",
              "      <td>2XU</td>\n",
              "      <td>150.41</td>\n",
              "      <td>Men</td>\n",
              "      <td>B23C5765E165D83AA924FA8F13C05F25</td>\n",
              "      <td>1.00</td>\n",
              "    </tr>\n",
              "    <tr>\n",
              "      <th>1</th>\n",
              "      <td>27445</td>\n",
              "      <td>24.72</td>\n",
              "      <td>Swim</td>\n",
              "      <td>TYR Sport Men's Square Leg Short Swim Suit</td>\n",
              "      <td>TYR</td>\n",
              "      <td>38.99</td>\n",
              "      <td>Men</td>\n",
              "      <td>2AB7D3B23574C3DEA2BD278AFD0939AB</td>\n",
              "      <td>1.00</td>\n",
              "    </tr>\n",
              "    <tr>\n",
              "      <th>2</th>\n",
              "      <td>27457</td>\n",
              "      <td>15.90</td>\n",
              "      <td>Swim</td>\n",
              "      <td>TYR Sport Men's Solid Durafast Jammer Swim Suit</td>\n",
              "      <td>TYR</td>\n",
              "      <td>27.60</td>\n",
              "      <td>Men</td>\n",
              "      <td>8F831227B0EB6C6D09A0555531365933</td>\n",
              "      <td>1.00</td>\n",
              "    </tr>\n",
              "    <tr>\n",
              "      <th>3</th>\n",
              "      <td>27466</td>\n",
              "      <td>17.85</td>\n",
              "      <td>Swim</td>\n",
              "      <td>TYR Sport Men's Swim Short/Resistance Short Sw...</td>\n",
              "      <td>TYR</td>\n",
              "      <td>30.00</td>\n",
              "      <td>Men</td>\n",
              "      <td>67317D6DCC4CB778AEB9219565F5456B</td>\n",
              "      <td>1.00</td>\n",
              "    </tr>\n",
              "    <tr>\n",
              "      <th>4</th>\n",
              "      <td>27481</td>\n",
              "      <td>29.41</td>\n",
              "      <td>Swim</td>\n",
              "      <td>TYR Alliance Team Splice Jammer</td>\n",
              "      <td>TYR</td>\n",
              "      <td>45.95</td>\n",
              "      <td>Men</td>\n",
              "      <td>213C888198806EF1A0E2BBF2F4855C6C</td>\n",
              "      <td>1.00</td>\n",
              "    </tr>\n",
              "  </tbody>\n",
              "</table>\n",
              "</div>\n",
              "      <button class=\"colab-df-convert\" onclick=\"convertToInteractive('df-fa34c577-27bc-4012-9395-4388a52e7689')\"\n",
              "              title=\"Convert this dataframe to an interactive table.\"\n",
              "              style=\"display:none;\">\n",
              "        \n",
              "  <svg xmlns=\"http://www.w3.org/2000/svg\" height=\"24px\"viewBox=\"0 0 24 24\"\n",
              "       width=\"24px\">\n",
              "    <path d=\"M0 0h24v24H0V0z\" fill=\"none\"/>\n",
              "    <path d=\"M18.56 5.44l.94 2.06.94-2.06 2.06-.94-2.06-.94-.94-2.06-.94 2.06-2.06.94zm-11 1L8.5 8.5l.94-2.06 2.06-.94-2.06-.94L8.5 2.5l-.94 2.06-2.06.94zm10 10l.94 2.06.94-2.06 2.06-.94-2.06-.94-.94-2.06-.94 2.06-2.06.94z\"/><path d=\"M17.41 7.96l-1.37-1.37c-.4-.4-.92-.59-1.43-.59-.52 0-1.04.2-1.43.59L10.3 9.45l-7.72 7.72c-.78.78-.78 2.05 0 2.83L4 21.41c.39.39.9.59 1.41.59.51 0 1.02-.2 1.41-.59l7.78-7.78 2.81-2.81c.8-.78.8-2.07 0-2.86zM5.41 20L4 18.59l7.72-7.72 1.47 1.35L5.41 20z\"/>\n",
              "  </svg>\n",
              "      </button>\n",
              "      \n",
              "  <style>\n",
              "    .colab-df-container {\n",
              "      display:flex;\n",
              "      flex-wrap:wrap;\n",
              "      gap: 12px;\n",
              "    }\n",
              "\n",
              "    .colab-df-convert {\n",
              "      background-color: #E8F0FE;\n",
              "      border: none;\n",
              "      border-radius: 50%;\n",
              "      cursor: pointer;\n",
              "      display: none;\n",
              "      fill: #1967D2;\n",
              "      height: 32px;\n",
              "      padding: 0 0 0 0;\n",
              "      width: 32px;\n",
              "    }\n",
              "\n",
              "    .colab-df-convert:hover {\n",
              "      background-color: #E2EBFA;\n",
              "      box-shadow: 0px 1px 2px rgba(60, 64, 67, 0.3), 0px 1px 3px 1px rgba(60, 64, 67, 0.15);\n",
              "      fill: #174EA6;\n",
              "    }\n",
              "\n",
              "    [theme=dark] .colab-df-convert {\n",
              "      background-color: #3B4455;\n",
              "      fill: #D2E3FC;\n",
              "    }\n",
              "\n",
              "    [theme=dark] .colab-df-convert:hover {\n",
              "      background-color: #434B5C;\n",
              "      box-shadow: 0px 1px 3px 1px rgba(0, 0, 0, 0.15);\n",
              "      filter: drop-shadow(0px 1px 2px rgba(0, 0, 0, 0.3));\n",
              "      fill: #FFFFFF;\n",
              "    }\n",
              "  </style>\n",
              "\n",
              "      <script>\n",
              "        const buttonEl =\n",
              "          document.querySelector('#df-fa34c577-27bc-4012-9395-4388a52e7689 button.colab-df-convert');\n",
              "        buttonEl.style.display =\n",
              "          google.colab.kernel.accessAllowed ? 'block' : 'none';\n",
              "\n",
              "        async function convertToInteractive(key) {\n",
              "          const element = document.querySelector('#df-fa34c577-27bc-4012-9395-4388a52e7689');\n",
              "          const dataTable =\n",
              "            await google.colab.kernel.invokeFunction('convertToInteractive',\n",
              "                                                     [key], {});\n",
              "          if (!dataTable) return;\n",
              "\n",
              "          const docLinkHtml = 'Like what you see? Visit the ' +\n",
              "            '<a target=\"_blank\" href=https://colab.research.google.com/notebooks/data_table.ipynb>data table notebook</a>'\n",
              "            + ' to learn more about interactive tables.';\n",
              "          element.innerHTML = '';\n",
              "          dataTable['output_type'] = 'display_data';\n",
              "          await google.colab.output.renderOutput(dataTable, element);\n",
              "          const docLink = document.createElement('div');\n",
              "          docLink.innerHTML = docLinkHtml;\n",
              "          element.appendChild(docLink);\n",
              "        }\n",
              "      </script>\n",
              "    </div>\n",
              "  </div>\n",
              "  "
            ]
          },
          "metadata": {},
          "execution_count": 5
        }
      ],
      "source": [
        "url = 'https://raw.githubusercontent.com/ryandipp/sql-project-aparilo-ecomms/main/data/apo_ecom_products.csv'\n",
        "products = pd.read_csv(url, sep = ';') \n",
        "products.head()"
      ]
    },
    {
      "cell_type": "markdown",
      "metadata": {
        "id": "maYzgaIP511E"
      },
      "source": [
        "4. importing dataframe#4 USERS"
      ]
    },
    {
      "cell_type": "code",
      "execution_count": null,
      "metadata": {
        "colab": {
          "base_uri": "https://localhost:8080/",
          "height": 357
        },
        "id": "T2Nad3rh536-",
        "outputId": "347ba563-c625-4ada-b936-dca74cef3a0f"
      },
      "outputs": [
        {
          "output_type": "execute_result",
          "data": {
            "text/plain": [
              "      id   first_name   last_name                            email  age  \\\n",
              "0  14362         Mary      Harper             maryharper@gmail.com   59   \n",
              "1  73189  Christopher  Richardson  christopherrichardson@gmail.com   24   \n",
              "2    327     Courtney       Smith          courtneysmith@gmail.com   45   \n",
              "3  10449      Tiffany         Cox             tiffanycox@gmail.com   65   \n",
              "4  17456       Brandi   Gutierrez        brandigutierrez@gmail.com   68   \n",
              "\n",
              "  gender state                street_address postal_code         city country  \\\n",
              "0      F   Mie        3993 Rodriguez Squares    513-0836  Suzuka City   Japan   \n",
              "1      M   Mie  40390 Andrea Plaza Suite 795    513-0836  Suzuka City   Japan   \n",
              "2      F  Acre           218 Jeanette Fields   69917-400   Rio Branco  Brasil   \n",
              "3      F  Acre   5342 Cheyenne Pass Apt. 492   69917-400   Rio Branco  Brasil   \n",
              "4      F  Acre             84830 Angie Forge   69917-400   Rio Branco  Brasil   \n",
              "\n",
              "   latitude  longitude traffic_source           created_at  \n",
              "0     34.85     136.51         Search  2019-11-19 15:56:00  \n",
              "1     34.85     136.51          Email  2021-12-21 06:43:00  \n",
              "2     -9.95     -67.84         Search  2020-10-16 18:18:00  \n",
              "3     -9.95     -67.84          Email  2022-12-16 02:15:00  \n",
              "4     -9.95     -67.84         Search  2021-08-30 07:54:00  "
            ],
            "text/html": [
              "\n",
              "  <div id=\"df-0d263869-07d8-49aa-a5c4-dbba76c8e5db\">\n",
              "    <div class=\"colab-df-container\">\n",
              "      <div>\n",
              "<style scoped>\n",
              "    .dataframe tbody tr th:only-of-type {\n",
              "        vertical-align: middle;\n",
              "    }\n",
              "\n",
              "    .dataframe tbody tr th {\n",
              "        vertical-align: top;\n",
              "    }\n",
              "\n",
              "    .dataframe thead th {\n",
              "        text-align: right;\n",
              "    }\n",
              "</style>\n",
              "<table border=\"1\" class=\"dataframe\">\n",
              "  <thead>\n",
              "    <tr style=\"text-align: right;\">\n",
              "      <th></th>\n",
              "      <th>id</th>\n",
              "      <th>first_name</th>\n",
              "      <th>last_name</th>\n",
              "      <th>email</th>\n",
              "      <th>age</th>\n",
              "      <th>gender</th>\n",
              "      <th>state</th>\n",
              "      <th>street_address</th>\n",
              "      <th>postal_code</th>\n",
              "      <th>city</th>\n",
              "      <th>country</th>\n",
              "      <th>latitude</th>\n",
              "      <th>longitude</th>\n",
              "      <th>traffic_source</th>\n",
              "      <th>created_at</th>\n",
              "    </tr>\n",
              "  </thead>\n",
              "  <tbody>\n",
              "    <tr>\n",
              "      <th>0</th>\n",
              "      <td>14362</td>\n",
              "      <td>Mary</td>\n",
              "      <td>Harper</td>\n",
              "      <td>maryharper@gmail.com</td>\n",
              "      <td>59</td>\n",
              "      <td>F</td>\n",
              "      <td>Mie</td>\n",
              "      <td>3993 Rodriguez Squares</td>\n",
              "      <td>513-0836</td>\n",
              "      <td>Suzuka City</td>\n",
              "      <td>Japan</td>\n",
              "      <td>34.85</td>\n",
              "      <td>136.51</td>\n",
              "      <td>Search</td>\n",
              "      <td>2019-11-19 15:56:00</td>\n",
              "    </tr>\n",
              "    <tr>\n",
              "      <th>1</th>\n",
              "      <td>73189</td>\n",
              "      <td>Christopher</td>\n",
              "      <td>Richardson</td>\n",
              "      <td>christopherrichardson@gmail.com</td>\n",
              "      <td>24</td>\n",
              "      <td>M</td>\n",
              "      <td>Mie</td>\n",
              "      <td>40390 Andrea Plaza Suite 795</td>\n",
              "      <td>513-0836</td>\n",
              "      <td>Suzuka City</td>\n",
              "      <td>Japan</td>\n",
              "      <td>34.85</td>\n",
              "      <td>136.51</td>\n",
              "      <td>Email</td>\n",
              "      <td>2021-12-21 06:43:00</td>\n",
              "    </tr>\n",
              "    <tr>\n",
              "      <th>2</th>\n",
              "      <td>327</td>\n",
              "      <td>Courtney</td>\n",
              "      <td>Smith</td>\n",
              "      <td>courtneysmith@gmail.com</td>\n",
              "      <td>45</td>\n",
              "      <td>F</td>\n",
              "      <td>Acre</td>\n",
              "      <td>218 Jeanette Fields</td>\n",
              "      <td>69917-400</td>\n",
              "      <td>Rio Branco</td>\n",
              "      <td>Brasil</td>\n",
              "      <td>-9.95</td>\n",
              "      <td>-67.84</td>\n",
              "      <td>Search</td>\n",
              "      <td>2020-10-16 18:18:00</td>\n",
              "    </tr>\n",
              "    <tr>\n",
              "      <th>3</th>\n",
              "      <td>10449</td>\n",
              "      <td>Tiffany</td>\n",
              "      <td>Cox</td>\n",
              "      <td>tiffanycox@gmail.com</td>\n",
              "      <td>65</td>\n",
              "      <td>F</td>\n",
              "      <td>Acre</td>\n",
              "      <td>5342 Cheyenne Pass Apt. 492</td>\n",
              "      <td>69917-400</td>\n",
              "      <td>Rio Branco</td>\n",
              "      <td>Brasil</td>\n",
              "      <td>-9.95</td>\n",
              "      <td>-67.84</td>\n",
              "      <td>Email</td>\n",
              "      <td>2022-12-16 02:15:00</td>\n",
              "    </tr>\n",
              "    <tr>\n",
              "      <th>4</th>\n",
              "      <td>17456</td>\n",
              "      <td>Brandi</td>\n",
              "      <td>Gutierrez</td>\n",
              "      <td>brandigutierrez@gmail.com</td>\n",
              "      <td>68</td>\n",
              "      <td>F</td>\n",
              "      <td>Acre</td>\n",
              "      <td>84830 Angie Forge</td>\n",
              "      <td>69917-400</td>\n",
              "      <td>Rio Branco</td>\n",
              "      <td>Brasil</td>\n",
              "      <td>-9.95</td>\n",
              "      <td>-67.84</td>\n",
              "      <td>Search</td>\n",
              "      <td>2021-08-30 07:54:00</td>\n",
              "    </tr>\n",
              "  </tbody>\n",
              "</table>\n",
              "</div>\n",
              "      <button class=\"colab-df-convert\" onclick=\"convertToInteractive('df-0d263869-07d8-49aa-a5c4-dbba76c8e5db')\"\n",
              "              title=\"Convert this dataframe to an interactive table.\"\n",
              "              style=\"display:none;\">\n",
              "        \n",
              "  <svg xmlns=\"http://www.w3.org/2000/svg\" height=\"24px\"viewBox=\"0 0 24 24\"\n",
              "       width=\"24px\">\n",
              "    <path d=\"M0 0h24v24H0V0z\" fill=\"none\"/>\n",
              "    <path d=\"M18.56 5.44l.94 2.06.94-2.06 2.06-.94-2.06-.94-.94-2.06-.94 2.06-2.06.94zm-11 1L8.5 8.5l.94-2.06 2.06-.94-2.06-.94L8.5 2.5l-.94 2.06-2.06.94zm10 10l.94 2.06.94-2.06 2.06-.94-2.06-.94-.94-2.06-.94 2.06-2.06.94z\"/><path d=\"M17.41 7.96l-1.37-1.37c-.4-.4-.92-.59-1.43-.59-.52 0-1.04.2-1.43.59L10.3 9.45l-7.72 7.72c-.78.78-.78 2.05 0 2.83L4 21.41c.39.39.9.59 1.41.59.51 0 1.02-.2 1.41-.59l7.78-7.78 2.81-2.81c.8-.78.8-2.07 0-2.86zM5.41 20L4 18.59l7.72-7.72 1.47 1.35L5.41 20z\"/>\n",
              "  </svg>\n",
              "      </button>\n",
              "      \n",
              "  <style>\n",
              "    .colab-df-container {\n",
              "      display:flex;\n",
              "      flex-wrap:wrap;\n",
              "      gap: 12px;\n",
              "    }\n",
              "\n",
              "    .colab-df-convert {\n",
              "      background-color: #E8F0FE;\n",
              "      border: none;\n",
              "      border-radius: 50%;\n",
              "      cursor: pointer;\n",
              "      display: none;\n",
              "      fill: #1967D2;\n",
              "      height: 32px;\n",
              "      padding: 0 0 0 0;\n",
              "      width: 32px;\n",
              "    }\n",
              "\n",
              "    .colab-df-convert:hover {\n",
              "      background-color: #E2EBFA;\n",
              "      box-shadow: 0px 1px 2px rgba(60, 64, 67, 0.3), 0px 1px 3px 1px rgba(60, 64, 67, 0.15);\n",
              "      fill: #174EA6;\n",
              "    }\n",
              "\n",
              "    [theme=dark] .colab-df-convert {\n",
              "      background-color: #3B4455;\n",
              "      fill: #D2E3FC;\n",
              "    }\n",
              "\n",
              "    [theme=dark] .colab-df-convert:hover {\n",
              "      background-color: #434B5C;\n",
              "      box-shadow: 0px 1px 3px 1px rgba(0, 0, 0, 0.15);\n",
              "      filter: drop-shadow(0px 1px 2px rgba(0, 0, 0, 0.3));\n",
              "      fill: #FFFFFF;\n",
              "    }\n",
              "  </style>\n",
              "\n",
              "      <script>\n",
              "        const buttonEl =\n",
              "          document.querySelector('#df-0d263869-07d8-49aa-a5c4-dbba76c8e5db button.colab-df-convert');\n",
              "        buttonEl.style.display =\n",
              "          google.colab.kernel.accessAllowed ? 'block' : 'none';\n",
              "\n",
              "        async function convertToInteractive(key) {\n",
              "          const element = document.querySelector('#df-0d263869-07d8-49aa-a5c4-dbba76c8e5db');\n",
              "          const dataTable =\n",
              "            await google.colab.kernel.invokeFunction('convertToInteractive',\n",
              "                                                     [key], {});\n",
              "          if (!dataTable) return;\n",
              "\n",
              "          const docLinkHtml = 'Like what you see? Visit the ' +\n",
              "            '<a target=\"_blank\" href=https://colab.research.google.com/notebooks/data_table.ipynb>data table notebook</a>'\n",
              "            + ' to learn more about interactive tables.';\n",
              "          element.innerHTML = '';\n",
              "          dataTable['output_type'] = 'display_data';\n",
              "          await google.colab.output.renderOutput(dataTable, element);\n",
              "          const docLink = document.createElement('div');\n",
              "          docLink.innerHTML = docLinkHtml;\n",
              "          element.appendChild(docLink);\n",
              "        }\n",
              "      </script>\n",
              "    </div>\n",
              "  </div>\n",
              "  "
            ]
          },
          "metadata": {},
          "execution_count": 6
        }
      ],
      "source": [
        "url = 'https://raw.githubusercontent.com/ryandipp/sql-project-aparilo-ecomms/main/data/apo_ecom_users.csv'\n",
        "users = pd.read_csv(url, sep = ';')\n",
        "users.head()"
      ]
    },
    {
      "cell_type": "markdown",
      "metadata": {
        "id": "bmwwxMWcCyCp"
      },
      "source": [
        "# Data Cleaning: fixing: data type, null, duplicates"
      ]
    },
    {
      "cell_type": "markdown",
      "metadata": {
        "id": "7L8XhB9PpwZj"
      },
      "source": [
        "copy all original DF (data frame)"
      ]
    },
    {
      "cell_type": "code",
      "execution_count": null,
      "metadata": {
        "id": "oRwCQ-gBC3DK"
      },
      "outputs": [],
      "source": [
        "t_orders = orders.copy()\n",
        "t_oitems = oitems.copy()\n",
        "t_products = products.copy()\n",
        "t_users = users.copy()\n",
        "#copying done"
      ]
    },
    {
      "cell_type": "markdown",
      "metadata": {
        "id": "kTkKAh5IF45X"
      },
      "source": [
        "##DF orders treatment"
      ]
    },
    {
      "cell_type": "code",
      "execution_count": null,
      "metadata": {
        "id": "ej1iDvzfHEGd"
      },
      "outputs": [],
      "source": [
        "t_orders['created_at'] = pd.to_datetime(t_orders['created_at'], format = '%Y-%m-%d %H:%M:%S')\n",
        "t_orders['returned_at'] = pd.to_datetime(t_orders['returned_at'], format = '%Y-%m-%d %H:%M:%S')\n",
        "t_orders['shipped_at'] = pd.to_datetime(t_orders['shipped_at'], format = '%Y-%m-%d %H:%M:%S')\n",
        "t_orders['delivered_at'] = pd.to_datetime(t_orders['delivered_at'], format = '%Y-%m-%d %H:%M:%S')"
      ]
    },
    {
      "cell_type": "code",
      "execution_count": null,
      "metadata": {
        "id": "-Dw_zbhjTJgB"
      },
      "outputs": [],
      "source": [
        "t_orders.sort_values(['order_id'], ascending= True, inplace= True)"
      ]
    },
    {
      "cell_type": "markdown",
      "metadata": {
        "id": "vvncAtDYV5eG"
      },
      "source": [
        "##DF orderitems (oi) treatment"
      ]
    },
    {
      "cell_type": "code",
      "execution_count": null,
      "metadata": {
        "id": "NVrFJvSL1-jR"
      },
      "outputs": [],
      "source": [
        "t_oitems['created_at'] = pd.to_datetime(t_oitems['created_at'], format = '%Y-%m-%d %H:%M:%S')\n",
        "t_oitems['returned_at'] = pd.to_datetime(t_oitems['returned_at'], format = '%Y-%m-%d %H:%M:%S')\n",
        "t_oitems['shipped_at'] = pd.to_datetime(t_oitems['shipped_at'], format = '%Y-%m-%d %H:%M:%S')\n",
        "t_oitems['delivered_at'] = pd.to_datetime(t_oitems['delivered_at'], format = '%Y-%m-%d %H:%M:%S')"
      ]
    },
    {
      "cell_type": "code",
      "execution_count": null,
      "metadata": {
        "id": "J4AJxKWh2oug"
      },
      "outputs": [],
      "source": [
        "t_oitems.sort_values(['order_id'], ascending= True, inplace= True)"
      ]
    },
    {
      "cell_type": "markdown",
      "metadata": {
        "id": "uYD-4KdCW-53"
      },
      "source": [
        "##DF users treatment"
      ]
    },
    {
      "cell_type": "code",
      "execution_count": null,
      "metadata": {
        "id": "FIWblAgdYELl",
        "colab": {
          "base_uri": "https://localhost:8080/"
        },
        "outputId": "3f67ef30-6175-4eab-b56a-6e0b0258260d"
      },
      "outputs": [
        {
          "output_type": "stream",
          "name": "stdout",
          "text": [
            "<class 'pandas.core.frame.DataFrame'>\n",
            "Int64Index: 100000 entries, 5953 to 68652\n",
            "Data columns (total 15 columns):\n",
            " #   Column          Non-Null Count   Dtype  \n",
            "---  ------          --------------   -----  \n",
            " 0   id              100000 non-null  int64  \n",
            " 1   first_name      100000 non-null  object \n",
            " 2   last_name       100000 non-null  object \n",
            " 3   email           100000 non-null  object \n",
            " 4   age             100000 non-null  int64  \n",
            " 5   gender          100000 non-null  object \n",
            " 6   state           100000 non-null  object \n",
            " 7   street_address  100000 non-null  object \n",
            " 8   postal_code     100000 non-null  object \n",
            " 9   city            99037 non-null   object \n",
            " 10  country         100000 non-null  object \n",
            " 11  latitude        100000 non-null  float64\n",
            " 12  longitude       100000 non-null  float64\n",
            " 13  traffic_source  100000 non-null  object \n",
            " 14  created_at      100000 non-null  object \n",
            "dtypes: float64(2), int64(2), object(11)\n",
            "memory usage: 12.2+ MB\n"
          ]
        }
      ],
      "source": [
        "t_users.sort_values(['id'], ascending= True, inplace= True)\n",
        "t_users.info()\n",
        "#found nulls in 'city' DS (dataseries)"
      ]
    },
    {
      "cell_type": "markdown",
      "source": [
        "converting account 'created_at' to date only"
      ],
      "metadata": {
        "id": "bF6UvHv6Peo2"
      }
    },
    {
      "cell_type": "code",
      "execution_count": null,
      "metadata": {
        "id": "bPubmUFmXnNu"
      },
      "outputs": [],
      "source": [
        "t_users['created_at'] = pd.to_datetime(t_users['created_at'], format= '%Y-%m-%d %H:%M:%S').dt.date"
      ]
    },
    {
      "cell_type": "code",
      "execution_count": null,
      "metadata": {
        "id": "brg2f_Lz8K8C"
      },
      "outputs": [],
      "source": [
        "t_users['created_at'] = pd.to_datetime(t_users['created_at'], format= '%Y-%m-%d')"
      ]
    },
    {
      "cell_type": "code",
      "execution_count": null,
      "metadata": {
        "id": "vA7zz-L3hS-M"
      },
      "outputs": [],
      "source": [
        "t_users.dropna(subset= ['city'], inplace = True)"
      ]
    },
    {
      "cell_type": "markdown",
      "source": [
        "##DF products treatment"
      ],
      "metadata": {
        "id": "KSDSD85VPocK"
      }
    },
    {
      "cell_type": "code",
      "execution_count": null,
      "metadata": {
        "id": "7duCycVIgC3V",
        "colab": {
          "base_uri": "https://localhost:8080/"
        },
        "outputId": "3dbff71f-af96-42f4-b3c8-a15bc5c2fa23"
      },
      "outputs": [
        {
          "output_type": "stream",
          "name": "stdout",
          "text": [
            "<class 'pandas.core.frame.DataFrame'>\n",
            "RangeIndex: 29120 entries, 0 to 29119\n",
            "Data columns (total 9 columns):\n",
            " #   Column                  Non-Null Count  Dtype  \n",
            "---  ------                  --------------  -----  \n",
            " 0   id                      29120 non-null  int64  \n",
            " 1   cost                    29120 non-null  float64\n",
            " 2   category                29120 non-null  object \n",
            " 3   name                    29118 non-null  object \n",
            " 4   brand                   29074 non-null  object \n",
            " 5   retail_price            29120 non-null  float64\n",
            " 6   department              29095 non-null  object \n",
            " 7   sku                     29095 non-null  object \n",
            " 8   distribution_center_id  29095 non-null  float64\n",
            "dtypes: float64(3), int64(1), object(5)\n",
            "memory usage: 2.0+ MB\n"
          ]
        }
      ],
      "source": [
        "t_products.info()\n",
        "#findings: products without SKU, department, distributor info (<1% of all data)\n",
        "#          name & brand DS nulls -> can be manipulated by filling each other"
      ]
    },
    {
      "cell_type": "code",
      "execution_count": null,
      "metadata": {
        "id": "BvIQZNfqhzRS"
      },
      "outputs": [],
      "source": [
        "t_products.dropna(subset = ['department','sku','distribution_center_id'], inplace= True)"
      ]
    },
    {
      "cell_type": "markdown",
      "source": [
        "filling name & brand DS with eachother"
      ],
      "metadata": {
        "id": "Ih0Yx1lMTgJK"
      }
    },
    {
      "cell_type": "code",
      "source": [
        "t_products['brand'].fillna(t_products['name'].str.split().str[:3].str.join(' '), inplace= True)"
      ],
      "metadata": {
        "id": "vPSGuQQeRqai"
      },
      "execution_count": null,
      "outputs": []
    },
    {
      "cell_type": "code",
      "source": [
        "t_products['name'].fillna(t_products['brand'], inplace= True)"
      ],
      "metadata": {
        "id": "tuPbnFx7U_lo"
      },
      "execution_count": null,
      "outputs": []
    },
    {
      "cell_type": "markdown",
      "source": [
        "we will fix all datatype of DS columns later"
      ],
      "metadata": {
        "id": "vluE1i_4ZSa_"
      }
    },
    {
      "cell_type": "markdown",
      "metadata": {
        "id": "f2f6GMhd0-VP"
      },
      "source": [
        "saving cleaned up & formatted DFs\n"
      ]
    },
    {
      "cell_type": "code",
      "execution_count": null,
      "metadata": {
        "id": "MpRaOf4BgzoL"
      },
      "outputs": [],
      "source": [
        "d_orders = t_orders.copy()\n",
        "d_oitems = t_oitems.copy()\n",
        "d_users = t_users.copy()\n",
        "d_products = t_products.copy()"
      ]
    },
    {
      "cell_type": "markdown",
      "metadata": {
        "id": "yMWgu4d2hTik"
      },
      "source": [
        "##Checking all DF contents"
      ]
    },
    {
      "cell_type": "code",
      "execution_count": null,
      "metadata": {
        "id": "AYCVMW2YjTT0"
      },
      "outputs": [],
      "source": [
        "def check_values(df):\n",
        "  for c in df.columns:\n",
        "    unique_qty = df[c].value_counts()\n",
        "    print(f'Column: {c}')\n",
        "    print(unique_qty, '\\n')"
      ]
    },
    {
      "cell_type": "code",
      "source": [
        "check_values(d_users) #fill function argument with all DF"
      ],
      "metadata": {
        "colab": {
          "base_uri": "https://localhost:8080/"
        },
        "id": "OmK31QjgXyui",
        "outputId": "ec430a43-511d-4c5a-d884-c483859ff441"
      },
      "execution_count": null,
      "outputs": [
        {
          "output_type": "stream",
          "name": "stdout",
          "text": [
            "Column: id\n",
            "14362    1\n",
            "36812    1\n",
            "75431    1\n",
            "72719    1\n",
            "62299    1\n",
            "        ..\n",
            "28533    1\n",
            "23345    1\n",
            "19013    1\n",
            "11662    1\n",
            "70300    1\n",
            "Name: id, Length: 99037, dtype: int64 \n",
            "\n",
            "Column: first_name\n",
            "Michael        2230\n",
            "James          1534\n",
            "David          1528\n",
            "Jennifer       1453\n",
            "Christopher    1387\n",
            "               ... \n",
            "Neil              6\n",
            "Darin             6\n",
            "Kellie            6\n",
            "Gene              6\n",
            "Perry             5\n",
            "Name: first_name, Length: 690, dtype: int64 \n",
            "\n",
            "Column: last_name\n",
            "Smith       2171\n",
            "Johnson     1711\n",
            "Williams    1407\n",
            "Brown       1250\n",
            "Jones       1211\n",
            "            ... \n",
            "Finley        22\n",
            "Arroyo        22\n",
            "Ewing         21\n",
            "Kaiser        21\n",
            "Davies        18\n",
            "Name: last_name, Length: 1000, dtype: int64 \n",
            "\n",
            "Column: email\n",
            "michaelsmith@gmail.com      52\n",
            "davidsmith@gmail.com        49\n",
            "johnsmith@gmail.com         38\n",
            "jamessmith@gmail.com        34\n",
            "michaelbrown@gmail.com      34\n",
            "                            ..\n",
            "bobbyrobinson@gmail.com      1\n",
            "cherylhunter@gmail.com       1\n",
            "dianarowe@gmail.com          1\n",
            "corytorres@gmail.com         1\n",
            "meganunderwood@gmail.com     1\n",
            "Name: email, Length: 68887, dtype: int64 \n",
            "\n",
            "Column: age\n",
            "57    1792\n",
            "51    1774\n",
            "63    1769\n",
            "25    1753\n",
            "50    1740\n",
            "65    1740\n",
            "16    1730\n",
            "40    1726\n",
            "24    1719\n",
            "36    1719\n",
            "38    1714\n",
            "59    1713\n",
            "44    1711\n",
            "27    1710\n",
            "68    1702\n",
            "39    1701\n",
            "45    1700\n",
            "34    1698\n",
            "49    1697\n",
            "23    1692\n",
            "31    1692\n",
            "13    1692\n",
            "67    1691\n",
            "21    1688\n",
            "66    1688\n",
            "55    1682\n",
            "20    1682\n",
            "12    1679\n",
            "29    1679\n",
            "19    1676\n",
            "48    1670\n",
            "17    1669\n",
            "69    1669\n",
            "61    1669\n",
            "41    1668\n",
            "58    1665\n",
            "42    1663\n",
            "54    1662\n",
            "22    1657\n",
            "64    1655\n",
            "33    1655\n",
            "56    1653\n",
            "14    1651\n",
            "52    1647\n",
            "46    1646\n",
            "26    1643\n",
            "70    1643\n",
            "18    1641\n",
            "30    1639\n",
            "47    1639\n",
            "15    1632\n",
            "28    1631\n",
            "43    1631\n",
            "35    1630\n",
            "53    1629\n",
            "60    1621\n",
            "32    1618\n",
            "62    1598\n",
            "37    1594\n",
            "Name: age, dtype: int64 \n",
            "\n",
            "Column: gender\n",
            "F    49713\n",
            "M    49324\n",
            "Name: gender, dtype: int64 \n",
            "\n",
            "Column: state\n",
            "Guangdong     5295\n",
            "England       4059\n",
            "California    3713\n",
            "Shanghai      2511\n",
            "Texas         2378\n",
            "              ... \n",
            "Yamanashi        2\n",
            "Vermont          2\n",
            "Kagawa           2\n",
            "Wakayama         2\n",
            "Mie              2\n",
            "Name: state, Length: 228, dtype: int64 \n",
            "\n",
            "Column: street_address\n",
            "786 Jessica Path                 2\n",
            "3993 Rodriguez Squares           1\n",
            "26862 Ashley Court               1\n",
            "69956 Erickson Roads             1\n",
            "44883 Sara Rapids                1\n",
            "                                ..\n",
            "311 Castro Spring                1\n",
            "7896 Joseph Brooks               1\n",
            "5254 Fleming Wall Suite 551      1\n",
            "51573 Scott Crescent Apt. 243    1\n",
            "97139 Hughes Square Suite 073    1\n",
            "Name: street_address, Length: 99036, dtype: int64 \n",
            "\n",
            "Column: postal_code\n",
            "02675-031    424\n",
            "70297-400    356\n",
            "40301-110    288\n",
            "40301-155    177\n",
            "361006       137\n",
            "            ... \n",
            "9870           1\n",
            "2452           1\n",
            "2454           1\n",
            "2463           1\n",
            "38010          1\n",
            "Name: postal_code, Length: 15600, dtype: int64 \n",
            "\n",
            "Column: city\n",
            "Shanghai    2400\n",
            "Beijing     2073\n",
            "Seoul       1421\n",
            "Shenzhen    1236\n",
            "Dongguan     954\n",
            "            ... \n",
            "Tukwila        1\n",
            "Toul           1\n",
            "Maron          1\n",
            "Hirson         1\n",
            "Wertheim       1\n",
            "Name: city, Length: 7883, dtype: int64 \n",
            "\n",
            "Column: country\n",
            "China             33816\n",
            "United States     22296\n",
            "Brasil            13989\n",
            "South Korea        5324\n",
            "France             4742\n",
            "United Kingdom     4648\n",
            "Germany            4102\n",
            "Spain              3971\n",
            "Japan              2458\n",
            "Australia          2147\n",
            "Belgium            1289\n",
            "Poland              240\n",
            "Colombia             12\n",
            "Austria               2\n",
            "España                1\n",
            "Name: country, dtype: int64 \n",
            "\n",
            "Column: latitude\n",
            "-23.47    424\n",
            "-15.83    356\n",
            "-12.63    288\n",
            "-12.97    177\n",
            "24.51     137\n",
            "         ... \n",
            "-34.86      1\n",
            "34.30       1\n",
            "-34.85      1\n",
            "34.23       1\n",
            "48.05       1\n",
            "Name: latitude, Length: 16293, dtype: int64 \n",
            "\n",
            "Column: longitude\n",
            "-46.75    424\n",
            "-47.92    356\n",
            "-38.70    288\n",
            "-38.49    177\n",
            "118.10    137\n",
            "         ... \n",
            "-85.45      1\n",
            "128.82      1\n",
            "-84.46      1\n",
            "-84.55      1\n",
            "139.36      1\n",
            "Name: longitude, Length: 16249, dtype: int64 \n",
            "\n",
            "Column: traffic_source\n",
            "Search      69224\n",
            "Organic     14947\n",
            "Facebook     5978\n",
            "Email        4919\n",
            "Display      3969\n",
            "Name: traffic_source, dtype: int64 \n",
            "\n",
            "Column: created_at\n",
            "2023-04-21    521\n",
            "2023-04-20    517\n",
            "2023-04-19    487\n",
            "2023-04-23    469\n",
            "2023-04-18    468\n",
            "             ... \n",
            "2019-12-23     39\n",
            "2019-09-24     38\n",
            "2021-07-14     38\n",
            "2021-07-17     36\n",
            "2019-11-24     36\n",
            "Name: created_at, Length: 1573, dtype: int64 \n",
            "\n"
          ]
        }
      ]
    },
    {
      "cell_type": "markdown",
      "metadata": {
        "id": "98FyuozP0M9x"
      },
      "source": [
        "# Merging DFs"
      ]
    },
    {
      "cell_type": "markdown",
      "metadata": {
        "id": "zDr5sczI0Tk3"
      },
      "source": [
        "orders + orderitems DF"
      ]
    },
    {
      "cell_type": "code",
      "execution_count": null,
      "metadata": {
        "id": "x7tSNkxTluAC"
      },
      "outputs": [],
      "source": [
        "d_orderitem = pd.merge(d_oitems, d_orders, on = 'order_id', how = 'left' )"
      ]
    },
    {
      "cell_type": "markdown",
      "source": [
        "Dropping irrelevant columns"
      ],
      "metadata": {
        "id": "JlTNlrh9ZuCS"
      }
    },
    {
      "cell_type": "code",
      "execution_count": null,
      "metadata": {
        "id": "J8ehqyPomUgg"
      },
      "outputs": [],
      "source": [
        "d_orderitem.drop(columns= ['user_id_y','status_y','created_at_y','returned_at_y','shipped_at_y','delivered_at_y','num_of_item','id'], axis = 1, inplace= True)"
      ]
    },
    {
      "cell_type": "code",
      "execution_count": null,
      "metadata": {
        "id": "c4P6np_ynSIr"
      },
      "outputs": [],
      "source": [
        "d_orderitem.sort_values(['product_id'], ascending= True, inplace= True)"
      ]
    },
    {
      "cell_type": "markdown",
      "metadata": {
        "id": "38GmrCfq0fnS"
      },
      "source": [
        "##preparing products DF before merging"
      ]
    },
    {
      "cell_type": "code",
      "execution_count": null,
      "metadata": {
        "id": "p3yCLMed8K8F"
      },
      "outputs": [],
      "source": [
        "clean_products = d_products.copy()"
      ]
    },
    {
      "cell_type": "code",
      "execution_count": null,
      "metadata": {
        "id": "J9GcrLZ88K8G"
      },
      "outputs": [],
      "source": [
        "clean_products.drop(columns= ['name','retail_price','sku'], axis= 1, inplace= True)"
      ]
    },
    {
      "cell_type": "markdown",
      "metadata": {
        "id": "1iCYMGaw0s-P"
      },
      "source": [
        "Merging d_orderitem + products"
      ]
    },
    {
      "cell_type": "code",
      "execution_count": null,
      "metadata": {
        "id": "7YLVUqrvoAa4"
      },
      "outputs": [],
      "source": [
        "d_op = pd.merge(d_orderitem, clean_products, left_on= 'product_id', right_on= 'id', how= 'left')"
      ]
    },
    {
      "cell_type": "code",
      "execution_count": null,
      "metadata": {
        "id": "9ZTdZXZxybZS"
      },
      "outputs": [],
      "source": [
        "d_op.drop(columns = 'id', axis=1, inplace= True)"
      ]
    },
    {
      "cell_type": "code",
      "execution_count": null,
      "metadata": {
        "id": "FgMZMNVO8K8G",
        "outputId": "4db61dfa-27df-434a-ebc8-dfc5899a5259",
        "colab": {
          "base_uri": "https://localhost:8080/"
        }
      },
      "outputs": [
        {
          "output_type": "stream",
          "name": "stdout",
          "text": [
            "<class 'pandas.core.frame.DataFrame'>\n",
            "Int64Index: 181735 entries, 0 to 181734\n",
            "Data columns (total 16 columns):\n",
            " #   Column                  Non-Null Count   Dtype         \n",
            "---  ------                  --------------   -----         \n",
            " 0   order_id                181735 non-null  int64         \n",
            " 1   user_id_x               181735 non-null  int64         \n",
            " 2   product_id              181735 non-null  int64         \n",
            " 3   inventory_item_id       181735 non-null  int64         \n",
            " 4   status_x                181735 non-null  object        \n",
            " 5   created_at_x            181735 non-null  datetime64[ns]\n",
            " 6   shipped_at_x            118309 non-null  datetime64[ns]\n",
            " 7   delivered_at_x          64047 non-null   datetime64[ns]\n",
            " 8   returned_at_x           18335 non-null   datetime64[ns]\n",
            " 9   sale_price              181735 non-null  float64       \n",
            " 10  gender                  181735 non-null  object        \n",
            " 11  cost                    181584 non-null  float64       \n",
            " 12  category                181584 non-null  object        \n",
            " 13  brand                   181584 non-null  object        \n",
            " 14  department              181584 non-null  object        \n",
            " 15  distribution_center_id  181584 non-null  float64       \n",
            "dtypes: datetime64[ns](4), float64(3), int64(4), object(5)\n",
            "memory usage: 23.6+ MB\n"
          ]
        }
      ],
      "source": [
        "d_op.info()\n",
        "# findings = there are orders for blank products (caused by cleanedup products)"
      ]
    },
    {
      "cell_type": "markdown",
      "source": [
        "##preparing users DF before merging"
      ],
      "metadata": {
        "id": "eVOTzKk9eZNO"
      }
    },
    {
      "cell_type": "code",
      "source": [
        "clean_users = d_users.copy()"
      ],
      "metadata": {
        "id": "K9HIXeXVH26n"
      },
      "execution_count": null,
      "outputs": []
    },
    {
      "cell_type": "code",
      "execution_count": null,
      "metadata": {
        "id": "vRyBJg8u8K8I"
      },
      "outputs": [],
      "source": [
        "clean_users.drop(columns=['first_name','last_name','email','gender','street_address','postal_code','latitude','longitude'],\n",
        "                 axis=1, inplace=True)"
      ]
    },
    {
      "cell_type": "markdown",
      "source": [
        "##Final merging"
      ],
      "metadata": {
        "id": "mv0EkAZ8ZbHS"
      }
    },
    {
      "cell_type": "code",
      "execution_count": null,
      "metadata": {
        "id": "xK3CyOe80cqU"
      },
      "outputs": [],
      "source": [
        "df_a = pd.merge(d_op, clean_users, left_on= 'user_id_x', right_on='id', how= 'left')"
      ]
    },
    {
      "cell_type": "code",
      "source": [
        "df_a.drop(columns=['inventory_item_id','id'],\n",
        "                 axis=1, inplace=True)"
      ],
      "metadata": {
        "id": "bucgLnwjfA4S"
      },
      "execution_count": null,
      "outputs": []
    },
    {
      "cell_type": "code",
      "execution_count": null,
      "metadata": {
        "colab": {
          "base_uri": "https://localhost:8080/"
        },
        "id": "XBWgaQXj4Yqp",
        "outputId": "1acf239f-5926-4c53-ca0d-c5194abdac7e"
      },
      "outputs": [
        {
          "output_type": "stream",
          "name": "stdout",
          "text": [
            "<class 'pandas.core.frame.DataFrame'>\n",
            "Int64Index: 181735 entries, 0 to 181734\n",
            "Data columns (total 21 columns):\n",
            " #   Column                  Non-Null Count   Dtype         \n",
            "---  ------                  --------------   -----         \n",
            " 0   order_id                181735 non-null  int64         \n",
            " 1   user_id_x               181735 non-null  int64         \n",
            " 2   product_id              181735 non-null  int64         \n",
            " 3   status_x                181735 non-null  object        \n",
            " 4   created_at_x            181735 non-null  datetime64[ns]\n",
            " 5   shipped_at_x            118309 non-null  datetime64[ns]\n",
            " 6   delivered_at_x          64047 non-null   datetime64[ns]\n",
            " 7   returned_at_x           18335 non-null   datetime64[ns]\n",
            " 8   sale_price              181735 non-null  float64       \n",
            " 9   gender                  181735 non-null  object        \n",
            " 10  cost                    181584 non-null  float64       \n",
            " 11  category                181584 non-null  object        \n",
            " 12  brand                   181584 non-null  object        \n",
            " 13  department              181584 non-null  object        \n",
            " 14  distribution_center_id  181584 non-null  float64       \n",
            " 15  age                     180013 non-null  float64       \n",
            " 16  state                   180013 non-null  object        \n",
            " 17  city                    180013 non-null  object        \n",
            " 18  country                 180013 non-null  object        \n",
            " 19  traffic_source          180013 non-null  object        \n",
            " 20  created_at              180013 non-null  datetime64[ns]\n",
            "dtypes: datetime64[ns](5), float64(4), int64(3), object(9)\n",
            "memory usage: 30.5+ MB\n"
          ]
        }
      ],
      "source": [
        "df_a.info()"
      ]
    },
    {
      "cell_type": "markdown",
      "source": [
        "##Dropping nulls from df_a DF (orders, orderitems, products, users)"
      ],
      "metadata": {
        "id": "dVQZuH7QhpeU"
      }
    },
    {
      "cell_type": "code",
      "execution_count": null,
      "metadata": {
        "id": "hql5yOw22R86"
      },
      "outputs": [],
      "source": [
        "df_a.dropna(subset='age', inplace=True)"
      ]
    },
    {
      "cell_type": "code",
      "source": [
        "df_a.dropna(subset='cost', inplace=True)"
      ],
      "metadata": {
        "id": "Pm-ZeAOoIj-d"
      },
      "execution_count": null,
      "outputs": []
    },
    {
      "cell_type": "code",
      "execution_count": null,
      "metadata": {
        "id": "JWOZtVVY8K8I",
        "outputId": "53844415-ee14-4748-ca77-de30d1dcbd5b",
        "colab": {
          "base_uri": "https://localhost:8080/"
        }
      },
      "outputs": [
        {
          "output_type": "stream",
          "name": "stdout",
          "text": [
            "<class 'pandas.core.frame.DataFrame'>\n",
            "Int64Index: 179862 entries, 0 to 181734\n",
            "Data columns (total 21 columns):\n",
            " #   Column                  Non-Null Count   Dtype         \n",
            "---  ------                  --------------   -----         \n",
            " 0   order_id                179862 non-null  int64         \n",
            " 1   user_id_x               179862 non-null  int64         \n",
            " 2   product_id              179862 non-null  int64         \n",
            " 3   status_x                179862 non-null  object        \n",
            " 4   created_at_x            179862 non-null  datetime64[ns]\n",
            " 5   shipped_at_x            117079 non-null  datetime64[ns]\n",
            " 6   delivered_at_x          63381 non-null   datetime64[ns]\n",
            " 7   returned_at_x           18143 non-null   datetime64[ns]\n",
            " 8   sale_price              179862 non-null  float64       \n",
            " 9   gender                  179862 non-null  object        \n",
            " 10  cost                    179862 non-null  float64       \n",
            " 11  category                179862 non-null  object        \n",
            " 12  brand                   179862 non-null  object        \n",
            " 13  department              179862 non-null  object        \n",
            " 14  distribution_center_id  179862 non-null  float64       \n",
            " 15  age                     179862 non-null  float64       \n",
            " 16  state                   179862 non-null  object        \n",
            " 17  city                    179862 non-null  object        \n",
            " 18  country                 179862 non-null  object        \n",
            " 19  traffic_source          179862 non-null  object        \n",
            " 20  created_at              179862 non-null  datetime64[ns]\n",
            "dtypes: datetime64[ns](5), float64(4), int64(3), object(9)\n",
            "memory usage: 30.2+ MB\n"
          ]
        }
      ],
      "source": [
        "df_a.info()"
      ]
    },
    {
      "cell_type": "code",
      "execution_count": null,
      "metadata": {
        "id": "iuQ-R36P3WeC"
      },
      "outputs": [],
      "source": [
        "df_a.rename(columns={'created_at': 'account_made'}, inplace=True)\n",
        "#we will rename all ugly named columns in saved csv via excel"
      ]
    },
    {
      "cell_type": "code",
      "source": [
        "df_a['distribution_center_id'] = df_a['distribution_center_id'].astype(int)\n",
        "df_a['age'] = df_a['age'].astype(int) "
      ],
      "metadata": {
        "id": "Hy0mS37KmI67"
      },
      "execution_count": null,
      "outputs": []
    },
    {
      "cell_type": "markdown",
      "source": [
        "Saving the first DF (all combined & cleaned)"
      ],
      "metadata": {
        "id": "IJpQk5Lcm4xs"
      }
    },
    {
      "cell_type": "code",
      "source": [
        "from google.colab import drive\n",
        "drive.mount('/content/drive')"
      ],
      "metadata": {
        "colab": {
          "base_uri": "https://localhost:8080/"
        },
        "id": "ANLt-8FOJBxv",
        "outputId": "9d24c773-3c84-4bcf-b763-07d02b2956ba"
      },
      "execution_count": 6,
      "outputs": [
        {
          "output_type": "stream",
          "name": "stdout",
          "text": [
            "Mounted at /content/drive\n"
          ]
        }
      ]
    },
    {
      "cell_type": "code",
      "source": [
        "file_path = '/content/drive/MyDrive/df_all.csv'\n",
        "df_a.to_csv(file_path, index=False)"
      ],
      "metadata": {
        "id": "rY3iFQrznABK"
      },
      "execution_count": null,
      "outputs": []
    },
    {
      "cell_type": "markdown",
      "metadata": {
        "id": "8TU7XjVf8TAx"
      },
      "source": [
        "# Removing Outliers"
      ]
    },
    {
      "cell_type": "code",
      "source": [
        "dfa= pd.read_csv('/content/drive/MyDrive/Colab Notebooks/aparilo/df_all.csv')"
      ],
      "metadata": {
        "id": "Tg91pClCLBw0"
      },
      "execution_count": null,
      "outputs": []
    },
    {
      "cell_type": "code",
      "source": [
        "dfa"
      ],
      "metadata": {
        "colab": {
          "base_uri": "https://localhost:8080/",
          "height": 661
        },
        "id": "qXbPyNLWLTC8",
        "outputId": "650673a1-0053-47f0-b946-a23b65859fb4"
      },
      "execution_count": null,
      "outputs": [
        {
          "output_type": "execute_result",
          "data": {
            "text/plain": [
              "        order_id  user_id  product_id      status          created  \\\n",
              "0           1266     1016           1     Shipped   3/13/2023 8:18   \n",
              "1          28625    22898           1     Shipped   7/23/2020 0:00   \n",
              "2          43088    34437           1     Shipped  3/14/2023 23:56   \n",
              "3          59106    47182           1  Processing  2/19/2020 13:21   \n",
              "4          30803    24599           1    Complete   9/26/2022 4:52   \n",
              "...          ...      ...         ...         ...              ...   \n",
              "179857    108519    86641       29120  Processing   3/28/2023 0:08   \n",
              "179858     60269    48129       29120  Processing   8/26/2022 7:29   \n",
              "179859     77527    61888       29120  Processing   3/28/2022 4:41   \n",
              "179860     92533    73866       29120   Cancelled  10/10/2022 6:51   \n",
              "179861     30521    24377       29120    Complete  9/17/2022 15:05   \n",
              "\n",
              "                shipped       delivered returned  sale_price gender  ...  \\\n",
              "0       3/13/2023 12:17             NaN      NaN       49.00      F  ...   \n",
              "1       7/20/2020 17:57             NaN      NaN       49.00      F  ...   \n",
              "2       3/17/2023 12:41             NaN      NaN       49.00      F  ...   \n",
              "3                   NaN             NaN      NaN       49.00      F  ...   \n",
              "4       9/28/2022 12:17  10/2/2022 3:37      NaN       49.00      F  ...   \n",
              "...                 ...             ...      ...         ...    ...  ...   \n",
              "179857              NaN             NaN      NaN       78.00      M  ...   \n",
              "179858              NaN             NaN      NaN       78.00      M  ...   \n",
              "179859              NaN             NaN      NaN       78.00      M  ...   \n",
              "179860              NaN             NaN      NaN       78.00      M  ...   \n",
              "179861   9/18/2022 4:31  9/20/2022 7:29      NaN       78.00      M  ...   \n",
              "\n",
              "           category   brand department distribution_center_id  age  \\\n",
              "0       Tops & Tees  Seven7      Women                      1   57   \n",
              "1       Tops & Tees  Seven7      Women                      1   41   \n",
              "2       Tops & Tees  Seven7      Women                      1   16   \n",
              "3       Tops & Tees  Seven7      Women                      1   23   \n",
              "4       Tops & Tees  Seven7      Women                      1   51   \n",
              "...             ...     ...        ...                    ...  ...   \n",
              "179857  Accessories  Boconi        Men                      5   36   \n",
              "179858  Accessories  Boconi        Men                      5   56   \n",
              "179859  Accessories  Boconi        Men                      5   51   \n",
              "179860  Accessories  Boconi        Men                      5   59   \n",
              "179861  Accessories  Boconi        Men                      5   59   \n",
              "\n",
              "               state        city         country traffic_source account_made  \n",
              "0            Beijing      Anqing           China       Facebook    1/13/2022  \n",
              "1          Guangdong   Changchun           China       Facebook    7/17/2020  \n",
              "2               Utah       Ogden   United States         Search   12/30/2022  \n",
              "3        Connecticut  Torrington   United States         Search    1/24/2019  \n",
              "4            England     Chorley  United Kingdom          Email    7/26/2022  \n",
              "...              ...         ...             ...            ...          ...  \n",
              "179857    California     Fontana   United States         Search   10/30/2020  \n",
              "179858       Guizhou      Guilin           China         Search    12/6/2021  \n",
              "179859  Heilongjiang    Dongguan           China       Facebook     6/8/2021  \n",
              "179860  Pennsylvania   Allentown   United States         Search     9/3/2022  \n",
              "179861         Hunan    Huangshi           China         Search    7/25/2021  \n",
              "\n",
              "[179862 rows x 21 columns]"
            ],
            "text/html": [
              "\n",
              "  <div id=\"df-41b657e2-a191-4e00-8984-043d1c22494b\">\n",
              "    <div class=\"colab-df-container\">\n",
              "      <div>\n",
              "<style scoped>\n",
              "    .dataframe tbody tr th:only-of-type {\n",
              "        vertical-align: middle;\n",
              "    }\n",
              "\n",
              "    .dataframe tbody tr th {\n",
              "        vertical-align: top;\n",
              "    }\n",
              "\n",
              "    .dataframe thead th {\n",
              "        text-align: right;\n",
              "    }\n",
              "</style>\n",
              "<table border=\"1\" class=\"dataframe\">\n",
              "  <thead>\n",
              "    <tr style=\"text-align: right;\">\n",
              "      <th></th>\n",
              "      <th>order_id</th>\n",
              "      <th>user_id</th>\n",
              "      <th>product_id</th>\n",
              "      <th>status</th>\n",
              "      <th>created</th>\n",
              "      <th>shipped</th>\n",
              "      <th>delivered</th>\n",
              "      <th>returned</th>\n",
              "      <th>sale_price</th>\n",
              "      <th>gender</th>\n",
              "      <th>...</th>\n",
              "      <th>category</th>\n",
              "      <th>brand</th>\n",
              "      <th>department</th>\n",
              "      <th>distribution_center_id</th>\n",
              "      <th>age</th>\n",
              "      <th>state</th>\n",
              "      <th>city</th>\n",
              "      <th>country</th>\n",
              "      <th>traffic_source</th>\n",
              "      <th>account_made</th>\n",
              "    </tr>\n",
              "  </thead>\n",
              "  <tbody>\n",
              "    <tr>\n",
              "      <th>0</th>\n",
              "      <td>1266</td>\n",
              "      <td>1016</td>\n",
              "      <td>1</td>\n",
              "      <td>Shipped</td>\n",
              "      <td>3/13/2023 8:18</td>\n",
              "      <td>3/13/2023 12:17</td>\n",
              "      <td>NaN</td>\n",
              "      <td>NaN</td>\n",
              "      <td>49.00</td>\n",
              "      <td>F</td>\n",
              "      <td>...</td>\n",
              "      <td>Tops &amp; Tees</td>\n",
              "      <td>Seven7</td>\n",
              "      <td>Women</td>\n",
              "      <td>1</td>\n",
              "      <td>57</td>\n",
              "      <td>Beijing</td>\n",
              "      <td>Anqing</td>\n",
              "      <td>China</td>\n",
              "      <td>Facebook</td>\n",
              "      <td>1/13/2022</td>\n",
              "    </tr>\n",
              "    <tr>\n",
              "      <th>1</th>\n",
              "      <td>28625</td>\n",
              "      <td>22898</td>\n",
              "      <td>1</td>\n",
              "      <td>Shipped</td>\n",
              "      <td>7/23/2020 0:00</td>\n",
              "      <td>7/20/2020 17:57</td>\n",
              "      <td>NaN</td>\n",
              "      <td>NaN</td>\n",
              "      <td>49.00</td>\n",
              "      <td>F</td>\n",
              "      <td>...</td>\n",
              "      <td>Tops &amp; Tees</td>\n",
              "      <td>Seven7</td>\n",
              "      <td>Women</td>\n",
              "      <td>1</td>\n",
              "      <td>41</td>\n",
              "      <td>Guangdong</td>\n",
              "      <td>Changchun</td>\n",
              "      <td>China</td>\n",
              "      <td>Facebook</td>\n",
              "      <td>7/17/2020</td>\n",
              "    </tr>\n",
              "    <tr>\n",
              "      <th>2</th>\n",
              "      <td>43088</td>\n",
              "      <td>34437</td>\n",
              "      <td>1</td>\n",
              "      <td>Shipped</td>\n",
              "      <td>3/14/2023 23:56</td>\n",
              "      <td>3/17/2023 12:41</td>\n",
              "      <td>NaN</td>\n",
              "      <td>NaN</td>\n",
              "      <td>49.00</td>\n",
              "      <td>F</td>\n",
              "      <td>...</td>\n",
              "      <td>Tops &amp; Tees</td>\n",
              "      <td>Seven7</td>\n",
              "      <td>Women</td>\n",
              "      <td>1</td>\n",
              "      <td>16</td>\n",
              "      <td>Utah</td>\n",
              "      <td>Ogden</td>\n",
              "      <td>United States</td>\n",
              "      <td>Search</td>\n",
              "      <td>12/30/2022</td>\n",
              "    </tr>\n",
              "    <tr>\n",
              "      <th>3</th>\n",
              "      <td>59106</td>\n",
              "      <td>47182</td>\n",
              "      <td>1</td>\n",
              "      <td>Processing</td>\n",
              "      <td>2/19/2020 13:21</td>\n",
              "      <td>NaN</td>\n",
              "      <td>NaN</td>\n",
              "      <td>NaN</td>\n",
              "      <td>49.00</td>\n",
              "      <td>F</td>\n",
              "      <td>...</td>\n",
              "      <td>Tops &amp; Tees</td>\n",
              "      <td>Seven7</td>\n",
              "      <td>Women</td>\n",
              "      <td>1</td>\n",
              "      <td>23</td>\n",
              "      <td>Connecticut</td>\n",
              "      <td>Torrington</td>\n",
              "      <td>United States</td>\n",
              "      <td>Search</td>\n",
              "      <td>1/24/2019</td>\n",
              "    </tr>\n",
              "    <tr>\n",
              "      <th>4</th>\n",
              "      <td>30803</td>\n",
              "      <td>24599</td>\n",
              "      <td>1</td>\n",
              "      <td>Complete</td>\n",
              "      <td>9/26/2022 4:52</td>\n",
              "      <td>9/28/2022 12:17</td>\n",
              "      <td>10/2/2022 3:37</td>\n",
              "      <td>NaN</td>\n",
              "      <td>49.00</td>\n",
              "      <td>F</td>\n",
              "      <td>...</td>\n",
              "      <td>Tops &amp; Tees</td>\n",
              "      <td>Seven7</td>\n",
              "      <td>Women</td>\n",
              "      <td>1</td>\n",
              "      <td>51</td>\n",
              "      <td>England</td>\n",
              "      <td>Chorley</td>\n",
              "      <td>United Kingdom</td>\n",
              "      <td>Email</td>\n",
              "      <td>7/26/2022</td>\n",
              "    </tr>\n",
              "    <tr>\n",
              "      <th>...</th>\n",
              "      <td>...</td>\n",
              "      <td>...</td>\n",
              "      <td>...</td>\n",
              "      <td>...</td>\n",
              "      <td>...</td>\n",
              "      <td>...</td>\n",
              "      <td>...</td>\n",
              "      <td>...</td>\n",
              "      <td>...</td>\n",
              "      <td>...</td>\n",
              "      <td>...</td>\n",
              "      <td>...</td>\n",
              "      <td>...</td>\n",
              "      <td>...</td>\n",
              "      <td>...</td>\n",
              "      <td>...</td>\n",
              "      <td>...</td>\n",
              "      <td>...</td>\n",
              "      <td>...</td>\n",
              "      <td>...</td>\n",
              "      <td>...</td>\n",
              "    </tr>\n",
              "    <tr>\n",
              "      <th>179857</th>\n",
              "      <td>108519</td>\n",
              "      <td>86641</td>\n",
              "      <td>29120</td>\n",
              "      <td>Processing</td>\n",
              "      <td>3/28/2023 0:08</td>\n",
              "      <td>NaN</td>\n",
              "      <td>NaN</td>\n",
              "      <td>NaN</td>\n",
              "      <td>78.00</td>\n",
              "      <td>M</td>\n",
              "      <td>...</td>\n",
              "      <td>Accessories</td>\n",
              "      <td>Boconi</td>\n",
              "      <td>Men</td>\n",
              "      <td>5</td>\n",
              "      <td>36</td>\n",
              "      <td>California</td>\n",
              "      <td>Fontana</td>\n",
              "      <td>United States</td>\n",
              "      <td>Search</td>\n",
              "      <td>10/30/2020</td>\n",
              "    </tr>\n",
              "    <tr>\n",
              "      <th>179858</th>\n",
              "      <td>60269</td>\n",
              "      <td>48129</td>\n",
              "      <td>29120</td>\n",
              "      <td>Processing</td>\n",
              "      <td>8/26/2022 7:29</td>\n",
              "      <td>NaN</td>\n",
              "      <td>NaN</td>\n",
              "      <td>NaN</td>\n",
              "      <td>78.00</td>\n",
              "      <td>M</td>\n",
              "      <td>...</td>\n",
              "      <td>Accessories</td>\n",
              "      <td>Boconi</td>\n",
              "      <td>Men</td>\n",
              "      <td>5</td>\n",
              "      <td>56</td>\n",
              "      <td>Guizhou</td>\n",
              "      <td>Guilin</td>\n",
              "      <td>China</td>\n",
              "      <td>Search</td>\n",
              "      <td>12/6/2021</td>\n",
              "    </tr>\n",
              "    <tr>\n",
              "      <th>179859</th>\n",
              "      <td>77527</td>\n",
              "      <td>61888</td>\n",
              "      <td>29120</td>\n",
              "      <td>Processing</td>\n",
              "      <td>3/28/2022 4:41</td>\n",
              "      <td>NaN</td>\n",
              "      <td>NaN</td>\n",
              "      <td>NaN</td>\n",
              "      <td>78.00</td>\n",
              "      <td>M</td>\n",
              "      <td>...</td>\n",
              "      <td>Accessories</td>\n",
              "      <td>Boconi</td>\n",
              "      <td>Men</td>\n",
              "      <td>5</td>\n",
              "      <td>51</td>\n",
              "      <td>Heilongjiang</td>\n",
              "      <td>Dongguan</td>\n",
              "      <td>China</td>\n",
              "      <td>Facebook</td>\n",
              "      <td>6/8/2021</td>\n",
              "    </tr>\n",
              "    <tr>\n",
              "      <th>179860</th>\n",
              "      <td>92533</td>\n",
              "      <td>73866</td>\n",
              "      <td>29120</td>\n",
              "      <td>Cancelled</td>\n",
              "      <td>10/10/2022 6:51</td>\n",
              "      <td>NaN</td>\n",
              "      <td>NaN</td>\n",
              "      <td>NaN</td>\n",
              "      <td>78.00</td>\n",
              "      <td>M</td>\n",
              "      <td>...</td>\n",
              "      <td>Accessories</td>\n",
              "      <td>Boconi</td>\n",
              "      <td>Men</td>\n",
              "      <td>5</td>\n",
              "      <td>59</td>\n",
              "      <td>Pennsylvania</td>\n",
              "      <td>Allentown</td>\n",
              "      <td>United States</td>\n",
              "      <td>Search</td>\n",
              "      <td>9/3/2022</td>\n",
              "    </tr>\n",
              "    <tr>\n",
              "      <th>179861</th>\n",
              "      <td>30521</td>\n",
              "      <td>24377</td>\n",
              "      <td>29120</td>\n",
              "      <td>Complete</td>\n",
              "      <td>9/17/2022 15:05</td>\n",
              "      <td>9/18/2022 4:31</td>\n",
              "      <td>9/20/2022 7:29</td>\n",
              "      <td>NaN</td>\n",
              "      <td>78.00</td>\n",
              "      <td>M</td>\n",
              "      <td>...</td>\n",
              "      <td>Accessories</td>\n",
              "      <td>Boconi</td>\n",
              "      <td>Men</td>\n",
              "      <td>5</td>\n",
              "      <td>59</td>\n",
              "      <td>Hunan</td>\n",
              "      <td>Huangshi</td>\n",
              "      <td>China</td>\n",
              "      <td>Search</td>\n",
              "      <td>7/25/2021</td>\n",
              "    </tr>\n",
              "  </tbody>\n",
              "</table>\n",
              "<p>179862 rows × 21 columns</p>\n",
              "</div>\n",
              "      <button class=\"colab-df-convert\" onclick=\"convertToInteractive('df-41b657e2-a191-4e00-8984-043d1c22494b')\"\n",
              "              title=\"Convert this dataframe to an interactive table.\"\n",
              "              style=\"display:none;\">\n",
              "        \n",
              "  <svg xmlns=\"http://www.w3.org/2000/svg\" height=\"24px\"viewBox=\"0 0 24 24\"\n",
              "       width=\"24px\">\n",
              "    <path d=\"M0 0h24v24H0V0z\" fill=\"none\"/>\n",
              "    <path d=\"M18.56 5.44l.94 2.06.94-2.06 2.06-.94-2.06-.94-.94-2.06-.94 2.06-2.06.94zm-11 1L8.5 8.5l.94-2.06 2.06-.94-2.06-.94L8.5 2.5l-.94 2.06-2.06.94zm10 10l.94 2.06.94-2.06 2.06-.94-2.06-.94-.94-2.06-.94 2.06-2.06.94z\"/><path d=\"M17.41 7.96l-1.37-1.37c-.4-.4-.92-.59-1.43-.59-.52 0-1.04.2-1.43.59L10.3 9.45l-7.72 7.72c-.78.78-.78 2.05 0 2.83L4 21.41c.39.39.9.59 1.41.59.51 0 1.02-.2 1.41-.59l7.78-7.78 2.81-2.81c.8-.78.8-2.07 0-2.86zM5.41 20L4 18.59l7.72-7.72 1.47 1.35L5.41 20z\"/>\n",
              "  </svg>\n",
              "      </button>\n",
              "      \n",
              "  <style>\n",
              "    .colab-df-container {\n",
              "      display:flex;\n",
              "      flex-wrap:wrap;\n",
              "      gap: 12px;\n",
              "    }\n",
              "\n",
              "    .colab-df-convert {\n",
              "      background-color: #E8F0FE;\n",
              "      border: none;\n",
              "      border-radius: 50%;\n",
              "      cursor: pointer;\n",
              "      display: none;\n",
              "      fill: #1967D2;\n",
              "      height: 32px;\n",
              "      padding: 0 0 0 0;\n",
              "      width: 32px;\n",
              "    }\n",
              "\n",
              "    .colab-df-convert:hover {\n",
              "      background-color: #E2EBFA;\n",
              "      box-shadow: 0px 1px 2px rgba(60, 64, 67, 0.3), 0px 1px 3px 1px rgba(60, 64, 67, 0.15);\n",
              "      fill: #174EA6;\n",
              "    }\n",
              "\n",
              "    [theme=dark] .colab-df-convert {\n",
              "      background-color: #3B4455;\n",
              "      fill: #D2E3FC;\n",
              "    }\n",
              "\n",
              "    [theme=dark] .colab-df-convert:hover {\n",
              "      background-color: #434B5C;\n",
              "      box-shadow: 0px 1px 3px 1px rgba(0, 0, 0, 0.15);\n",
              "      filter: drop-shadow(0px 1px 2px rgba(0, 0, 0, 0.3));\n",
              "      fill: #FFFFFF;\n",
              "    }\n",
              "  </style>\n",
              "\n",
              "      <script>\n",
              "        const buttonEl =\n",
              "          document.querySelector('#df-41b657e2-a191-4e00-8984-043d1c22494b button.colab-df-convert');\n",
              "        buttonEl.style.display =\n",
              "          google.colab.kernel.accessAllowed ? 'block' : 'none';\n",
              "\n",
              "        async function convertToInteractive(key) {\n",
              "          const element = document.querySelector('#df-41b657e2-a191-4e00-8984-043d1c22494b');\n",
              "          const dataTable =\n",
              "            await google.colab.kernel.invokeFunction('convertToInteractive',\n",
              "                                                     [key], {});\n",
              "          if (!dataTable) return;\n",
              "\n",
              "          const docLinkHtml = 'Like what you see? Visit the ' +\n",
              "            '<a target=\"_blank\" href=https://colab.research.google.com/notebooks/data_table.ipynb>data table notebook</a>'\n",
              "            + ' to learn more about interactive tables.';\n",
              "          element.innerHTML = '';\n",
              "          dataTable['output_type'] = 'display_data';\n",
              "          await google.colab.output.renderOutput(dataTable, element);\n",
              "          const docLink = document.createElement('div');\n",
              "          docLink.innerHTML = docLinkHtml;\n",
              "          element.appendChild(docLink);\n",
              "        }\n",
              "      </script>\n",
              "    </div>\n",
              "  </div>\n",
              "  "
            ]
          },
          "metadata": {},
          "execution_count": 4
        }
      ]
    },
    {
      "cell_type": "markdown",
      "source": [
        "##visualizing the outliers via Boxplot"
      ],
      "metadata": {
        "id": "R3rsTTQFLqUy"
      }
    },
    {
      "cell_type": "code",
      "execution_count": null,
      "metadata": {
        "id": "CoqzqQ1T8K8J",
        "outputId": "e5c69fc5-45fa-41c1-a947-505d4a2d83c4",
        "colab": {
          "base_uri": "https://localhost:8080/",
          "height": 251
        }
      },
      "outputs": [
        {
          "output_type": "execute_result",
          "data": {
            "text/plain": [
              "<Axes: xlabel='sale_price'>"
            ]
          },
          "metadata": {},
          "execution_count": 8
        },
        {
          "output_type": "display_data",
          "data": {
            "text/plain": [
              "<Figure size 1000x200 with 1 Axes>"
            ],
            "image/png": "[encoded data removed]"
          },
          "metadata": {}
        }
      ],
      "source": [
        "plt.figure(figsize= (10,2))\n",
        "sns.set_style('whitegrid')\n",
        "sns.boxplot(x= dfa['sale_price'])"
      ]
    },
    {
      "cell_type": "code",
      "execution_count": null,
      "metadata": {
        "id": "MnJCkIVD8K8J",
        "outputId": "765b63e8-52b9-48d1-da6d-dafce8f39292",
        "colab": {
          "base_uri": "https://localhost:8080/",
          "height": 328
        }
      },
      "outputs": [
        {
          "output_type": "execute_result",
          "data": {
            "text/plain": [
              "<Axes: xlabel='sale_price', ylabel='Count'>"
            ]
          },
          "metadata": {},
          "execution_count": 9
        },
        {
          "output_type": "display_data",
          "data": {
            "text/plain": [
              "<Figure size 700x300 with 1 Axes>"
            ],
            "image/png": "[encoded data removed]"
          },
          "metadata": {}
        }
      ],
      "source": [
        "plt.figure(figsize=(7,3))\n",
        "sns.histplot(dfa['sale_price'], kde=True)"
      ]
    },
    {
      "cell_type": "markdown",
      "source": [
        "##Removing outliers via Z-score method"
      ],
      "metadata": {
        "id": "2LlOW-ntYiDX"
      }
    },
    {
      "cell_type": "code",
      "execution_count": null,
      "metadata": {
        "id": "SGjDiKz98K8J"
      },
      "outputs": [],
      "source": [
        "z_s = stats.zscore(dfa['sale_price'])"
      ]
    },
    {
      "cell_type": "code",
      "source": [
        "dfc=dfa[(z_s<3)]"
      ],
      "metadata": {
        "id": "B7Ir5iDoNQ_P"
      },
      "execution_count": null,
      "outputs": []
    },
    {
      "cell_type": "code",
      "execution_count": null,
      "metadata": {
        "id": "IAhxAZKL8K8J",
        "outputId": "e36c5c54-2198-4fc9-d978-68cee1b5e9e1",
        "colab": {
          "base_uri": "https://localhost:8080/",
          "height": 467
        }
      },
      "outputs": [
        {
          "output_type": "execute_result",
          "data": {
            "text/plain": [
              "<Axes: xlabel='sale_price'>"
            ]
          },
          "metadata": {},
          "execution_count": 12
        },
        {
          "output_type": "display_data",
          "data": {
            "text/plain": [
              "<Figure size 640x480 with 1 Axes>"
            ],
            "image/png": "[encoded data removed]"
          },
          "metadata": {}
        }
      ],
      "source": [
        "sns.boxplot(x= dfc['sale_price'])"
      ]
    },
    {
      "cell_type": "code",
      "execution_count": null,
      "metadata": {
        "id": "2yWp7g0G8K8J",
        "outputId": "4b229580-d4a0-438c-ff98-01f08de7e3c5",
        "colab": {
          "base_uri": "https://localhost:8080/",
          "height": 467
        }
      },
      "outputs": [
        {
          "output_type": "stream",
          "name": "stdout",
          "text": [
            "SKEWNESS:  1.7425516980424995\n"
          ]
        },
        {
          "output_type": "display_data",
          "data": {
            "text/plain": [
              "<Figure size 640x480 with 1 Axes>"
            ],
            "image/png": "[encoded data removed]"
          },
          "metadata": {}
        }
      ],
      "source": [
        "sns.histplot(dfc['sale_price'], kde=True)\n",
        "print('SKEWNESS: ',dfc['sale_price'].skew())"
      ]
    },
    {
      "cell_type": "code",
      "source": [
        "dfclean['account_made'] = pd.to_datetime(dfclean['account_made'])"
      ],
      "metadata": {
        "id": "Ncv5VmqXvhOy"
      },
      "execution_count": null,
      "outputs": []
    },
    {
      "cell_type": "markdown",
      "metadata": {
        "id": "IvRPYNU_8K8K"
      },
      "source": [
        "SAVE TO CSV"
      ]
    },
    {
      "cell_type": "code",
      "source": [
        "file_path = '/content/drive/MyDrive/Colab Notebooks/aparilo/dfclean.csv'\n",
        "dfc.to_csv(file_path, index=False)"
      ],
      "metadata": {
        "id": "MfnqxNVNaZZS"
      },
      "execution_count": null,
      "outputs": []
    },
    {
      "cell_type": "markdown",
      "metadata": {
        "id": "tu7Ue5gxpb0e"
      },
      "source": [
        "# EDA"
      ]
    },
    {
      "cell_type": "code",
      "source": [
        "dfclean = pd.read_csv('/content/drive/MyDrive/Colab Notebooks/aparilo/dfclean.csv')"
      ],
      "metadata": {
        "id": "NHxOwM0EOlrh"
      },
      "execution_count": 9,
      "outputs": []
    },
    {
      "cell_type": "code",
      "execution_count": 10,
      "metadata": {
        "id": "0QeWjMKA8K8K"
      },
      "outputs": [],
      "source": [
        "dfclean['created'] = pd.to_datetime(dfclean['created'], format= '%m/%d/%Y %H:%M')\n",
        "dfclean['shipped'] = pd.to_datetime(dfclean['shipped'], format= '%m/%d/%Y %H:%M')\n",
        "dfclean['delivered'] = pd.to_datetime(dfclean['delivered'], format= '%m/%d/%Y %H:%M')\n",
        "dfclean['returned'] = pd.to_datetime(dfclean['returned'], format= '%m/%d/%Y %H:%M')"
      ]
    },
    {
      "cell_type": "markdown",
      "source": [
        "Filtering confirmed bought order (status: processing, shipped, complete)"
      ],
      "metadata": {
        "id": "ZdhJfjdTbdXa"
      }
    },
    {
      "cell_type": "code",
      "execution_count": null,
      "metadata": {
        "id": "wzGsPJbd7GhL"
      },
      "outputs": [],
      "source": [
        "df_buy = dfclean[~dfclean['status'].isin(['Cancelled','Returned'])]\n",
        "df_buy.drop(columns='returned', axis = 1, inplace=True)\n",
        "df_buy.head()"
      ]
    },
    {
      "cell_type": "markdown",
      "metadata": {
        "id": "YIgjUHRK8K8K"
      },
      "source": [
        "##EDA 1: 6 Months vs 6 Months Order Frequency & Average Order Value"
      ]
    },
    {
      "cell_type": "markdown",
      "metadata": {
        "id": "zvaJ_WaD7GhM"
      },
      "source": [
        "filtering the timeline\n",
        "\n"
      ]
    },
    {
      "cell_type": "code",
      "source": [
        "#Last 6 months from Q1 2023\n",
        "last_vi = datetime(2023,5,1) - timedelta(days=180)\n",
        "#last 12-6 months\n",
        "before_last_vi = last_vi - timedelta(days = 180)"
      ],
      "metadata": {
        "id": "_ESnZ2GDcQqO"
      },
      "execution_count": null,
      "outputs": []
    },
    {
      "cell_type": "code",
      "execution_count": null,
      "metadata": {
        "id": "x49QGBCW8K8K"
      },
      "outputs": [],
      "source": [
        "buy_past6 = df_buy[df_buy['created'] >= last_vi]"
      ]
    },
    {
      "cell_type": "code",
      "source": [
        "buy_past12_6 = df_buy[(df_buy['created'] >= before_last_vi) & (df_buy['created'] < last_vi)]"
      ],
      "metadata": {
        "id": "JpUB6ESiRqJ6"
      },
      "execution_count": null,
      "outputs": []
    },
    {
      "cell_type": "markdown",
      "metadata": {
        "id": "dvdNErC4_iUN"
      },
      "source": [
        "order frequency per user & order value | past 6 months vs 6 months before\n",
        "\n",
        "\n",
        "\n"
      ]
    },
    {
      "cell_type": "code",
      "execution_count": null,
      "metadata": {
        "colab": {
          "base_uri": "https://localhost:8080/"
        },
        "id": "DgWLwC2H8K8L",
        "outputId": "e1651e32-0ef8-4c69-dbb1-e08bbc2fdaa7"
      },
      "outputs": [
        {
          "output_type": "stream",
          "name": "stdout",
          "text": [
            "Past 6 months - Order Frequency = 1.7886748394629306 / user\n",
            "Past 6 months - Order Value = 53.80302939950404 USD\n"
          ]
        }
      ],
      "source": [
        "#order frequency PAST 6 MONTHS\n",
        "jumlah_order = buy_past6['order_id'].count()\n",
        "distinct_user = buy_past6['user_id'].nunique()\n",
        "of = jumlah_order / distinct_user\n",
        "\n",
        "#order_value in average\n",
        "mean_order_value = buy_past6['sale_price'].mean()\n",
        "print(f'Past 6 months - Order Frequency = {of} / user')\n",
        "print(f'Past 6 months - Order Value = {mean_order_value} USD')"
      ]
    },
    {
      "cell_type": "code",
      "source": [
        "#order frequency PAST 12-6 MONTHS\n",
        "jumlah_order2 = buy_past12_6['order_id'].count()\n",
        "distinct_user2 = buy_past12_6['user_id'].nunique()\n",
        "of2 = jumlah_order2/distinct_user2\n",
        "\n",
        "#average order value\n",
        "mean_order_value2 = buy_past12_6['sale_price'].mean()\n",
        "print(f'Past 6 months older - Order Frequency = {of2} / user')\n",
        "print(f'Past 6 months older - Order Value = {mean_order_value2} USD')\n"
      ],
      "metadata": {
        "colab": {
          "base_uri": "https://localhost:8080/"
        },
        "id": "DJZSS326Smby",
        "outputId": "b8c3c39d-7dde-4c2d-df60-ff3ac6470977"
      },
      "execution_count": null,
      "outputs": [
        {
          "output_type": "stream",
          "name": "stdout",
          "text": [
            "Past 6 months older - Order Frequency = 1.6011944260119442 / user\n",
            "Past 6 months older - Order Value = 54.09074074869449 USD\n"
          ]
        }
      ]
    },
    {
      "cell_type": "markdown",
      "source": [
        "compiling the data to DF"
      ],
      "metadata": {
        "id": "71xbLCg0ZNvy"
      }
    },
    {
      "cell_type": "code",
      "source": [
        "retention6monthsvs6months = pd.DataFrame({'Timeline Group':['Past_6_months','Past_12_6_months'],\n",
        "                                          'Order Freq':[of,of2],\n",
        "                                          'Avr Order Value':[mean_order_value, mean_order_value2]})"
      ],
      "metadata": {
        "id": "ISCxeozhXRJp"
      },
      "execution_count": null,
      "outputs": []
    },
    {
      "cell_type": "code",
      "source": [
        "retention6monthsvs6months"
      ],
      "metadata": {
        "colab": {
          "base_uri": "https://localhost:8080/",
          "height": 112
        },
        "id": "QGTizHi-YbPM",
        "outputId": "3ba8fa97-f3b8-482e-b2e4-30c04067a73a"
      },
      "execution_count": null,
      "outputs": [
        {
          "output_type": "execute_result",
          "data": {
            "text/plain": [
              "     Timeline Group  Order Freq  Avr Order Value\n",
              "0     Past_6_months        1.79            53.80\n",
              "1  Past_12_6_months        1.60            54.09"
            ],
            "text/html": [
              "\n",
              "  <div id=\"df-dd262cd8-e68f-416c-a823-bfdad8dc17a2\">\n",
              "    <div class=\"colab-df-container\">\n",
              "      <div>\n",
              "<style scoped>\n",
              "    .dataframe tbody tr th:only-of-type {\n",
              "        vertical-align: middle;\n",
              "    }\n",
              "\n",
              "    .dataframe tbody tr th {\n",
              "        vertical-align: top;\n",
              "    }\n",
              "\n",
              "    .dataframe thead th {\n",
              "        text-align: right;\n",
              "    }\n",
              "</style>\n",
              "<table border=\"1\" class=\"dataframe\">\n",
              "  <thead>\n",
              "    <tr style=\"text-align: right;\">\n",
              "      <th></th>\n",
              "      <th>Timeline Group</th>\n",
              "      <th>Order Freq</th>\n",
              "      <th>Avr Order Value</th>\n",
              "    </tr>\n",
              "  </thead>\n",
              "  <tbody>\n",
              "    <tr>\n",
              "      <th>0</th>\n",
              "      <td>Past_6_months</td>\n",
              "      <td>1.79</td>\n",
              "      <td>53.80</td>\n",
              "    </tr>\n",
              "    <tr>\n",
              "      <th>1</th>\n",
              "      <td>Past_12_6_months</td>\n",
              "      <td>1.60</td>\n",
              "      <td>54.09</td>\n",
              "    </tr>\n",
              "  </tbody>\n",
              "</table>\n",
              "</div>\n",
              "      <button class=\"colab-df-convert\" onclick=\"convertToInteractive('df-dd262cd8-e68f-416c-a823-bfdad8dc17a2')\"\n",
              "              title=\"Convert this dataframe to an interactive table.\"\n",
              "              style=\"display:none;\">\n",
              "        \n",
              "  <svg xmlns=\"http://www.w3.org/2000/svg\" height=\"24px\"viewBox=\"0 0 24 24\"\n",
              "       width=\"24px\">\n",
              "    <path d=\"M0 0h24v24H0V0z\" fill=\"none\"/>\n",
              "    <path d=\"M18.56 5.44l.94 2.06.94-2.06 2.06-.94-2.06-.94-.94-2.06-.94 2.06-2.06.94zm-11 1L8.5 8.5l.94-2.06 2.06-.94-2.06-.94L8.5 2.5l-.94 2.06-2.06.94zm10 10l.94 2.06.94-2.06 2.06-.94-2.06-.94-.94-2.06-.94 2.06-2.06.94z\"/><path d=\"M17.41 7.96l-1.37-1.37c-.4-.4-.92-.59-1.43-.59-.52 0-1.04.2-1.43.59L10.3 9.45l-7.72 7.72c-.78.78-.78 2.05 0 2.83L4 21.41c.39.39.9.59 1.41.59.51 0 1.02-.2 1.41-.59l7.78-7.78 2.81-2.81c.8-.78.8-2.07 0-2.86zM5.41 20L4 18.59l7.72-7.72 1.47 1.35L5.41 20z\"/>\n",
              "  </svg>\n",
              "      </button>\n",
              "      \n",
              "  <style>\n",
              "    .colab-df-container {\n",
              "      display:flex;\n",
              "      flex-wrap:wrap;\n",
              "      gap: 12px;\n",
              "    }\n",
              "\n",
              "    .colab-df-convert {\n",
              "      background-color: #E8F0FE;\n",
              "      border: none;\n",
              "      border-radius: 50%;\n",
              "      cursor: pointer;\n",
              "      display: none;\n",
              "      fill: #1967D2;\n",
              "      height: 32px;\n",
              "      padding: 0 0 0 0;\n",
              "      width: 32px;\n",
              "    }\n",
              "\n",
              "    .colab-df-convert:hover {\n",
              "      background-color: #E2EBFA;\n",
              "      box-shadow: 0px 1px 2px rgba(60, 64, 67, 0.3), 0px 1px 3px 1px rgba(60, 64, 67, 0.15);\n",
              "      fill: #174EA6;\n",
              "    }\n",
              "\n",
              "    [theme=dark] .colab-df-convert {\n",
              "      background-color: #3B4455;\n",
              "      fill: #D2E3FC;\n",
              "    }\n",
              "\n",
              "    [theme=dark] .colab-df-convert:hover {\n",
              "      background-color: #434B5C;\n",
              "      box-shadow: 0px 1px 3px 1px rgba(0, 0, 0, 0.15);\n",
              "      filter: drop-shadow(0px 1px 2px rgba(0, 0, 0, 0.3));\n",
              "      fill: #FFFFFF;\n",
              "    }\n",
              "  </style>\n",
              "\n",
              "      <script>\n",
              "        const buttonEl =\n",
              "          document.querySelector('#df-dd262cd8-e68f-416c-a823-bfdad8dc17a2 button.colab-df-convert');\n",
              "        buttonEl.style.display =\n",
              "          google.colab.kernel.accessAllowed ? 'block' : 'none';\n",
              "\n",
              "        async function convertToInteractive(key) {\n",
              "          const element = document.querySelector('#df-dd262cd8-e68f-416c-a823-bfdad8dc17a2');\n",
              "          const dataTable =\n",
              "            await google.colab.kernel.invokeFunction('convertToInteractive',\n",
              "                                                     [key], {});\n",
              "          if (!dataTable) return;\n",
              "\n",
              "          const docLinkHtml = 'Like what you see? Visit the ' +\n",
              "            '<a target=\"_blank\" href=https://colab.research.google.com/notebooks/data_table.ipynb>data table notebook</a>'\n",
              "            + ' to learn more about interactive tables.';\n",
              "          element.innerHTML = '';\n",
              "          dataTable['output_type'] = 'display_data';\n",
              "          await google.colab.output.renderOutput(dataTable, element);\n",
              "          const docLink = document.createElement('div');\n",
              "          docLink.innerHTML = docLinkHtml;\n",
              "          element.appendChild(docLink);\n",
              "        }\n",
              "      </script>\n",
              "    </div>\n",
              "  </div>\n",
              "  "
            ]
          },
          "metadata": {},
          "execution_count": 129
        }
      ]
    },
    {
      "cell_type": "markdown",
      "source": [
        "###EDA 1.a: important business metrics: order frequency, average order value, revenue. per year"
      ],
      "metadata": {
        "id": "NPBHot8_fwes"
      }
    },
    {
      "cell_type": "code",
      "source": [
        "user_count = df_buy['user_id'].nunique()\n",
        "\n",
        "buy_metrics = df_buy.groupby(df_buy['created'].dt.year).agg(\n",
        "    order_freq = ('order_id', lambda x: x.count()/user_count),\n",
        "    avg_order_value = ('sale_price','mean'),\n",
        "    total_revenue = ('sale_price','sum')\n",
        ").reset_index()\n",
        "#ignore year 2023"
      ],
      "metadata": {
        "id": "nnsB4QQyb4Se"
      },
      "execution_count": null,
      "outputs": []
    },
    {
      "cell_type": "code",
      "source": [
        "buy_metrics"
      ],
      "metadata": {
        "colab": {
          "base_uri": "https://localhost:8080/",
          "height": 206
        },
        "id": "x4j6GwZ4fTAf",
        "outputId": "7d810a18-e35f-4f49-fd99-8878370d8214"
      },
      "execution_count": null,
      "outputs": [
        {
          "output_type": "execute_result",
          "data": {
            "text/plain": [
              "   created  order_freq  avg_order_value  total_revenue\n",
              "0     2019        0.06            53.22      205326.91\n",
              "1     2020        0.20            53.96      689602.54\n",
              "2     2021        0.41            53.61     1425340.78\n",
              "3     2022        0.80            53.88     2809410.81\n",
              "4     2023        0.57            53.91     2012025.05"
            ],
            "text/html": [
              "\n",
              "  <div id=\"df-b7a65a64-3328-41d1-b792-d12ce6208abc\">\n",
              "    <div class=\"colab-df-container\">\n",
              "      <div>\n",
              "<style scoped>\n",
              "    .dataframe tbody tr th:only-of-type {\n",
              "        vertical-align: middle;\n",
              "    }\n",
              "\n",
              "    .dataframe tbody tr th {\n",
              "        vertical-align: top;\n",
              "    }\n",
              "\n",
              "    .dataframe thead th {\n",
              "        text-align: right;\n",
              "    }\n",
              "</style>\n",
              "<table border=\"1\" class=\"dataframe\">\n",
              "  <thead>\n",
              "    <tr style=\"text-align: right;\">\n",
              "      <th></th>\n",
              "      <th>created</th>\n",
              "      <th>order_freq</th>\n",
              "      <th>avg_order_value</th>\n",
              "      <th>total_revenue</th>\n",
              "    </tr>\n",
              "  </thead>\n",
              "  <tbody>\n",
              "    <tr>\n",
              "      <th>0</th>\n",
              "      <td>2019</td>\n",
              "      <td>0.06</td>\n",
              "      <td>53.22</td>\n",
              "      <td>205326.91</td>\n",
              "    </tr>\n",
              "    <tr>\n",
              "      <th>1</th>\n",
              "      <td>2020</td>\n",
              "      <td>0.20</td>\n",
              "      <td>53.96</td>\n",
              "      <td>689602.54</td>\n",
              "    </tr>\n",
              "    <tr>\n",
              "      <th>2</th>\n",
              "      <td>2021</td>\n",
              "      <td>0.41</td>\n",
              "      <td>53.61</td>\n",
              "      <td>1425340.78</td>\n",
              "    </tr>\n",
              "    <tr>\n",
              "      <th>3</th>\n",
              "      <td>2022</td>\n",
              "      <td>0.80</td>\n",
              "      <td>53.88</td>\n",
              "      <td>2809410.81</td>\n",
              "    </tr>\n",
              "    <tr>\n",
              "      <th>4</th>\n",
              "      <td>2023</td>\n",
              "      <td>0.57</td>\n",
              "      <td>53.91</td>\n",
              "      <td>2012025.05</td>\n",
              "    </tr>\n",
              "  </tbody>\n",
              "</table>\n",
              "</div>\n",
              "      <button class=\"colab-df-convert\" onclick=\"convertToInteractive('df-b7a65a64-3328-41d1-b792-d12ce6208abc')\"\n",
              "              title=\"Convert this dataframe to an interactive table.\"\n",
              "              style=\"display:none;\">\n",
              "        \n",
              "  <svg xmlns=\"http://www.w3.org/2000/svg\" height=\"24px\"viewBox=\"0 0 24 24\"\n",
              "       width=\"24px\">\n",
              "    <path d=\"M0 0h24v24H0V0z\" fill=\"none\"/>\n",
              "    <path d=\"M18.56 5.44l.94 2.06.94-2.06 2.06-.94-2.06-.94-.94-2.06-.94 2.06-2.06.94zm-11 1L8.5 8.5l.94-2.06 2.06-.94-2.06-.94L8.5 2.5l-.94 2.06-2.06.94zm10 10l.94 2.06.94-2.06 2.06-.94-2.06-.94-.94-2.06-.94 2.06-2.06.94z\"/><path d=\"M17.41 7.96l-1.37-1.37c-.4-.4-.92-.59-1.43-.59-.52 0-1.04.2-1.43.59L10.3 9.45l-7.72 7.72c-.78.78-.78 2.05 0 2.83L4 21.41c.39.39.9.59 1.41.59.51 0 1.02-.2 1.41-.59l7.78-7.78 2.81-2.81c.8-.78.8-2.07 0-2.86zM5.41 20L4 18.59l7.72-7.72 1.47 1.35L5.41 20z\"/>\n",
              "  </svg>\n",
              "      </button>\n",
              "      \n",
              "  <style>\n",
              "    .colab-df-container {\n",
              "      display:flex;\n",
              "      flex-wrap:wrap;\n",
              "      gap: 12px;\n",
              "    }\n",
              "\n",
              "    .colab-df-convert {\n",
              "      background-color: #E8F0FE;\n",
              "      border: none;\n",
              "      border-radius: 50%;\n",
              "      cursor: pointer;\n",
              "      display: none;\n",
              "      fill: #1967D2;\n",
              "      height: 32px;\n",
              "      padding: 0 0 0 0;\n",
              "      width: 32px;\n",
              "    }\n",
              "\n",
              "    .colab-df-convert:hover {\n",
              "      background-color: #E2EBFA;\n",
              "      box-shadow: 0px 1px 2px rgba(60, 64, 67, 0.3), 0px 1px 3px 1px rgba(60, 64, 67, 0.15);\n",
              "      fill: #174EA6;\n",
              "    }\n",
              "\n",
              "    [theme=dark] .colab-df-convert {\n",
              "      background-color: #3B4455;\n",
              "      fill: #D2E3FC;\n",
              "    }\n",
              "\n",
              "    [theme=dark] .colab-df-convert:hover {\n",
              "      background-color: #434B5C;\n",
              "      box-shadow: 0px 1px 3px 1px rgba(0, 0, 0, 0.15);\n",
              "      filter: drop-shadow(0px 1px 2px rgba(0, 0, 0, 0.3));\n",
              "      fill: #FFFFFF;\n",
              "    }\n",
              "  </style>\n",
              "\n",
              "      <script>\n",
              "        const buttonEl =\n",
              "          document.querySelector('#df-b7a65a64-3328-41d1-b792-d12ce6208abc button.colab-df-convert');\n",
              "        buttonEl.style.display =\n",
              "          google.colab.kernel.accessAllowed ? 'block' : 'none';\n",
              "\n",
              "        async function convertToInteractive(key) {\n",
              "          const element = document.querySelector('#df-b7a65a64-3328-41d1-b792-d12ce6208abc');\n",
              "          const dataTable =\n",
              "            await google.colab.kernel.invokeFunction('convertToInteractive',\n",
              "                                                     [key], {});\n",
              "          if (!dataTable) return;\n",
              "\n",
              "          const docLinkHtml = 'Like what you see? Visit the ' +\n",
              "            '<a target=\"_blank\" href=https://colab.research.google.com/notebooks/data_table.ipynb>data table notebook</a>'\n",
              "            + ' to learn more about interactive tables.';\n",
              "          element.innerHTML = '';\n",
              "          dataTable['output_type'] = 'display_data';\n",
              "          await google.colab.output.renderOutput(dataTable, element);\n",
              "          const docLink = document.createElement('div');\n",
              "          docLink.innerHTML = docLinkHtml;\n",
              "          element.appendChild(docLink);\n",
              "        }\n",
              "      </script>\n",
              "    </div>\n",
              "  </div>\n",
              "  "
            ]
          },
          "metadata": {},
          "execution_count": 22
        }
      ]
    },
    {
      "cell_type": "markdown",
      "source": [
        "##EDA 2: Revenue from each country"
      ],
      "metadata": {
        "id": "urJL33LhftYJ"
      }
    },
    {
      "cell_type": "markdown",
      "metadata": {
        "id": "JJDVMmnl7GhR"
      },
      "source": [
        "grouby & aggregate multiple columns and multiple condition:\n",
        "Revenue/country year to year"
      ]
    },
    {
      "cell_type": "code",
      "execution_count": null,
      "metadata": {
        "colab": {
          "base_uri": "https://localhost:8080/",
          "height": 519
        },
        "id": "Of_5_7nR7GhR",
        "outputId": "3fd52187-7f28-4045-8709-ed9deb627c04"
      },
      "outputs": [
        {
          "output_type": "execute_result",
          "data": {
            "text/plain": [
              "           country  revenue2019  revenue2020  revenue2021  revenue2022\n",
              "0            China     70363.25    232737.46    487254.32    967150.71\n",
              "1    United States     43625.42    160154.03    321728.38    631857.98\n",
              "2           Brasil     29196.96     96887.29    196751.40    388466.62\n",
              "3      South Korea     13686.18     41068.72     81679.74    148757.25\n",
              "4   United Kingdom      9960.60     29688.82     64773.99    135385.89\n",
              "5           France     11803.99     30223.67     64256.33    132641.26\n",
              "6          Germany      7757.78     28918.72     61895.80    116301.95\n",
              "7            Spain      7441.33     27734.04     55182.12    113100.55\n",
              "8            Japan      4728.68     17198.83     40339.61     69031.68\n",
              "9        Australia      3971.61     17023.20     29576.24     62650.64\n",
              "10         Belgium      2230.57      6666.30     19417.11     36407.03\n",
              "11          Poland       500.55      1301.46      2452.79      7170.82\n",
              "12        Colombia        59.99         0.00        32.95       311.30\n",
              "13          España         0.00         0.00         0.00       125.00\n",
              "14         Austria         0.00         0.00         0.00        52.13"
            ],
            "text/html": [
              "\n",
              "  <div id=\"df-61fa8964-4aa2-44b6-9636-bc79f57cd618\">\n",
              "    <div class=\"colab-df-container\">\n",
              "      <div>\n",
              "<style scoped>\n",
              "    .dataframe tbody tr th:only-of-type {\n",
              "        vertical-align: middle;\n",
              "    }\n",
              "\n",
              "    .dataframe tbody tr th {\n",
              "        vertical-align: top;\n",
              "    }\n",
              "\n",
              "    .dataframe thead th {\n",
              "        text-align: right;\n",
              "    }\n",
              "</style>\n",
              "<table border=\"1\" class=\"dataframe\">\n",
              "  <thead>\n",
              "    <tr style=\"text-align: right;\">\n",
              "      <th></th>\n",
              "      <th>country</th>\n",
              "      <th>revenue2019</th>\n",
              "      <th>revenue2020</th>\n",
              "      <th>revenue2021</th>\n",
              "      <th>revenue2022</th>\n",
              "    </tr>\n",
              "  </thead>\n",
              "  <tbody>\n",
              "    <tr>\n",
              "      <th>0</th>\n",
              "      <td>China</td>\n",
              "      <td>70363.25</td>\n",
              "      <td>232737.46</td>\n",
              "      <td>487254.32</td>\n",
              "      <td>967150.71</td>\n",
              "    </tr>\n",
              "    <tr>\n",
              "      <th>1</th>\n",
              "      <td>United States</td>\n",
              "      <td>43625.42</td>\n",
              "      <td>160154.03</td>\n",
              "      <td>321728.38</td>\n",
              "      <td>631857.98</td>\n",
              "    </tr>\n",
              "    <tr>\n",
              "      <th>2</th>\n",
              "      <td>Brasil</td>\n",
              "      <td>29196.96</td>\n",
              "      <td>96887.29</td>\n",
              "      <td>196751.40</td>\n",
              "      <td>388466.62</td>\n",
              "    </tr>\n",
              "    <tr>\n",
              "      <th>3</th>\n",
              "      <td>South Korea</td>\n",
              "      <td>13686.18</td>\n",
              "      <td>41068.72</td>\n",
              "      <td>81679.74</td>\n",
              "      <td>148757.25</td>\n",
              "    </tr>\n",
              "    <tr>\n",
              "      <th>4</th>\n",
              "      <td>United Kingdom</td>\n",
              "      <td>9960.60</td>\n",
              "      <td>29688.82</td>\n",
              "      <td>64773.99</td>\n",
              "      <td>135385.89</td>\n",
              "    </tr>\n",
              "    <tr>\n",
              "      <th>5</th>\n",
              "      <td>France</td>\n",
              "      <td>11803.99</td>\n",
              "      <td>30223.67</td>\n",
              "      <td>64256.33</td>\n",
              "      <td>132641.26</td>\n",
              "    </tr>\n",
              "    <tr>\n",
              "      <th>6</th>\n",
              "      <td>Germany</td>\n",
              "      <td>7757.78</td>\n",
              "      <td>28918.72</td>\n",
              "      <td>61895.80</td>\n",
              "      <td>116301.95</td>\n",
              "    </tr>\n",
              "    <tr>\n",
              "      <th>7</th>\n",
              "      <td>Spain</td>\n",
              "      <td>7441.33</td>\n",
              "      <td>27734.04</td>\n",
              "      <td>55182.12</td>\n",
              "      <td>113100.55</td>\n",
              "    </tr>\n",
              "    <tr>\n",
              "      <th>8</th>\n",
              "      <td>Japan</td>\n",
              "      <td>4728.68</td>\n",
              "      <td>17198.83</td>\n",
              "      <td>40339.61</td>\n",
              "      <td>69031.68</td>\n",
              "    </tr>\n",
              "    <tr>\n",
              "      <th>9</th>\n",
              "      <td>Australia</td>\n",
              "      <td>3971.61</td>\n",
              "      <td>17023.20</td>\n",
              "      <td>29576.24</td>\n",
              "      <td>62650.64</td>\n",
              "    </tr>\n",
              "    <tr>\n",
              "      <th>10</th>\n",
              "      <td>Belgium</td>\n",
              "      <td>2230.57</td>\n",
              "      <td>6666.30</td>\n",
              "      <td>19417.11</td>\n",
              "      <td>36407.03</td>\n",
              "    </tr>\n",
              "    <tr>\n",
              "      <th>11</th>\n",
              "      <td>Poland</td>\n",
              "      <td>500.55</td>\n",
              "      <td>1301.46</td>\n",
              "      <td>2452.79</td>\n",
              "      <td>7170.82</td>\n",
              "    </tr>\n",
              "    <tr>\n",
              "      <th>12</th>\n",
              "      <td>Colombia</td>\n",
              "      <td>59.99</td>\n",
              "      <td>0.00</td>\n",
              "      <td>32.95</td>\n",
              "      <td>311.30</td>\n",
              "    </tr>\n",
              "    <tr>\n",
              "      <th>13</th>\n",
              "      <td>España</td>\n",
              "      <td>0.00</td>\n",
              "      <td>0.00</td>\n",
              "      <td>0.00</td>\n",
              "      <td>125.00</td>\n",
              "    </tr>\n",
              "    <tr>\n",
              "      <th>14</th>\n",
              "      <td>Austria</td>\n",
              "      <td>0.00</td>\n",
              "      <td>0.00</td>\n",
              "      <td>0.00</td>\n",
              "      <td>52.13</td>\n",
              "    </tr>\n",
              "  </tbody>\n",
              "</table>\n",
              "</div>\n",
              "      <button class=\"colab-df-convert\" onclick=\"convertToInteractive('df-61fa8964-4aa2-44b6-9636-bc79f57cd618')\"\n",
              "              title=\"Convert this dataframe to an interactive table.\"\n",
              "              style=\"display:none;\">\n",
              "        \n",
              "  <svg xmlns=\"http://www.w3.org/2000/svg\" height=\"24px\"viewBox=\"0 0 24 24\"\n",
              "       width=\"24px\">\n",
              "    <path d=\"M0 0h24v24H0V0z\" fill=\"none\"/>\n",
              "    <path d=\"M18.56 5.44l.94 2.06.94-2.06 2.06-.94-2.06-.94-.94-2.06-.94 2.06-2.06.94zm-11 1L8.5 8.5l.94-2.06 2.06-.94-2.06-.94L8.5 2.5l-.94 2.06-2.06.94zm10 10l.94 2.06.94-2.06 2.06-.94-2.06-.94-.94-2.06-.94 2.06-2.06.94z\"/><path d=\"M17.41 7.96l-1.37-1.37c-.4-.4-.92-.59-1.43-.59-.52 0-1.04.2-1.43.59L10.3 9.45l-7.72 7.72c-.78.78-.78 2.05 0 2.83L4 21.41c.39.39.9.59 1.41.59.51 0 1.02-.2 1.41-.59l7.78-7.78 2.81-2.81c.8-.78.8-2.07 0-2.86zM5.41 20L4 18.59l7.72-7.72 1.47 1.35L5.41 20z\"/>\n",
              "  </svg>\n",
              "      </button>\n",
              "      \n",
              "  <style>\n",
              "    .colab-df-container {\n",
              "      display:flex;\n",
              "      flex-wrap:wrap;\n",
              "      gap: 12px;\n",
              "    }\n",
              "\n",
              "    .colab-df-convert {\n",
              "      background-color: #E8F0FE;\n",
              "      border: none;\n",
              "      border-radius: 50%;\n",
              "      cursor: pointer;\n",
              "      display: none;\n",
              "      fill: #1967D2;\n",
              "      height: 32px;\n",
              "      padding: 0 0 0 0;\n",
              "      width: 32px;\n",
              "    }\n",
              "\n",
              "    .colab-df-convert:hover {\n",
              "      background-color: #E2EBFA;\n",
              "      box-shadow: 0px 1px 2px rgba(60, 64, 67, 0.3), 0px 1px 3px 1px rgba(60, 64, 67, 0.15);\n",
              "      fill: #174EA6;\n",
              "    }\n",
              "\n",
              "    [theme=dark] .colab-df-convert {\n",
              "      background-color: #3B4455;\n",
              "      fill: #D2E3FC;\n",
              "    }\n",
              "\n",
              "    [theme=dark] .colab-df-convert:hover {\n",
              "      background-color: #434B5C;\n",
              "      box-shadow: 0px 1px 3px 1px rgba(0, 0, 0, 0.15);\n",
              "      filter: drop-shadow(0px 1px 2px rgba(0, 0, 0, 0.3));\n",
              "      fill: #FFFFFF;\n",
              "    }\n",
              "  </style>\n",
              "\n",
              "      <script>\n",
              "        const buttonEl =\n",
              "          document.querySelector('#df-61fa8964-4aa2-44b6-9636-bc79f57cd618 button.colab-df-convert');\n",
              "        buttonEl.style.display =\n",
              "          google.colab.kernel.accessAllowed ? 'block' : 'none';\n",
              "\n",
              "        async function convertToInteractive(key) {\n",
              "          const element = document.querySelector('#df-61fa8964-4aa2-44b6-9636-bc79f57cd618');\n",
              "          const dataTable =\n",
              "            await google.colab.kernel.invokeFunction('convertToInteractive',\n",
              "                                                     [key], {});\n",
              "          if (!dataTable) return;\n",
              "\n",
              "          const docLinkHtml = 'Like what you see? Visit the ' +\n",
              "            '<a target=\"_blank\" href=https://colab.research.google.com/notebooks/data_table.ipynb>data table notebook</a>'\n",
              "            + ' to learn more about interactive tables.';\n",
              "          element.innerHTML = '';\n",
              "          dataTable['output_type'] = 'display_data';\n",
              "          await google.colab.output.renderOutput(dataTable, element);\n",
              "          const docLink = document.createElement('div');\n",
              "          docLink.innerHTML = docLinkHtml;\n",
              "          element.appendChild(docLink);\n",
              "        }\n",
              "      </script>\n",
              "    </div>\n",
              "  </div>\n",
              "  "
            ]
          },
          "metadata": {},
          "execution_count": 23
        }
      ],
      "source": [
        "df_buy.groupby('country').agg(\n",
        "    revenue2019= ('sale_price', lambda x: x[df_buy['created'].dt.year==2019].sum()),\n",
        "    revenue2020= ('sale_price', lambda x: x[df_buy['created'].dt.year==2020].sum()),\n",
        "    revenue2021= ('sale_price', lambda x: x[df_buy['created'].dt.year==2021].sum()),\n",
        "    revenue2022= ('sale_price', lambda x: x[df_buy['created'].dt.year==2022].sum())\n",
        ").sort_values('revenue2022', ascending=False).reset_index()\n"
      ]
    },
    {
      "cell_type": "markdown",
      "metadata": {
        "id": "diNOtHHmHgm-"
      },
      "source": [
        "###EDA 2.a: 2022 monthly revenue trend"
      ]
    },
    {
      "cell_type": "code",
      "execution_count": null,
      "metadata": {
        "colab": {
          "base_uri": "https://localhost:8080/",
          "height": 425
        },
        "id": "p_TtgGoe7GhS",
        "outputId": "cdc72267-bc56-452a-e9a3-b0cef7ad2c07"
      },
      "outputs": [
        {
          "output_type": "execute_result",
          "data": {
            "text/plain": [
              "    month of 2022   revenue\n",
              "0               1 168212.72\n",
              "1               2 160355.61\n",
              "2               3 187487.39\n",
              "3               4 198928.12\n",
              "4               5 200946.40\n",
              "5               6 228410.42\n",
              "6               7 230426.96\n",
              "7               8 248569.66\n",
              "8               9 259450.74\n",
              "9              10 291323.91\n",
              "10             11 299042.14\n",
              "11             12 336256.74"
            ],
            "text/html": [
              "\n",
              "  <div id=\"df-9acafac2-47bf-4aed-b68f-4fd72581b906\">\n",
              "    <div class=\"colab-df-container\">\n",
              "      <div>\n",
              "<style scoped>\n",
              "    .dataframe tbody tr th:only-of-type {\n",
              "        vertical-align: middle;\n",
              "    }\n",
              "\n",
              "    .dataframe tbody tr th {\n",
              "        vertical-align: top;\n",
              "    }\n",
              "\n",
              "    .dataframe thead th {\n",
              "        text-align: right;\n",
              "    }\n",
              "</style>\n",
              "<table border=\"1\" class=\"dataframe\">\n",
              "  <thead>\n",
              "    <tr style=\"text-align: right;\">\n",
              "      <th></th>\n",
              "      <th>month of 2022</th>\n",
              "      <th>revenue</th>\n",
              "    </tr>\n",
              "  </thead>\n",
              "  <tbody>\n",
              "    <tr>\n",
              "      <th>0</th>\n",
              "      <td>1</td>\n",
              "      <td>168212.72</td>\n",
              "    </tr>\n",
              "    <tr>\n",
              "      <th>1</th>\n",
              "      <td>2</td>\n",
              "      <td>160355.61</td>\n",
              "    </tr>\n",
              "    <tr>\n",
              "      <th>2</th>\n",
              "      <td>3</td>\n",
              "      <td>187487.39</td>\n",
              "    </tr>\n",
              "    <tr>\n",
              "      <th>3</th>\n",
              "      <td>4</td>\n",
              "      <td>198928.12</td>\n",
              "    </tr>\n",
              "    <tr>\n",
              "      <th>4</th>\n",
              "      <td>5</td>\n",
              "      <td>200946.40</td>\n",
              "    </tr>\n",
              "    <tr>\n",
              "      <th>5</th>\n",
              "      <td>6</td>\n",
              "      <td>228410.42</td>\n",
              "    </tr>\n",
              "    <tr>\n",
              "      <th>6</th>\n",
              "      <td>7</td>\n",
              "      <td>230426.96</td>\n",
              "    </tr>\n",
              "    <tr>\n",
              "      <th>7</th>\n",
              "      <td>8</td>\n",
              "      <td>248569.66</td>\n",
              "    </tr>\n",
              "    <tr>\n",
              "      <th>8</th>\n",
              "      <td>9</td>\n",
              "      <td>259450.74</td>\n",
              "    </tr>\n",
              "    <tr>\n",
              "      <th>9</th>\n",
              "      <td>10</td>\n",
              "      <td>291323.91</td>\n",
              "    </tr>\n",
              "    <tr>\n",
              "      <th>10</th>\n",
              "      <td>11</td>\n",
              "      <td>299042.14</td>\n",
              "    </tr>\n",
              "    <tr>\n",
              "      <th>11</th>\n",
              "      <td>12</td>\n",
              "      <td>336256.74</td>\n",
              "    </tr>\n",
              "  </tbody>\n",
              "</table>\n",
              "</div>\n",
              "      <button class=\"colab-df-convert\" onclick=\"convertToInteractive('df-9acafac2-47bf-4aed-b68f-4fd72581b906')\"\n",
              "              title=\"Convert this dataframe to an interactive table.\"\n",
              "              style=\"display:none;\">\n",
              "        \n",
              "  <svg xmlns=\"http://www.w3.org/2000/svg\" height=\"24px\"viewBox=\"0 0 24 24\"\n",
              "       width=\"24px\">\n",
              "    <path d=\"M0 0h24v24H0V0z\" fill=\"none\"/>\n",
              "    <path d=\"M18.56 5.44l.94 2.06.94-2.06 2.06-.94-2.06-.94-.94-2.06-.94 2.06-2.06.94zm-11 1L8.5 8.5l.94-2.06 2.06-.94-2.06-.94L8.5 2.5l-.94 2.06-2.06.94zm10 10l.94 2.06.94-2.06 2.06-.94-2.06-.94-.94-2.06-.94 2.06-2.06.94z\"/><path d=\"M17.41 7.96l-1.37-1.37c-.4-.4-.92-.59-1.43-.59-.52 0-1.04.2-1.43.59L10.3 9.45l-7.72 7.72c-.78.78-.78 2.05 0 2.83L4 21.41c.39.39.9.59 1.41.59.51 0 1.02-.2 1.41-.59l7.78-7.78 2.81-2.81c.8-.78.8-2.07 0-2.86zM5.41 20L4 18.59l7.72-7.72 1.47 1.35L5.41 20z\"/>\n",
              "  </svg>\n",
              "      </button>\n",
              "      \n",
              "  <style>\n",
              "    .colab-df-container {\n",
              "      display:flex;\n",
              "      flex-wrap:wrap;\n",
              "      gap: 12px;\n",
              "    }\n",
              "\n",
              "    .colab-df-convert {\n",
              "      background-color: #E8F0FE;\n",
              "      border: none;\n",
              "      border-radius: 50%;\n",
              "      cursor: pointer;\n",
              "      display: none;\n",
              "      fill: #1967D2;\n",
              "      height: 32px;\n",
              "      padding: 0 0 0 0;\n",
              "      width: 32px;\n",
              "    }\n",
              "\n",
              "    .colab-df-convert:hover {\n",
              "      background-color: #E2EBFA;\n",
              "      box-shadow: 0px 1px 2px rgba(60, 64, 67, 0.3), 0px 1px 3px 1px rgba(60, 64, 67, 0.15);\n",
              "      fill: #174EA6;\n",
              "    }\n",
              "\n",
              "    [theme=dark] .colab-df-convert {\n",
              "      background-color: #3B4455;\n",
              "      fill: #D2E3FC;\n",
              "    }\n",
              "\n",
              "    [theme=dark] .colab-df-convert:hover {\n",
              "      background-color: #434B5C;\n",
              "      box-shadow: 0px 1px 3px 1px rgba(0, 0, 0, 0.15);\n",
              "      filter: drop-shadow(0px 1px 2px rgba(0, 0, 0, 0.3));\n",
              "      fill: #FFFFFF;\n",
              "    }\n",
              "  </style>\n",
              "\n",
              "      <script>\n",
              "        const buttonEl =\n",
              "          document.querySelector('#df-9acafac2-47bf-4aed-b68f-4fd72581b906 button.colab-df-convert');\n",
              "        buttonEl.style.display =\n",
              "          google.colab.kernel.accessAllowed ? 'block' : 'none';\n",
              "\n",
              "        async function convertToInteractive(key) {\n",
              "          const element = document.querySelector('#df-9acafac2-47bf-4aed-b68f-4fd72581b906');\n",
              "          const dataTable =\n",
              "            await google.colab.kernel.invokeFunction('convertToInteractive',\n",
              "                                                     [key], {});\n",
              "          if (!dataTable) return;\n",
              "\n",
              "          const docLinkHtml = 'Like what you see? Visit the ' +\n",
              "            '<a target=\"_blank\" href=https://colab.research.google.com/notebooks/data_table.ipynb>data table notebook</a>'\n",
              "            + ' to learn more about interactive tables.';\n",
              "          element.innerHTML = '';\n",
              "          dataTable['output_type'] = 'display_data';\n",
              "          await google.colab.output.renderOutput(dataTable, element);\n",
              "          const docLink = document.createElement('div');\n",
              "          docLink.innerHTML = docLinkHtml;\n",
              "          element.appendChild(docLink);\n",
              "        }\n",
              "      </script>\n",
              "    </div>\n",
              "  </div>\n",
              "  "
            ]
          },
          "metadata": {},
          "execution_count": 106
        }
      ],
      "source": [
        "monthly2022_rev=df_buy.groupby(df_buy['created'].dt.month).agg(\n",
        "    revenue=('sale_price', lambda x: x[df_buy['created'].dt.year==2022].sum())\n",
        ").rename_axis('month of 2022').reset_index()\n",
        "\n",
        "monthly2022_rev"
      ]
    },
    {
      "cell_type": "code",
      "execution_count": null,
      "metadata": {
        "colab": {
          "base_uri": "https://localhost:8080/",
          "height": 499
        },
        "id": "TCyN2Jx57GhT",
        "outputId": "e24ffed2-b899-4ca0-be74-cf238492d1d9"
      },
      "outputs": [
        {
          "output_type": "display_data",
          "data": {
            "text/plain": [
              "<Figure size 1000x500 with 1 Axes>"
            ],
            "image/png": "[encoded data removed]"
          },
          "metadata": {}
        }
      ],
      "source": [
        "fig1 = plt.figure(figsize = (10,5))\n",
        "fig1.suptitle('Revenue Per Month', fontsize = 20)\n",
        "\n",
        "x = monthly2022_rev['month of 2022']\n",
        "y = monthly2022_rev['revenue']\n",
        "plt.xticks(rotation=90)\n",
        "plt.plot(x, y, color='blue', marker='o', linestyle='dashed',\n",
        "     linewidth=2, markersize=5)\n",
        "for x,y in zip(x,y):\n",
        "  label = '{:.0f}'.format(y)\n",
        "\n",
        "  plt.annotate(label,\n",
        "               (x,y),\n",
        "               textcoords='offset points',\n",
        "               xytext =(0,10),\n",
        "               ha = 'center',\n",
        "               fontsize = 10)\n",
        "plt.show()"
      ]
    },
    {
      "cell_type": "markdown",
      "source": [
        "##EDA 3: Processing time performance"
      ],
      "metadata": {
        "id": "MfvePiV1hyLg"
      }
    },
    {
      "cell_type": "markdown",
      "source": [
        "filtering COMPLETE orders + PROCESSING"
      ],
      "metadata": {
        "id": "iGkdj91NgzFr"
      }
    },
    {
      "cell_type": "code",
      "execution_count": null,
      "metadata": {
        "id": "o8-Nh2wM7GhT"
      },
      "outputs": [],
      "source": [
        "delivered = df_buy[df_buy['status']=='Complete']\n",
        "delivered.sort_values('created', ascending= True)"
      ]
    },
    {
      "cell_type": "markdown",
      "metadata": {
        "id": "ie-VuqKO7GhT"
      },
      "source": [
        "making new column: processing time, in hours"
      ]
    },
    {
      "cell_type": "code",
      "execution_count": null,
      "metadata": {
        "id": "Z46t30nM7GhU"
      },
      "outputs": [],
      "source": [
        "delivered['process_time'] = (delivered['delivered'] - delivered['created']).dt.total_seconds()/3600/24"
      ]
    },
    {
      "cell_type": "code",
      "execution_count": null,
      "metadata": {
        "colab": {
          "base_uri": "https://localhost:8080/",
          "height": 488
        },
        "id": "p9eX58fG7GhU",
        "outputId": "8ebc5246-a1eb-480b-af00-39fe9c9641d3"
      },
      "outputs": [
        {
          "output_type": "execute_result",
          "data": {
            "text/plain": [
              "           country  process_time\n",
              "0        Australia          3.14\n",
              "1          Belgium          3.10\n",
              "2            Spain          3.09\n",
              "3           France          3.09\n",
              "4    United States          3.06\n",
              "5          Germany          3.05\n",
              "6           Brasil          3.05\n",
              "7            China          3.03\n",
              "8           Poland          3.01\n",
              "9      South Korea          2.99\n",
              "10  United Kingdom          2.97\n",
              "11           Japan          2.95\n",
              "12          España          0.77\n",
              "13        Colombia          0.35"
            ],
            "text/html": [
              "\n",
              "  <div id=\"df-6174ec89-8b2f-49d3-a920-527deec68157\">\n",
              "    <div class=\"colab-df-container\">\n",
              "      <div>\n",
              "<style scoped>\n",
              "    .dataframe tbody tr th:only-of-type {\n",
              "        vertical-align: middle;\n",
              "    }\n",
              "\n",
              "    .dataframe tbody tr th {\n",
              "        vertical-align: top;\n",
              "    }\n",
              "\n",
              "    .dataframe thead th {\n",
              "        text-align: right;\n",
              "    }\n",
              "</style>\n",
              "<table border=\"1\" class=\"dataframe\">\n",
              "  <thead>\n",
              "    <tr style=\"text-align: right;\">\n",
              "      <th></th>\n",
              "      <th>country</th>\n",
              "      <th>process_time</th>\n",
              "    </tr>\n",
              "  </thead>\n",
              "  <tbody>\n",
              "    <tr>\n",
              "      <th>0</th>\n",
              "      <td>Australia</td>\n",
              "      <td>3.14</td>\n",
              "    </tr>\n",
              "    <tr>\n",
              "      <th>1</th>\n",
              "      <td>Belgium</td>\n",
              "      <td>3.10</td>\n",
              "    </tr>\n",
              "    <tr>\n",
              "      <th>2</th>\n",
              "      <td>Spain</td>\n",
              "      <td>3.09</td>\n",
              "    </tr>\n",
              "    <tr>\n",
              "      <th>3</th>\n",
              "      <td>France</td>\n",
              "      <td>3.09</td>\n",
              "    </tr>\n",
              "    <tr>\n",
              "      <th>4</th>\n",
              "      <td>United States</td>\n",
              "      <td>3.06</td>\n",
              "    </tr>\n",
              "    <tr>\n",
              "      <th>5</th>\n",
              "      <td>Germany</td>\n",
              "      <td>3.05</td>\n",
              "    </tr>\n",
              "    <tr>\n",
              "      <th>6</th>\n",
              "      <td>Brasil</td>\n",
              "      <td>3.05</td>\n",
              "    </tr>\n",
              "    <tr>\n",
              "      <th>7</th>\n",
              "      <td>China</td>\n",
              "      <td>3.03</td>\n",
              "    </tr>\n",
              "    <tr>\n",
              "      <th>8</th>\n",
              "      <td>Poland</td>\n",
              "      <td>3.01</td>\n",
              "    </tr>\n",
              "    <tr>\n",
              "      <th>9</th>\n",
              "      <td>South Korea</td>\n",
              "      <td>2.99</td>\n",
              "    </tr>\n",
              "    <tr>\n",
              "      <th>10</th>\n",
              "      <td>United Kingdom</td>\n",
              "      <td>2.97</td>\n",
              "    </tr>\n",
              "    <tr>\n",
              "      <th>11</th>\n",
              "      <td>Japan</td>\n",
              "      <td>2.95</td>\n",
              "    </tr>\n",
              "    <tr>\n",
              "      <th>12</th>\n",
              "      <td>España</td>\n",
              "      <td>0.77</td>\n",
              "    </tr>\n",
              "    <tr>\n",
              "      <th>13</th>\n",
              "      <td>Colombia</td>\n",
              "      <td>0.35</td>\n",
              "    </tr>\n",
              "  </tbody>\n",
              "</table>\n",
              "</div>\n",
              "      <button class=\"colab-df-convert\" onclick=\"convertToInteractive('df-6174ec89-8b2f-49d3-a920-527deec68157')\"\n",
              "              title=\"Convert this dataframe to an interactive table.\"\n",
              "              style=\"display:none;\">\n",
              "        \n",
              "  <svg xmlns=\"http://www.w3.org/2000/svg\" height=\"24px\"viewBox=\"0 0 24 24\"\n",
              "       width=\"24px\">\n",
              "    <path d=\"M0 0h24v24H0V0z\" fill=\"none\"/>\n",
              "    <path d=\"M18.56 5.44l.94 2.06.94-2.06 2.06-.94-2.06-.94-.94-2.06-.94 2.06-2.06.94zm-11 1L8.5 8.5l.94-2.06 2.06-.94-2.06-.94L8.5 2.5l-.94 2.06-2.06.94zm10 10l.94 2.06.94-2.06 2.06-.94-2.06-.94-.94-2.06-.94 2.06-2.06.94z\"/><path d=\"M17.41 7.96l-1.37-1.37c-.4-.4-.92-.59-1.43-.59-.52 0-1.04.2-1.43.59L10.3 9.45l-7.72 7.72c-.78.78-.78 2.05 0 2.83L4 21.41c.39.39.9.59 1.41.59.51 0 1.02-.2 1.41-.59l7.78-7.78 2.81-2.81c.8-.78.8-2.07 0-2.86zM5.41 20L4 18.59l7.72-7.72 1.47 1.35L5.41 20z\"/>\n",
              "  </svg>\n",
              "      </button>\n",
              "      \n",
              "  <style>\n",
              "    .colab-df-container {\n",
              "      display:flex;\n",
              "      flex-wrap:wrap;\n",
              "      gap: 12px;\n",
              "    }\n",
              "\n",
              "    .colab-df-convert {\n",
              "      background-color: #E8F0FE;\n",
              "      border: none;\n",
              "      border-radius: 50%;\n",
              "      cursor: pointer;\n",
              "      display: none;\n",
              "      fill: #1967D2;\n",
              "      height: 32px;\n",
              "      padding: 0 0 0 0;\n",
              "      width: 32px;\n",
              "    }\n",
              "\n",
              "    .colab-df-convert:hover {\n",
              "      background-color: #E2EBFA;\n",
              "      box-shadow: 0px 1px 2px rgba(60, 64, 67, 0.3), 0px 1px 3px 1px rgba(60, 64, 67, 0.15);\n",
              "      fill: #174EA6;\n",
              "    }\n",
              "\n",
              "    [theme=dark] .colab-df-convert {\n",
              "      background-color: #3B4455;\n",
              "      fill: #D2E3FC;\n",
              "    }\n",
              "\n",
              "    [theme=dark] .colab-df-convert:hover {\n",
              "      background-color: #434B5C;\n",
              "      box-shadow: 0px 1px 3px 1px rgba(0, 0, 0, 0.15);\n",
              "      filter: drop-shadow(0px 1px 2px rgba(0, 0, 0, 0.3));\n",
              "      fill: #FFFFFF;\n",
              "    }\n",
              "  </style>\n",
              "\n",
              "      <script>\n",
              "        const buttonEl =\n",
              "          document.querySelector('#df-6174ec89-8b2f-49d3-a920-527deec68157 button.colab-df-convert');\n",
              "        buttonEl.style.display =\n",
              "          google.colab.kernel.accessAllowed ? 'block' : 'none';\n",
              "\n",
              "        async function convertToInteractive(key) {\n",
              "          const element = document.querySelector('#df-6174ec89-8b2f-49d3-a920-527deec68157');\n",
              "          const dataTable =\n",
              "            await google.colab.kernel.invokeFunction('convertToInteractive',\n",
              "                                                     [key], {});\n",
              "          if (!dataTable) return;\n",
              "\n",
              "          const docLinkHtml = 'Like what you see? Visit the ' +\n",
              "            '<a target=\"_blank\" href=https://colab.research.google.com/notebooks/data_table.ipynb>data table notebook</a>'\n",
              "            + ' to learn more about interactive tables.';\n",
              "          element.innerHTML = '';\n",
              "          dataTable['output_type'] = 'display_data';\n",
              "          await google.colab.output.renderOutput(dataTable, element);\n",
              "          const docLink = document.createElement('div');\n",
              "          docLink.innerHTML = docLinkHtml;\n",
              "          element.appendChild(docLink);\n",
              "        }\n",
              "      </script>\n",
              "    </div>\n",
              "  </div>\n",
              "  "
            ]
          },
          "metadata": {},
          "execution_count": 28
        }
      ],
      "source": [
        "delivered.groupby('country').agg(\n",
        "    process_time = ('process_time', 'mean')    \n",
        "    ).sort_values('process_time', ascending= False).reset_index()"
      ]
    },
    {
      "cell_type": "markdown",
      "source": [
        "for fun: is there a correlation between process_time and order_count? maybe we can boost australia"
      ],
      "metadata": {
        "id": "J2Q6APkwju29"
      }
    },
    {
      "cell_type": "code",
      "source": [
        "delivered[delivered['country'] == 'Australia'].head()"
      ],
      "metadata": {
        "id": "GqHx6TnXkg0R"
      },
      "execution_count": null,
      "outputs": []
    },
    {
      "cell_type": "code",
      "source": [
        "#drill down to australia\n",
        "delivered.groupby('state').agg(\n",
        "    process_time = ('process_time', lambda x: x[delivered['country'] == 'Australia'].mean())\n",
        ").sort_values('process_time', ascending= False).reset_index().head(8)"
      ],
      "metadata": {
        "colab": {
          "base_uri": "https://localhost:8080/",
          "height": 300
        },
        "id": "CD2s60EzkIUz",
        "outputId": "83ee0828-362a-44fa-e13d-db4bf4955740"
      },
      "execution_count": null,
      "outputs": [
        {
          "output_type": "execute_result",
          "data": {
            "text/plain": [
              "                          state  process_time\n",
              "0            Northern Territory          4.33\n",
              "1  Australian Capital Territory          3.90\n",
              "2                      Tasmania          3.51\n",
              "3               New South Wales          3.32\n",
              "4             Western Australia          3.32\n",
              "5                    Queensland          3.11\n",
              "6               South Australia          2.97\n",
              "7                      Victoria          2.86"
            ],
            "text/html": [
              "\n",
              "  <div id=\"df-d8047319-a26b-49e0-b9b8-64add014b12a\">\n",
              "    <div class=\"colab-df-container\">\n",
              "      <div>\n",
              "<style scoped>\n",
              "    .dataframe tbody tr th:only-of-type {\n",
              "        vertical-align: middle;\n",
              "    }\n",
              "\n",
              "    .dataframe tbody tr th {\n",
              "        vertical-align: top;\n",
              "    }\n",
              "\n",
              "    .dataframe thead th {\n",
              "        text-align: right;\n",
              "    }\n",
              "</style>\n",
              "<table border=\"1\" class=\"dataframe\">\n",
              "  <thead>\n",
              "    <tr style=\"text-align: right;\">\n",
              "      <th></th>\n",
              "      <th>state</th>\n",
              "      <th>process_time</th>\n",
              "    </tr>\n",
              "  </thead>\n",
              "  <tbody>\n",
              "    <tr>\n",
              "      <th>0</th>\n",
              "      <td>Northern Territory</td>\n",
              "      <td>4.33</td>\n",
              "    </tr>\n",
              "    <tr>\n",
              "      <th>1</th>\n",
              "      <td>Australian Capital Territory</td>\n",
              "      <td>3.90</td>\n",
              "    </tr>\n",
              "    <tr>\n",
              "      <th>2</th>\n",
              "      <td>Tasmania</td>\n",
              "      <td>3.51</td>\n",
              "    </tr>\n",
              "    <tr>\n",
              "      <th>3</th>\n",
              "      <td>New South Wales</td>\n",
              "      <td>3.32</td>\n",
              "    </tr>\n",
              "    <tr>\n",
              "      <th>4</th>\n",
              "      <td>Western Australia</td>\n",
              "      <td>3.32</td>\n",
              "    </tr>\n",
              "    <tr>\n",
              "      <th>5</th>\n",
              "      <td>Queensland</td>\n",
              "      <td>3.11</td>\n",
              "    </tr>\n",
              "    <tr>\n",
              "      <th>6</th>\n",
              "      <td>South Australia</td>\n",
              "      <td>2.97</td>\n",
              "    </tr>\n",
              "    <tr>\n",
              "      <th>7</th>\n",
              "      <td>Victoria</td>\n",
              "      <td>2.86</td>\n",
              "    </tr>\n",
              "  </tbody>\n",
              "</table>\n",
              "</div>\n",
              "      <button class=\"colab-df-convert\" onclick=\"convertToInteractive('df-d8047319-a26b-49e0-b9b8-64add014b12a')\"\n",
              "              title=\"Convert this dataframe to an interactive table.\"\n",
              "              style=\"display:none;\">\n",
              "        \n",
              "  <svg xmlns=\"http://www.w3.org/2000/svg\" height=\"24px\"viewBox=\"0 0 24 24\"\n",
              "       width=\"24px\">\n",
              "    <path d=\"M0 0h24v24H0V0z\" fill=\"none\"/>\n",
              "    <path d=\"M18.56 5.44l.94 2.06.94-2.06 2.06-.94-2.06-.94-.94-2.06-.94 2.06-2.06.94zm-11 1L8.5 8.5l.94-2.06 2.06-.94-2.06-.94L8.5 2.5l-.94 2.06-2.06.94zm10 10l.94 2.06.94-2.06 2.06-.94-2.06-.94-.94-2.06-.94 2.06-2.06.94z\"/><path d=\"M17.41 7.96l-1.37-1.37c-.4-.4-.92-.59-1.43-.59-.52 0-1.04.2-1.43.59L10.3 9.45l-7.72 7.72c-.78.78-.78 2.05 0 2.83L4 21.41c.39.39.9.59 1.41.59.51 0 1.02-.2 1.41-.59l7.78-7.78 2.81-2.81c.8-.78.8-2.07 0-2.86zM5.41 20L4 18.59l7.72-7.72 1.47 1.35L5.41 20z\"/>\n",
              "  </svg>\n",
              "      </button>\n",
              "      \n",
              "  <style>\n",
              "    .colab-df-container {\n",
              "      display:flex;\n",
              "      flex-wrap:wrap;\n",
              "      gap: 12px;\n",
              "    }\n",
              "\n",
              "    .colab-df-convert {\n",
              "      background-color: #E8F0FE;\n",
              "      border: none;\n",
              "      border-radius: 50%;\n",
              "      cursor: pointer;\n",
              "      display: none;\n",
              "      fill: #1967D2;\n",
              "      height: 32px;\n",
              "      padding: 0 0 0 0;\n",
              "      width: 32px;\n",
              "    }\n",
              "\n",
              "    .colab-df-convert:hover {\n",
              "      background-color: #E2EBFA;\n",
              "      box-shadow: 0px 1px 2px rgba(60, 64, 67, 0.3), 0px 1px 3px 1px rgba(60, 64, 67, 0.15);\n",
              "      fill: #174EA6;\n",
              "    }\n",
              "\n",
              "    [theme=dark] .colab-df-convert {\n",
              "      background-color: #3B4455;\n",
              "      fill: #D2E3FC;\n",
              "    }\n",
              "\n",
              "    [theme=dark] .colab-df-convert:hover {\n",
              "      background-color: #434B5C;\n",
              "      box-shadow: 0px 1px 3px 1px rgba(0, 0, 0, 0.15);\n",
              "      filter: drop-shadow(0px 1px 2px rgba(0, 0, 0, 0.3));\n",
              "      fill: #FFFFFF;\n",
              "    }\n",
              "  </style>\n",
              "\n",
              "      <script>\n",
              "        const buttonEl =\n",
              "          document.querySelector('#df-d8047319-a26b-49e0-b9b8-64add014b12a button.colab-df-convert');\n",
              "        buttonEl.style.display =\n",
              "          google.colab.kernel.accessAllowed ? 'block' : 'none';\n",
              "\n",
              "        async function convertToInteractive(key) {\n",
              "          const element = document.querySelector('#df-d8047319-a26b-49e0-b9b8-64add014b12a');\n",
              "          const dataTable =\n",
              "            await google.colab.kernel.invokeFunction('convertToInteractive',\n",
              "                                                     [key], {});\n",
              "          if (!dataTable) return;\n",
              "\n",
              "          const docLinkHtml = 'Like what you see? Visit the ' +\n",
              "            '<a target=\"_blank\" href=https://colab.research.google.com/notebooks/data_table.ipynb>data table notebook</a>'\n",
              "            + ' to learn more about interactive tables.';\n",
              "          element.innerHTML = '';\n",
              "          dataTable['output_type'] = 'display_data';\n",
              "          await google.colab.output.renderOutput(dataTable, element);\n",
              "          const docLink = document.createElement('div');\n",
              "          docLink.innerHTML = docLinkHtml;\n",
              "          element.appendChild(docLink);\n",
              "        }\n",
              "      </script>\n",
              "    </div>\n",
              "  </div>\n",
              "  "
            ]
          },
          "metadata": {},
          "execution_count": 30
        }
      ]
    },
    {
      "cell_type": "markdown",
      "source": [
        "### EDA 3.a: Order status to date in %"
      ],
      "metadata": {
        "id": "IJH8ooT-q6ix"
      }
    },
    {
      "cell_type": "code",
      "source": [
        "total = len(dfclean)\n",
        "dfclean.groupby('status').agg(\n",
        "    n_status_percent = ('status', lambda x: x.count()/total)).sort_values('n_status_percent', ascending=False).reset_index()"
      ],
      "metadata": {
        "colab": {
          "base_uri": "https://localhost:8080/",
          "height": 206
        },
        "id": "f0go-cIfpysK",
        "outputId": "f389cf54-bb7d-4514-a638-be471d071eee"
      },
      "execution_count": null,
      "outputs": [
        {
          "output_type": "execute_result",
          "data": {
            "text/plain": [
              "       status  n_status_percent\n",
              "0     Shipped              0.30\n",
              "1    Complete              0.25\n",
              "2  Processing              0.20\n",
              "3   Cancelled              0.15\n",
              "4    Returned              0.10"
            ],
            "text/html": [
              "\n",
              "  <div id=\"df-cd081525-5e9d-4da1-a69f-21e4eb602a48\">\n",
              "    <div class=\"colab-df-container\">\n",
              "      <div>\n",
              "<style scoped>\n",
              "    .dataframe tbody tr th:only-of-type {\n",
              "        vertical-align: middle;\n",
              "    }\n",
              "\n",
              "    .dataframe tbody tr th {\n",
              "        vertical-align: top;\n",
              "    }\n",
              "\n",
              "    .dataframe thead th {\n",
              "        text-align: right;\n",
              "    }\n",
              "</style>\n",
              "<table border=\"1\" class=\"dataframe\">\n",
              "  <thead>\n",
              "    <tr style=\"text-align: right;\">\n",
              "      <th></th>\n",
              "      <th>status</th>\n",
              "      <th>n_status_percent</th>\n",
              "    </tr>\n",
              "  </thead>\n",
              "  <tbody>\n",
              "    <tr>\n",
              "      <th>0</th>\n",
              "      <td>Shipped</td>\n",
              "      <td>0.30</td>\n",
              "    </tr>\n",
              "    <tr>\n",
              "      <th>1</th>\n",
              "      <td>Complete</td>\n",
              "      <td>0.25</td>\n",
              "    </tr>\n",
              "    <tr>\n",
              "      <th>2</th>\n",
              "      <td>Processing</td>\n",
              "      <td>0.20</td>\n",
              "    </tr>\n",
              "    <tr>\n",
              "      <th>3</th>\n",
              "      <td>Cancelled</td>\n",
              "      <td>0.15</td>\n",
              "    </tr>\n",
              "    <tr>\n",
              "      <th>4</th>\n",
              "      <td>Returned</td>\n",
              "      <td>0.10</td>\n",
              "    </tr>\n",
              "  </tbody>\n",
              "</table>\n",
              "</div>\n",
              "      <button class=\"colab-df-convert\" onclick=\"convertToInteractive('df-cd081525-5e9d-4da1-a69f-21e4eb602a48')\"\n",
              "              title=\"Convert this dataframe to an interactive table.\"\n",
              "              style=\"display:none;\">\n",
              "        \n",
              "  <svg xmlns=\"http://www.w3.org/2000/svg\" height=\"24px\"viewBox=\"0 0 24 24\"\n",
              "       width=\"24px\">\n",
              "    <path d=\"M0 0h24v24H0V0z\" fill=\"none\"/>\n",
              "    <path d=\"M18.56 5.44l.94 2.06.94-2.06 2.06-.94-2.06-.94-.94-2.06-.94 2.06-2.06.94zm-11 1L8.5 8.5l.94-2.06 2.06-.94-2.06-.94L8.5 2.5l-.94 2.06-2.06.94zm10 10l.94 2.06.94-2.06 2.06-.94-2.06-.94-.94-2.06-.94 2.06-2.06.94z\"/><path d=\"M17.41 7.96l-1.37-1.37c-.4-.4-.92-.59-1.43-.59-.52 0-1.04.2-1.43.59L10.3 9.45l-7.72 7.72c-.78.78-.78 2.05 0 2.83L4 21.41c.39.39.9.59 1.41.59.51 0 1.02-.2 1.41-.59l7.78-7.78 2.81-2.81c.8-.78.8-2.07 0-2.86zM5.41 20L4 18.59l7.72-7.72 1.47 1.35L5.41 20z\"/>\n",
              "  </svg>\n",
              "      </button>\n",
              "      \n",
              "  <style>\n",
              "    .colab-df-container {\n",
              "      display:flex;\n",
              "      flex-wrap:wrap;\n",
              "      gap: 12px;\n",
              "    }\n",
              "\n",
              "    .colab-df-convert {\n",
              "      background-color: #E8F0FE;\n",
              "      border: none;\n",
              "      border-radius: 50%;\n",
              "      cursor: pointer;\n",
              "      display: none;\n",
              "      fill: #1967D2;\n",
              "      height: 32px;\n",
              "      padding: 0 0 0 0;\n",
              "      width: 32px;\n",
              "    }\n",
              "\n",
              "    .colab-df-convert:hover {\n",
              "      background-color: #E2EBFA;\n",
              "      box-shadow: 0px 1px 2px rgba(60, 64, 67, 0.3), 0px 1px 3px 1px rgba(60, 64, 67, 0.15);\n",
              "      fill: #174EA6;\n",
              "    }\n",
              "\n",
              "    [theme=dark] .colab-df-convert {\n",
              "      background-color: #3B4455;\n",
              "      fill: #D2E3FC;\n",
              "    }\n",
              "\n",
              "    [theme=dark] .colab-df-convert:hover {\n",
              "      background-color: #434B5C;\n",
              "      box-shadow: 0px 1px 3px 1px rgba(0, 0, 0, 0.15);\n",
              "      filter: drop-shadow(0px 1px 2px rgba(0, 0, 0, 0.3));\n",
              "      fill: #FFFFFF;\n",
              "    }\n",
              "  </style>\n",
              "\n",
              "      <script>\n",
              "        const buttonEl =\n",
              "          document.querySelector('#df-cd081525-5e9d-4da1-a69f-21e4eb602a48 button.colab-df-convert');\n",
              "        buttonEl.style.display =\n",
              "          google.colab.kernel.accessAllowed ? 'block' : 'none';\n",
              "\n",
              "        async function convertToInteractive(key) {\n",
              "          const element = document.querySelector('#df-cd081525-5e9d-4da1-a69f-21e4eb602a48');\n",
              "          const dataTable =\n",
              "            await google.colab.kernel.invokeFunction('convertToInteractive',\n",
              "                                                     [key], {});\n",
              "          if (!dataTable) return;\n",
              "\n",
              "          const docLinkHtml = 'Like what you see? Visit the ' +\n",
              "            '<a target=\"_blank\" href=https://colab.research.google.com/notebooks/data_table.ipynb>data table notebook</a>'\n",
              "            + ' to learn more about interactive tables.';\n",
              "          element.innerHTML = '';\n",
              "          dataTable['output_type'] = 'display_data';\n",
              "          await google.colab.output.renderOutput(dataTable, element);\n",
              "          const docLink = document.createElement('div');\n",
              "          docLink.innerHTML = docLinkHtml;\n",
              "          element.appendChild(docLink);\n",
              "        }\n",
              "      </script>\n",
              "    </div>\n",
              "  </div>\n",
              "  "
            ]
          },
          "metadata": {},
          "execution_count": 31
        }
      ]
    },
    {
      "cell_type": "markdown",
      "source": [
        "##EDA 4: Busiest day of week"
      ],
      "metadata": {
        "id": "-xcIYKJGnRxI"
      }
    },
    {
      "cell_type": "code",
      "execution_count": null,
      "metadata": {
        "id": "674lYlOB7GhU",
        "outputId": "1739e1c7-9971-4b5d-ff3e-6f9692ec3e4b",
        "colab": {
          "base_uri": "https://localhost:8080/",
          "height": 269
        }
      },
      "outputs": [
        {
          "output_type": "execute_result",
          "data": {
            "text/plain": [
              "   dayofweek    revenue\n",
              "5          5 1034268.46\n",
              "0          0 1031163.83\n",
              "4          4 1030305.26\n",
              "3          3 1018245.25\n",
              "6          6 1016370.72\n",
              "1          1 1009657.17\n",
              "2          2 1001695.40"
            ],
            "text/html": [
              "\n",
              "  <div id=\"df-f3af6274-c6a6-4a41-8433-d37722509bdf\">\n",
              "    <div class=\"colab-df-container\">\n",
              "      <div>\n",
              "<style scoped>\n",
              "    .dataframe tbody tr th:only-of-type {\n",
              "        vertical-align: middle;\n",
              "    }\n",
              "\n",
              "    .dataframe tbody tr th {\n",
              "        vertical-align: top;\n",
              "    }\n",
              "\n",
              "    .dataframe thead th {\n",
              "        text-align: right;\n",
              "    }\n",
              "</style>\n",
              "<table border=\"1\" class=\"dataframe\">\n",
              "  <thead>\n",
              "    <tr style=\"text-align: right;\">\n",
              "      <th></th>\n",
              "      <th>dayofweek</th>\n",
              "      <th>revenue</th>\n",
              "    </tr>\n",
              "  </thead>\n",
              "  <tbody>\n",
              "    <tr>\n",
              "      <th>5</th>\n",
              "      <td>5</td>\n",
              "      <td>1034268.46</td>\n",
              "    </tr>\n",
              "    <tr>\n",
              "      <th>0</th>\n",
              "      <td>0</td>\n",
              "      <td>1031163.83</td>\n",
              "    </tr>\n",
              "    <tr>\n",
              "      <th>4</th>\n",
              "      <td>4</td>\n",
              "      <td>1030305.26</td>\n",
              "    </tr>\n",
              "    <tr>\n",
              "      <th>3</th>\n",
              "      <td>3</td>\n",
              "      <td>1018245.25</td>\n",
              "    </tr>\n",
              "    <tr>\n",
              "      <th>6</th>\n",
              "      <td>6</td>\n",
              "      <td>1016370.72</td>\n",
              "    </tr>\n",
              "    <tr>\n",
              "      <th>1</th>\n",
              "      <td>1</td>\n",
              "      <td>1009657.17</td>\n",
              "    </tr>\n",
              "    <tr>\n",
              "      <th>2</th>\n",
              "      <td>2</td>\n",
              "      <td>1001695.40</td>\n",
              "    </tr>\n",
              "  </tbody>\n",
              "</table>\n",
              "</div>\n",
              "      <button class=\"colab-df-convert\" onclick=\"convertToInteractive('df-f3af6274-c6a6-4a41-8433-d37722509bdf')\"\n",
              "              title=\"Convert this dataframe to an interactive table.\"\n",
              "              style=\"display:none;\">\n",
              "        \n",
              "  <svg xmlns=\"http://www.w3.org/2000/svg\" height=\"24px\"viewBox=\"0 0 24 24\"\n",
              "       width=\"24px\">\n",
              "    <path d=\"M0 0h24v24H0V0z\" fill=\"none\"/>\n",
              "    <path d=\"M18.56 5.44l.94 2.06.94-2.06 2.06-.94-2.06-.94-.94-2.06-.94 2.06-2.06.94zm-11 1L8.5 8.5l.94-2.06 2.06-.94-2.06-.94L8.5 2.5l-.94 2.06-2.06.94zm10 10l.94 2.06.94-2.06 2.06-.94-2.06-.94-.94-2.06-.94 2.06-2.06.94z\"/><path d=\"M17.41 7.96l-1.37-1.37c-.4-.4-.92-.59-1.43-.59-.52 0-1.04.2-1.43.59L10.3 9.45l-7.72 7.72c-.78.78-.78 2.05 0 2.83L4 21.41c.39.39.9.59 1.41.59.51 0 1.02-.2 1.41-.59l7.78-7.78 2.81-2.81c.8-.78.8-2.07 0-2.86zM5.41 20L4 18.59l7.72-7.72 1.47 1.35L5.41 20z\"/>\n",
              "  </svg>\n",
              "      </button>\n",
              "      \n",
              "  <style>\n",
              "    .colab-df-container {\n",
              "      display:flex;\n",
              "      flex-wrap:wrap;\n",
              "      gap: 12px;\n",
              "    }\n",
              "\n",
              "    .colab-df-convert {\n",
              "      background-color: #E8F0FE;\n",
              "      border: none;\n",
              "      border-radius: 50%;\n",
              "      cursor: pointer;\n",
              "      display: none;\n",
              "      fill: #1967D2;\n",
              "      height: 32px;\n",
              "      padding: 0 0 0 0;\n",
              "      width: 32px;\n",
              "    }\n",
              "\n",
              "    .colab-df-convert:hover {\n",
              "      background-color: #E2EBFA;\n",
              "      box-shadow: 0px 1px 2px rgba(60, 64, 67, 0.3), 0px 1px 3px 1px rgba(60, 64, 67, 0.15);\n",
              "      fill: #174EA6;\n",
              "    }\n",
              "\n",
              "    [theme=dark] .colab-df-convert {\n",
              "      background-color: #3B4455;\n",
              "      fill: #D2E3FC;\n",
              "    }\n",
              "\n",
              "    [theme=dark] .colab-df-convert:hover {\n",
              "      background-color: #434B5C;\n",
              "      box-shadow: 0px 1px 3px 1px rgba(0, 0, 0, 0.15);\n",
              "      filter: drop-shadow(0px 1px 2px rgba(0, 0, 0, 0.3));\n",
              "      fill: #FFFFFF;\n",
              "    }\n",
              "  </style>\n",
              "\n",
              "      <script>\n",
              "        const buttonEl =\n",
              "          document.querySelector('#df-f3af6274-c6a6-4a41-8433-d37722509bdf button.colab-df-convert');\n",
              "        buttonEl.style.display =\n",
              "          google.colab.kernel.accessAllowed ? 'block' : 'none';\n",
              "\n",
              "        async function convertToInteractive(key) {\n",
              "          const element = document.querySelector('#df-f3af6274-c6a6-4a41-8433-d37722509bdf');\n",
              "          const dataTable =\n",
              "            await google.colab.kernel.invokeFunction('convertToInteractive',\n",
              "                                                     [key], {});\n",
              "          if (!dataTable) return;\n",
              "\n",
              "          const docLinkHtml = 'Like what you see? Visit the ' +\n",
              "            '<a target=\"_blank\" href=https://colab.research.google.com/notebooks/data_table.ipynb>data table notebook</a>'\n",
              "            + ' to learn more about interactive tables.';\n",
              "          element.innerHTML = '';\n",
              "          dataTable['output_type'] = 'display_data';\n",
              "          await google.colab.output.renderOutput(dataTable, element);\n",
              "          const docLink = document.createElement('div');\n",
              "          docLink.innerHTML = docLinkHtml;\n",
              "          element.appendChild(docLink);\n",
              "        }\n",
              "      </script>\n",
              "    </div>\n",
              "  </div>\n",
              "  "
            ]
          },
          "metadata": {},
          "execution_count": 29
        }
      ],
      "source": [
        "df_buy.groupby(df_buy['created'].dt.dayofweek)['sale_price'].sum().rename_axis('dayofweek').reset_index(name='revenue').sort_values('revenue', ascending=False)"
      ]
    },
    {
      "cell_type": "markdown",
      "source": [
        "##EDA 5: Top selling products categories "
      ],
      "metadata": {
        "id": "Ga38AZJdnYn8"
      }
    },
    {
      "cell_type": "code",
      "source": [
        "top_categories = df_buy.groupby(['gender','category']).agg(\n",
        "    order_freq = ('order_id','count'),\n",
        "    revenue = ('sale_price','sum')\n",
        ").reset_index().sort_values(['gender','revenue'], ascending=False)\n",
        "\n",
        "top_categories"
      ],
      "metadata": {
        "colab": {
          "base_uri": "https://localhost:8080/",
          "height": 1000
        },
        "id": "sE56AyeUnk8X",
        "outputId": "e3ea1f5f-29ed-4dbb-c1b8-06db5e3b34fa"
      },
      "execution_count": null,
      "outputs": [
        {
          "output_type": "execute_result",
          "data": {
            "text/plain": [
              "   gender                       category  order_freq   revenue\n",
              "25      M                          Jeans        5612 527762.02\n",
              "26      M              Outerwear & Coats        3782 416048.19\n",
              "32      M                       Sweaters        4964 363595.63\n",
              "31      M            Suits & Sport Coats        3408 349606.25\n",
              "27      M                          Pants        5217 307084.30\n",
              "24      M  Fashion Hoodies & Sweatshirts        4972 283603.23\n",
              "34      M                    Tops & Tees        5494 231277.38\n",
              "33      M                           Swim        4548 228591.66\n",
              "28      M                         Shorts        4828 226929.62\n",
              "29      M                 Sleep & Lounge        4738 220854.26\n",
              "22      M                    Accessories        4214 171980.10\n",
              "23      M                         Active        3913 169844.33\n",
              "35      M                      Underwear        5570 149099.90\n",
              "30      M                          Socks        4779  86357.50\n",
              "7       F                          Jeans        3743 350110.49\n",
              "6       F                      Intimates        9900 325489.95\n",
              "4       F                        Dresses        3813 262922.79\n",
              "20      F                           Swim        3742 243233.50\n",
              "11      F              Outerwear & Coats        2199 232032.88\n",
              "19      F                       Sweaters        3007 194895.29\n",
              "5       F  Fashion Hoodies & Sweatshirts        3830 184956.58\n",
              "10      F                      Maternity        3667 183110.71\n",
              "2       F              Blazers & Jackets        2288 178777.34\n",
              "16      F                 Sleep & Lounge        3492 164026.59\n",
              "14      F                         Shorts        3477 143072.12\n",
              "0       F                    Accessories        3167 131944.52\n",
              "12      F                 Pants & Capris        2532 128812.47\n",
              "21      F                    Tops & Tees        3307 126429.85\n",
              "1       F                         Active        2731 120783.75\n",
              "13      F                           Plus        3254 118838.11\n",
              "18      F                          Suits         761  90423.61\n",
              "15      F                         Skirts        1647  74891.09\n",
              "9       F                       Leggings        2460  65642.39\n",
              "17      F                Socks & Hosiery        2786  45882.62\n",
              "8       F            Jumpsuits & Rompers         688  28442.64\n",
              "3       F                  Clothing Sets         161  14352.43"
            ],
            "text/html": [
              "\n",
              "  <div id=\"df-68efe01e-5532-4bab-834e-e8f9d15a7934\">\n",
              "    <div class=\"colab-df-container\">\n",
              "      <div>\n",
              "<style scoped>\n",
              "    .dataframe tbody tr th:only-of-type {\n",
              "        vertical-align: middle;\n",
              "    }\n",
              "\n",
              "    .dataframe tbody tr th {\n",
              "        vertical-align: top;\n",
              "    }\n",
              "\n",
              "    .dataframe thead th {\n",
              "        text-align: right;\n",
              "    }\n",
              "</style>\n",
              "<table border=\"1\" class=\"dataframe\">\n",
              "  <thead>\n",
              "    <tr style=\"text-align: right;\">\n",
              "      <th></th>\n",
              "      <th>gender</th>\n",
              "      <th>category</th>\n",
              "      <th>order_freq</th>\n",
              "      <th>revenue</th>\n",
              "    </tr>\n",
              "  </thead>\n",
              "  <tbody>\n",
              "    <tr>\n",
              "      <th>25</th>\n",
              "      <td>M</td>\n",
              "      <td>Jeans</td>\n",
              "      <td>5612</td>\n",
              "      <td>527762.02</td>\n",
              "    </tr>\n",
              "    <tr>\n",
              "      <th>26</th>\n",
              "      <td>M</td>\n",
              "      <td>Outerwear &amp; Coats</td>\n",
              "      <td>3782</td>\n",
              "      <td>416048.19</td>\n",
              "    </tr>\n",
              "    <tr>\n",
              "      <th>32</th>\n",
              "      <td>M</td>\n",
              "      <td>Sweaters</td>\n",
              "      <td>4964</td>\n",
              "      <td>363595.63</td>\n",
              "    </tr>\n",
              "    <tr>\n",
              "      <th>31</th>\n",
              "      <td>M</td>\n",
              "      <td>Suits &amp; Sport Coats</td>\n",
              "      <td>3408</td>\n",
              "      <td>349606.25</td>\n",
              "    </tr>\n",
              "    <tr>\n",
              "      <th>27</th>\n",
              "      <td>M</td>\n",
              "      <td>Pants</td>\n",
              "      <td>5217</td>\n",
              "      <td>307084.30</td>\n",
              "    </tr>\n",
              "    <tr>\n",
              "      <th>24</th>\n",
              "      <td>M</td>\n",
              "      <td>Fashion Hoodies &amp; Sweatshirts</td>\n",
              "      <td>4972</td>\n",
              "      <td>283603.23</td>\n",
              "    </tr>\n",
              "    <tr>\n",
              "      <th>34</th>\n",
              "      <td>M</td>\n",
              "      <td>Tops &amp; Tees</td>\n",
              "      <td>5494</td>\n",
              "      <td>231277.38</td>\n",
              "    </tr>\n",
              "    <tr>\n",
              "      <th>33</th>\n",
              "      <td>M</td>\n",
              "      <td>Swim</td>\n",
              "      <td>4548</td>\n",
              "      <td>228591.66</td>\n",
              "    </tr>\n",
              "    <tr>\n",
              "      <th>28</th>\n",
              "      <td>M</td>\n",
              "      <td>Shorts</td>\n",
              "      <td>4828</td>\n",
              "      <td>226929.62</td>\n",
              "    </tr>\n",
              "    <tr>\n",
              "      <th>29</th>\n",
              "      <td>M</td>\n",
              "      <td>Sleep &amp; Lounge</td>\n",
              "      <td>4738</td>\n",
              "      <td>220854.26</td>\n",
              "    </tr>\n",
              "    <tr>\n",
              "      <th>22</th>\n",
              "      <td>M</td>\n",
              "      <td>Accessories</td>\n",
              "      <td>4214</td>\n",
              "      <td>171980.10</td>\n",
              "    </tr>\n",
              "    <tr>\n",
              "      <th>23</th>\n",
              "      <td>M</td>\n",
              "      <td>Active</td>\n",
              "      <td>3913</td>\n",
              "      <td>169844.33</td>\n",
              "    </tr>\n",
              "    <tr>\n",
              "      <th>35</th>\n",
              "      <td>M</td>\n",
              "      <td>Underwear</td>\n",
              "      <td>5570</td>\n",
              "      <td>149099.90</td>\n",
              "    </tr>\n",
              "    <tr>\n",
              "      <th>30</th>\n",
              "      <td>M</td>\n",
              "      <td>Socks</td>\n",
              "      <td>4779</td>\n",
              "      <td>86357.50</td>\n",
              "    </tr>\n",
              "    <tr>\n",
              "      <th>7</th>\n",
              "      <td>F</td>\n",
              "      <td>Jeans</td>\n",
              "      <td>3743</td>\n",
              "      <td>350110.49</td>\n",
              "    </tr>\n",
              "    <tr>\n",
              "      <th>6</th>\n",
              "      <td>F</td>\n",
              "      <td>Intimates</td>\n",
              "      <td>9900</td>\n",
              "      <td>325489.95</td>\n",
              "    </tr>\n",
              "    <tr>\n",
              "      <th>4</th>\n",
              "      <td>F</td>\n",
              "      <td>Dresses</td>\n",
              "      <td>3813</td>\n",
              "      <td>262922.79</td>\n",
              "    </tr>\n",
              "    <tr>\n",
              "      <th>20</th>\n",
              "      <td>F</td>\n",
              "      <td>Swim</td>\n",
              "      <td>3742</td>\n",
              "      <td>243233.50</td>\n",
              "    </tr>\n",
              "    <tr>\n",
              "      <th>11</th>\n",
              "      <td>F</td>\n",
              "      <td>Outerwear &amp; Coats</td>\n",
              "      <td>2199</td>\n",
              "      <td>232032.88</td>\n",
              "    </tr>\n",
              "    <tr>\n",
              "      <th>19</th>\n",
              "      <td>F</td>\n",
              "      <td>Sweaters</td>\n",
              "      <td>3007</td>\n",
              "      <td>194895.29</td>\n",
              "    </tr>\n",
              "    <tr>\n",
              "      <th>5</th>\n",
              "      <td>F</td>\n",
              "      <td>Fashion Hoodies &amp; Sweatshirts</td>\n",
              "      <td>3830</td>\n",
              "      <td>184956.58</td>\n",
              "    </tr>\n",
              "    <tr>\n",
              "      <th>10</th>\n",
              "      <td>F</td>\n",
              "      <td>Maternity</td>\n",
              "      <td>3667</td>\n",
              "      <td>183110.71</td>\n",
              "    </tr>\n",
              "    <tr>\n",
              "      <th>2</th>\n",
              "      <td>F</td>\n",
              "      <td>Blazers &amp; Jackets</td>\n",
              "      <td>2288</td>\n",
              "      <td>178777.34</td>\n",
              "    </tr>\n",
              "    <tr>\n",
              "      <th>16</th>\n",
              "      <td>F</td>\n",
              "      <td>Sleep &amp; Lounge</td>\n",
              "      <td>3492</td>\n",
              "      <td>164026.59</td>\n",
              "    </tr>\n",
              "    <tr>\n",
              "      <th>14</th>\n",
              "      <td>F</td>\n",
              "      <td>Shorts</td>\n",
              "      <td>3477</td>\n",
              "      <td>143072.12</td>\n",
              "    </tr>\n",
              "    <tr>\n",
              "      <th>0</th>\n",
              "      <td>F</td>\n",
              "      <td>Accessories</td>\n",
              "      <td>3167</td>\n",
              "      <td>131944.52</td>\n",
              "    </tr>\n",
              "    <tr>\n",
              "      <th>12</th>\n",
              "      <td>F</td>\n",
              "      <td>Pants &amp; Capris</td>\n",
              "      <td>2532</td>\n",
              "      <td>128812.47</td>\n",
              "    </tr>\n",
              "    <tr>\n",
              "      <th>21</th>\n",
              "      <td>F</td>\n",
              "      <td>Tops &amp; Tees</td>\n",
              "      <td>3307</td>\n",
              "      <td>126429.85</td>\n",
              "    </tr>\n",
              "    <tr>\n",
              "      <th>1</th>\n",
              "      <td>F</td>\n",
              "      <td>Active</td>\n",
              "      <td>2731</td>\n",
              "      <td>120783.75</td>\n",
              "    </tr>\n",
              "    <tr>\n",
              "      <th>13</th>\n",
              "      <td>F</td>\n",
              "      <td>Plus</td>\n",
              "      <td>3254</td>\n",
              "      <td>118838.11</td>\n",
              "    </tr>\n",
              "    <tr>\n",
              "      <th>18</th>\n",
              "      <td>F</td>\n",
              "      <td>Suits</td>\n",
              "      <td>761</td>\n",
              "      <td>90423.61</td>\n",
              "    </tr>\n",
              "    <tr>\n",
              "      <th>15</th>\n",
              "      <td>F</td>\n",
              "      <td>Skirts</td>\n",
              "      <td>1647</td>\n",
              "      <td>74891.09</td>\n",
              "    </tr>\n",
              "    <tr>\n",
              "      <th>9</th>\n",
              "      <td>F</td>\n",
              "      <td>Leggings</td>\n",
              "      <td>2460</td>\n",
              "      <td>65642.39</td>\n",
              "    </tr>\n",
              "    <tr>\n",
              "      <th>17</th>\n",
              "      <td>F</td>\n",
              "      <td>Socks &amp; Hosiery</td>\n",
              "      <td>2786</td>\n",
              "      <td>45882.62</td>\n",
              "    </tr>\n",
              "    <tr>\n",
              "      <th>8</th>\n",
              "      <td>F</td>\n",
              "      <td>Jumpsuits &amp; Rompers</td>\n",
              "      <td>688</td>\n",
              "      <td>28442.64</td>\n",
              "    </tr>\n",
              "    <tr>\n",
              "      <th>3</th>\n",
              "      <td>F</td>\n",
              "      <td>Clothing Sets</td>\n",
              "      <td>161</td>\n",
              "      <td>14352.43</td>\n",
              "    </tr>\n",
              "  </tbody>\n",
              "</table>\n",
              "</div>\n",
              "      <button class=\"colab-df-convert\" onclick=\"convertToInteractive('df-68efe01e-5532-4bab-834e-e8f9d15a7934')\"\n",
              "              title=\"Convert this dataframe to an interactive table.\"\n",
              "              style=\"display:none;\">\n",
              "        \n",
              "  <svg xmlns=\"http://www.w3.org/2000/svg\" height=\"24px\"viewBox=\"0 0 24 24\"\n",
              "       width=\"24px\">\n",
              "    <path d=\"M0 0h24v24H0V0z\" fill=\"none\"/>\n",
              "    <path d=\"M18.56 5.44l.94 2.06.94-2.06 2.06-.94-2.06-.94-.94-2.06-.94 2.06-2.06.94zm-11 1L8.5 8.5l.94-2.06 2.06-.94-2.06-.94L8.5 2.5l-.94 2.06-2.06.94zm10 10l.94 2.06.94-2.06 2.06-.94-2.06-.94-.94-2.06-.94 2.06-2.06.94z\"/><path d=\"M17.41 7.96l-1.37-1.37c-.4-.4-.92-.59-1.43-.59-.52 0-1.04.2-1.43.59L10.3 9.45l-7.72 7.72c-.78.78-.78 2.05 0 2.83L4 21.41c.39.39.9.59 1.41.59.51 0 1.02-.2 1.41-.59l7.78-7.78 2.81-2.81c.8-.78.8-2.07 0-2.86zM5.41 20L4 18.59l7.72-7.72 1.47 1.35L5.41 20z\"/>\n",
              "  </svg>\n",
              "      </button>\n",
              "      \n",
              "  <style>\n",
              "    .colab-df-container {\n",
              "      display:flex;\n",
              "      flex-wrap:wrap;\n",
              "      gap: 12px;\n",
              "    }\n",
              "\n",
              "    .colab-df-convert {\n",
              "      background-color: #E8F0FE;\n",
              "      border: none;\n",
              "      border-radius: 50%;\n",
              "      cursor: pointer;\n",
              "      display: none;\n",
              "      fill: #1967D2;\n",
              "      height: 32px;\n",
              "      padding: 0 0 0 0;\n",
              "      width: 32px;\n",
              "    }\n",
              "\n",
              "    .colab-df-convert:hover {\n",
              "      background-color: #E2EBFA;\n",
              "      box-shadow: 0px 1px 2px rgba(60, 64, 67, 0.3), 0px 1px 3px 1px rgba(60, 64, 67, 0.15);\n",
              "      fill: #174EA6;\n",
              "    }\n",
              "\n",
              "    [theme=dark] .colab-df-convert {\n",
              "      background-color: #3B4455;\n",
              "      fill: #D2E3FC;\n",
              "    }\n",
              "\n",
              "    [theme=dark] .colab-df-convert:hover {\n",
              "      background-color: #434B5C;\n",
              "      box-shadow: 0px 1px 3px 1px rgba(0, 0, 0, 0.15);\n",
              "      filter: drop-shadow(0px 1px 2px rgba(0, 0, 0, 0.3));\n",
              "      fill: #FFFFFF;\n",
              "    }\n",
              "  </style>\n",
              "\n",
              "      <script>\n",
              "        const buttonEl =\n",
              "          document.querySelector('#df-68efe01e-5532-4bab-834e-e8f9d15a7934 button.colab-df-convert');\n",
              "        buttonEl.style.display =\n",
              "          google.colab.kernel.accessAllowed ? 'block' : 'none';\n",
              "\n",
              "        async function convertToInteractive(key) {\n",
              "          const element = document.querySelector('#df-68efe01e-5532-4bab-834e-e8f9d15a7934');\n",
              "          const dataTable =\n",
              "            await google.colab.kernel.invokeFunction('convertToInteractive',\n",
              "                                                     [key], {});\n",
              "          if (!dataTable) return;\n",
              "\n",
              "          const docLinkHtml = 'Like what you see? Visit the ' +\n",
              "            '<a target=\"_blank\" href=https://colab.research.google.com/notebooks/data_table.ipynb>data table notebook</a>'\n",
              "            + ' to learn more about interactive tables.';\n",
              "          element.innerHTML = '';\n",
              "          dataTable['output_type'] = 'display_data';\n",
              "          await google.colab.output.renderOutput(dataTable, element);\n",
              "          const docLink = document.createElement('div');\n",
              "          docLink.innerHTML = docLinkHtml;\n",
              "          element.appendChild(docLink);\n",
              "        }\n",
              "      </script>\n",
              "    </div>\n",
              "  </div>\n",
              "  "
            ]
          },
          "metadata": {},
          "execution_count": 34
        }
      ]
    },
    {
      "cell_type": "markdown",
      "source": [
        "###EDA 5.a: Top 15 brands"
      ],
      "metadata": {
        "id": "YSb7_UTJpiP8"
      }
    },
    {
      "cell_type": "code",
      "source": [
        "top_brands = df_buy.groupby('brand').agg(\n",
        "    order_freq = ('order_id','count'),\n",
        "    revenue = ('sale_price','sum')\n",
        ").reset_index().sort_values(['order_freq'], ascending=False)\n",
        "\n",
        "top_brands.head(15)"
      ],
      "metadata": {
        "colab": {
          "base_uri": "https://localhost:8080/",
          "height": 519
        },
        "id": "-xachjsvpFkD",
        "outputId": "24f935da-90b7-4988-f4ae-3955ae3bb810"
      },
      "execution_count": null,
      "outputs": [
        {
          "output_type": "execute_result",
          "data": {
            "text/plain": [
              "               brand  order_freq   revenue\n",
              "96         Allegra K        4585  65766.03\n",
              "445     Calvin Klein        2315 142114.87\n",
              "462         Carhartt        1880 124694.43\n",
              "1075           Hanes        1515  29896.16\n",
              "2572          Volcom        1357  78087.85\n",
              "1933      Quiksilver        1330  73992.03\n",
              "1717         Nautica        1280  51802.58\n",
              "2431  Tommy Hilfiger        1194  80490.42\n",
              "1146          Hurley        1166  60478.06\n",
              "1453          Levi's        1127  58146.28\n",
              "565         Columbia        1102  74359.55\n",
              "707          Dockers        1087  44215.22\n",
              "699           Diesel         994 102731.96\n",
              "2644        Wrangler         989  42035.35\n",
              "2226          Speedo         914  47104.18"
            ],
            "text/html": [
              "\n",
              "  <div id=\"df-881dda0e-bc14-4e4b-8ba6-d0d3ba8b2183\">\n",
              "    <div class=\"colab-df-container\">\n",
              "      <div>\n",
              "<style scoped>\n",
              "    .dataframe tbody tr th:only-of-type {\n",
              "        vertical-align: middle;\n",
              "    }\n",
              "\n",
              "    .dataframe tbody tr th {\n",
              "        vertical-align: top;\n",
              "    }\n",
              "\n",
              "    .dataframe thead th {\n",
              "        text-align: right;\n",
              "    }\n",
              "</style>\n",
              "<table border=\"1\" class=\"dataframe\">\n",
              "  <thead>\n",
              "    <tr style=\"text-align: right;\">\n",
              "      <th></th>\n",
              "      <th>brand</th>\n",
              "      <th>order_freq</th>\n",
              "      <th>revenue</th>\n",
              "    </tr>\n",
              "  </thead>\n",
              "  <tbody>\n",
              "    <tr>\n",
              "      <th>96</th>\n",
              "      <td>Allegra K</td>\n",
              "      <td>4585</td>\n",
              "      <td>65766.03</td>\n",
              "    </tr>\n",
              "    <tr>\n",
              "      <th>445</th>\n",
              "      <td>Calvin Klein</td>\n",
              "      <td>2315</td>\n",
              "      <td>142114.87</td>\n",
              "    </tr>\n",
              "    <tr>\n",
              "      <th>462</th>\n",
              "      <td>Carhartt</td>\n",
              "      <td>1880</td>\n",
              "      <td>124694.43</td>\n",
              "    </tr>\n",
              "    <tr>\n",
              "      <th>1075</th>\n",
              "      <td>Hanes</td>\n",
              "      <td>1515</td>\n",
              "      <td>29896.16</td>\n",
              "    </tr>\n",
              "    <tr>\n",
              "      <th>2572</th>\n",
              "      <td>Volcom</td>\n",
              "      <td>1357</td>\n",
              "      <td>78087.85</td>\n",
              "    </tr>\n",
              "    <tr>\n",
              "      <th>1933</th>\n",
              "      <td>Quiksilver</td>\n",
              "      <td>1330</td>\n",
              "      <td>73992.03</td>\n",
              "    </tr>\n",
              "    <tr>\n",
              "      <th>1717</th>\n",
              "      <td>Nautica</td>\n",
              "      <td>1280</td>\n",
              "      <td>51802.58</td>\n",
              "    </tr>\n",
              "    <tr>\n",
              "      <th>2431</th>\n",
              "      <td>Tommy Hilfiger</td>\n",
              "      <td>1194</td>\n",
              "      <td>80490.42</td>\n",
              "    </tr>\n",
              "    <tr>\n",
              "      <th>1146</th>\n",
              "      <td>Hurley</td>\n",
              "      <td>1166</td>\n",
              "      <td>60478.06</td>\n",
              "    </tr>\n",
              "    <tr>\n",
              "      <th>1453</th>\n",
              "      <td>Levi's</td>\n",
              "      <td>1127</td>\n",
              "      <td>58146.28</td>\n",
              "    </tr>\n",
              "    <tr>\n",
              "      <th>565</th>\n",
              "      <td>Columbia</td>\n",
              "      <td>1102</td>\n",
              "      <td>74359.55</td>\n",
              "    </tr>\n",
              "    <tr>\n",
              "      <th>707</th>\n",
              "      <td>Dockers</td>\n",
              "      <td>1087</td>\n",
              "      <td>44215.22</td>\n",
              "    </tr>\n",
              "    <tr>\n",
              "      <th>699</th>\n",
              "      <td>Diesel</td>\n",
              "      <td>994</td>\n",
              "      <td>102731.96</td>\n",
              "    </tr>\n",
              "    <tr>\n",
              "      <th>2644</th>\n",
              "      <td>Wrangler</td>\n",
              "      <td>989</td>\n",
              "      <td>42035.35</td>\n",
              "    </tr>\n",
              "    <tr>\n",
              "      <th>2226</th>\n",
              "      <td>Speedo</td>\n",
              "      <td>914</td>\n",
              "      <td>47104.18</td>\n",
              "    </tr>\n",
              "  </tbody>\n",
              "</table>\n",
              "</div>\n",
              "      <button class=\"colab-df-convert\" onclick=\"convertToInteractive('df-881dda0e-bc14-4e4b-8ba6-d0d3ba8b2183')\"\n",
              "              title=\"Convert this dataframe to an interactive table.\"\n",
              "              style=\"display:none;\">\n",
              "        \n",
              "  <svg xmlns=\"http://www.w3.org/2000/svg\" height=\"24px\"viewBox=\"0 0 24 24\"\n",
              "       width=\"24px\">\n",
              "    <path d=\"M0 0h24v24H0V0z\" fill=\"none\"/>\n",
              "    <path d=\"M18.56 5.44l.94 2.06.94-2.06 2.06-.94-2.06-.94-.94-2.06-.94 2.06-2.06.94zm-11 1L8.5 8.5l.94-2.06 2.06-.94-2.06-.94L8.5 2.5l-.94 2.06-2.06.94zm10 10l.94 2.06.94-2.06 2.06-.94-2.06-.94-.94-2.06-.94 2.06-2.06.94z\"/><path d=\"M17.41 7.96l-1.37-1.37c-.4-.4-.92-.59-1.43-.59-.52 0-1.04.2-1.43.59L10.3 9.45l-7.72 7.72c-.78.78-.78 2.05 0 2.83L4 21.41c.39.39.9.59 1.41.59.51 0 1.02-.2 1.41-.59l7.78-7.78 2.81-2.81c.8-.78.8-2.07 0-2.86zM5.41 20L4 18.59l7.72-7.72 1.47 1.35L5.41 20z\"/>\n",
              "  </svg>\n",
              "      </button>\n",
              "      \n",
              "  <style>\n",
              "    .colab-df-container {\n",
              "      display:flex;\n",
              "      flex-wrap:wrap;\n",
              "      gap: 12px;\n",
              "    }\n",
              "\n",
              "    .colab-df-convert {\n",
              "      background-color: #E8F0FE;\n",
              "      border: none;\n",
              "      border-radius: 50%;\n",
              "      cursor: pointer;\n",
              "      display: none;\n",
              "      fill: #1967D2;\n",
              "      height: 32px;\n",
              "      padding: 0 0 0 0;\n",
              "      width: 32px;\n",
              "    }\n",
              "\n",
              "    .colab-df-convert:hover {\n",
              "      background-color: #E2EBFA;\n",
              "      box-shadow: 0px 1px 2px rgba(60, 64, 67, 0.3), 0px 1px 3px 1px rgba(60, 64, 67, 0.15);\n",
              "      fill: #174EA6;\n",
              "    }\n",
              "\n",
              "    [theme=dark] .colab-df-convert {\n",
              "      background-color: #3B4455;\n",
              "      fill: #D2E3FC;\n",
              "    }\n",
              "\n",
              "    [theme=dark] .colab-df-convert:hover {\n",
              "      background-color: #434B5C;\n",
              "      box-shadow: 0px 1px 3px 1px rgba(0, 0, 0, 0.15);\n",
              "      filter: drop-shadow(0px 1px 2px rgba(0, 0, 0, 0.3));\n",
              "      fill: #FFFFFF;\n",
              "    }\n",
              "  </style>\n",
              "\n",
              "      <script>\n",
              "        const buttonEl =\n",
              "          document.querySelector('#df-881dda0e-bc14-4e4b-8ba6-d0d3ba8b2183 button.colab-df-convert');\n",
              "        buttonEl.style.display =\n",
              "          google.colab.kernel.accessAllowed ? 'block' : 'none';\n",
              "\n",
              "        async function convertToInteractive(key) {\n",
              "          const element = document.querySelector('#df-881dda0e-bc14-4e4b-8ba6-d0d3ba8b2183');\n",
              "          const dataTable =\n",
              "            await google.colab.kernel.invokeFunction('convertToInteractive',\n",
              "                                                     [key], {});\n",
              "          if (!dataTable) return;\n",
              "\n",
              "          const docLinkHtml = 'Like what you see? Visit the ' +\n",
              "            '<a target=\"_blank\" href=https://colab.research.google.com/notebooks/data_table.ipynb>data table notebook</a>'\n",
              "            + ' to learn more about interactive tables.';\n",
              "          element.innerHTML = '';\n",
              "          dataTable['output_type'] = 'display_data';\n",
              "          await google.colab.output.renderOutput(dataTable, element);\n",
              "          const docLink = document.createElement('div');\n",
              "          docLink.innerHTML = docLinkHtml;\n",
              "          element.appendChild(docLink);\n",
              "        }\n",
              "      </script>\n",
              "    </div>\n",
              "  </div>\n",
              "  "
            ]
          },
          "metadata": {},
          "execution_count": 35
        }
      ]
    },
    {
      "cell_type": "markdown",
      "source": [
        "###EDA 5.b: gender distribution"
      ],
      "metadata": {
        "id": "IzeQl6sQtVVP"
      }
    },
    {
      "cell_type": "code",
      "execution_count": null,
      "metadata": {
        "id": "8r28xerh7GhU",
        "outputId": "6147c87c-172b-43e9-c30b-00c774400e4a",
        "colab": {
          "base_uri": "https://localhost:8080/",
          "height": 112
        }
      },
      "outputs": [
        {
          "output_type": "execute_result",
          "data": {
            "text/plain": [
              "   index  department\n",
              "0  Women       66652\n",
              "1    Men       66039"
            ],
            "text/html": [
              "\n",
              "  <div id=\"df-d3b0aeb1-1e38-440c-996c-30137737a261\">\n",
              "    <div class=\"colab-df-container\">\n",
              "      <div>\n",
              "<style scoped>\n",
              "    .dataframe tbody tr th:only-of-type {\n",
              "        vertical-align: middle;\n",
              "    }\n",
              "\n",
              "    .dataframe tbody tr th {\n",
              "        vertical-align: top;\n",
              "    }\n",
              "\n",
              "    .dataframe thead th {\n",
              "        text-align: right;\n",
              "    }\n",
              "</style>\n",
              "<table border=\"1\" class=\"dataframe\">\n",
              "  <thead>\n",
              "    <tr style=\"text-align: right;\">\n",
              "      <th></th>\n",
              "      <th>index</th>\n",
              "      <th>department</th>\n",
              "    </tr>\n",
              "  </thead>\n",
              "  <tbody>\n",
              "    <tr>\n",
              "      <th>0</th>\n",
              "      <td>Women</td>\n",
              "      <td>66652</td>\n",
              "    </tr>\n",
              "    <tr>\n",
              "      <th>1</th>\n",
              "      <td>Men</td>\n",
              "      <td>66039</td>\n",
              "    </tr>\n",
              "  </tbody>\n",
              "</table>\n",
              "</div>\n",
              "      <button class=\"colab-df-convert\" onclick=\"convertToInteractive('df-d3b0aeb1-1e38-440c-996c-30137737a261')\"\n",
              "              title=\"Convert this dataframe to an interactive table.\"\n",
              "              style=\"display:none;\">\n",
              "        \n",
              "  <svg xmlns=\"http://www.w3.org/2000/svg\" height=\"24px\"viewBox=\"0 0 24 24\"\n",
              "       width=\"24px\">\n",
              "    <path d=\"M0 0h24v24H0V0z\" fill=\"none\"/>\n",
              "    <path d=\"M18.56 5.44l.94 2.06.94-2.06 2.06-.94-2.06-.94-.94-2.06-.94 2.06-2.06.94zm-11 1L8.5 8.5l.94-2.06 2.06-.94-2.06-.94L8.5 2.5l-.94 2.06-2.06.94zm10 10l.94 2.06.94-2.06 2.06-.94-2.06-.94-.94-2.06-.94 2.06-2.06.94z\"/><path d=\"M17.41 7.96l-1.37-1.37c-.4-.4-.92-.59-1.43-.59-.52 0-1.04.2-1.43.59L10.3 9.45l-7.72 7.72c-.78.78-.78 2.05 0 2.83L4 21.41c.39.39.9.59 1.41.59.51 0 1.02-.2 1.41-.59l7.78-7.78 2.81-2.81c.8-.78.8-2.07 0-2.86zM5.41 20L4 18.59l7.72-7.72 1.47 1.35L5.41 20z\"/>\n",
              "  </svg>\n",
              "      </button>\n",
              "      \n",
              "  <style>\n",
              "    .colab-df-container {\n",
              "      display:flex;\n",
              "      flex-wrap:wrap;\n",
              "      gap: 12px;\n",
              "    }\n",
              "\n",
              "    .colab-df-convert {\n",
              "      background-color: #E8F0FE;\n",
              "      border: none;\n",
              "      border-radius: 50%;\n",
              "      cursor: pointer;\n",
              "      display: none;\n",
              "      fill: #1967D2;\n",
              "      height: 32px;\n",
              "      padding: 0 0 0 0;\n",
              "      width: 32px;\n",
              "    }\n",
              "\n",
              "    .colab-df-convert:hover {\n",
              "      background-color: #E2EBFA;\n",
              "      box-shadow: 0px 1px 2px rgba(60, 64, 67, 0.3), 0px 1px 3px 1px rgba(60, 64, 67, 0.15);\n",
              "      fill: #174EA6;\n",
              "    }\n",
              "\n",
              "    [theme=dark] .colab-df-convert {\n",
              "      background-color: #3B4455;\n",
              "      fill: #D2E3FC;\n",
              "    }\n",
              "\n",
              "    [theme=dark] .colab-df-convert:hover {\n",
              "      background-color: #434B5C;\n",
              "      box-shadow: 0px 1px 3px 1px rgba(0, 0, 0, 0.15);\n",
              "      filter: drop-shadow(0px 1px 2px rgba(0, 0, 0, 0.3));\n",
              "      fill: #FFFFFF;\n",
              "    }\n",
              "  </style>\n",
              "\n",
              "      <script>\n",
              "        const buttonEl =\n",
              "          document.querySelector('#df-d3b0aeb1-1e38-440c-996c-30137737a261 button.colab-df-convert');\n",
              "        buttonEl.style.display =\n",
              "          google.colab.kernel.accessAllowed ? 'block' : 'none';\n",
              "\n",
              "        async function convertToInteractive(key) {\n",
              "          const element = document.querySelector('#df-d3b0aeb1-1e38-440c-996c-30137737a261');\n",
              "          const dataTable =\n",
              "            await google.colab.kernel.invokeFunction('convertToInteractive',\n",
              "                                                     [key], {});\n",
              "          if (!dataTable) return;\n",
              "\n",
              "          const docLinkHtml = 'Like what you see? Visit the ' +\n",
              "            '<a target=\"_blank\" href=https://colab.research.google.com/notebooks/data_table.ipynb>data table notebook</a>'\n",
              "            + ' to learn more about interactive tables.';\n",
              "          element.innerHTML = '';\n",
              "          dataTable['output_type'] = 'display_data';\n",
              "          await google.colab.output.renderOutput(dataTable, element);\n",
              "          const docLink = document.createElement('div');\n",
              "          docLink.innerHTML = docLinkHtml;\n",
              "          element.appendChild(docLink);\n",
              "        }\n",
              "      </script>\n",
              "    </div>\n",
              "  </div>\n",
              "  "
            ]
          },
          "metadata": {},
          "execution_count": 36
        }
      ],
      "source": [
        "df_buy['department'].value_counts().reset_index()"
      ]
    },
    {
      "cell_type": "markdown",
      "source": [
        "##EDA 6: Users analysis "
      ],
      "metadata": {
        "id": "uLHN6AgltgkB"
      }
    },
    {
      "cell_type": "code",
      "source": [
        "dfclean['account_made'] = pd.to_datetime(dfclean['account_made'])"
      ],
      "metadata": {
        "id": "PftBqetTQBIA"
      },
      "execution_count": 12,
      "outputs": []
    },
    {
      "cell_type": "markdown",
      "source": [
        "#### variables"
      ],
      "metadata": {
        "id": "J7AzMDTRgKFE"
      }
    },
    {
      "cell_type": "code",
      "source": [
        "cleanusers = dfclean[['user_id','order_id','gender','age','state','city','country','traffic_source','account_made','sale_price']].sort_values('user_id', ascending=True)"
      ],
      "metadata": {
        "id": "ckjwYV5cOdz0"
      },
      "execution_count": 13,
      "outputs": []
    },
    {
      "cell_type": "code",
      "source": [
        "cleanusersuniq = cleanusers.copy()\n",
        "#cleanusersuniq (analysis age group, country)\n",
        "#cleanusers (analysis valuable)"
      ],
      "metadata": {
        "id": "45JDKS5kS0Iw"
      },
      "execution_count": 14,
      "outputs": []
    },
    {
      "cell_type": "code",
      "source": [
        "cleanusersuniq.drop_duplicates(subset='user_id', keep='first', inplace=True)"
      ],
      "metadata": {
        "id": "eaQD2r-fLTdh"
      },
      "execution_count": 15,
      "outputs": []
    },
    {
      "cell_type": "markdown",
      "source": [
        "###EDA 6.a: 6 vs 6 new accounts made\n",
        "\n",
        "\n"
      ],
      "metadata": {
        "id": "HXy4z-3p3X8T"
      }
    },
    {
      "cell_type": "code",
      "source": [
        "acc_made_past_vi = cleanusersuniq[cleanusersuniq['account_made']>= last_vi].sort_values('user_id', ascending=True)"
      ],
      "metadata": {
        "id": "dFHq8xd7ujAc"
      },
      "execution_count": null,
      "outputs": []
    },
    {
      "cell_type": "code",
      "source": [
        "acc_made_before_past_vi = cleanusersuniq[(cleanusersuniq['account_made']>= before_last_vi) & (cleanusersuniq['account_made']< last_vi)].sort_values('user_id', ascending=True)"
      ],
      "metadata": {
        "id": "NEGnFyfg1vzV"
      },
      "execution_count": null,
      "outputs": []
    },
    {
      "cell_type": "code",
      "source": [
        "n_6 = len(acc_made_past_vi)\n",
        "n_12_6 = len(acc_made_before_past_vi) \n",
        "print(f'Accounts made in past 6 months: {n_6}')\n",
        "print(f'Accounts made in past 12-6 months: {n_12_6}')"
      ],
      "metadata": {
        "colab": {
          "base_uri": "https://localhost:8080/"
        },
        "id": "P78mFwyj0fp5",
        "outputId": "9a1e9d91-b15b-43e3-e5f6-5ac4e460d068"
      },
      "execution_count": null,
      "outputs": [
        {
          "output_type": "stream",
          "name": "stdout",
          "text": [
            "Accounts made in past 6 months: 10450\n",
            "Accounts made in past 12-6 months: 8684\n"
          ]
        }
      ]
    },
    {
      "cell_type": "code",
      "source": [
        "account_made = pd.DataFrame({\n",
        "    'Timeline Group':['Past 6 months','Past 12-6 months'],\n",
        "    'Made':[n_6, n_12_6]})\n",
        "account_made"
      ],
      "metadata": {
        "colab": {
          "base_uri": "https://localhost:8080/",
          "height": 112
        },
        "id": "gzYVcSvlQv1Y",
        "outputId": "78fd479f-b5db-4f3e-eea7-d5c9ea5bb820"
      },
      "execution_count": null,
      "outputs": [
        {
          "output_type": "execute_result",
          "data": {
            "text/plain": [
              "     Timeline Group   Made\n",
              "0     Past 6 months  10450\n",
              "1  Past 12-6 months   8684"
            ],
            "text/html": [
              "\n",
              "  <div id=\"df-b1c77c24-eda9-4c6d-831a-41468910c8d6\">\n",
              "    <div class=\"colab-df-container\">\n",
              "      <div>\n",
              "<style scoped>\n",
              "    .dataframe tbody tr th:only-of-type {\n",
              "        vertical-align: middle;\n",
              "    }\n",
              "\n",
              "    .dataframe tbody tr th {\n",
              "        vertical-align: top;\n",
              "    }\n",
              "\n",
              "    .dataframe thead th {\n",
              "        text-align: right;\n",
              "    }\n",
              "</style>\n",
              "<table border=\"1\" class=\"dataframe\">\n",
              "  <thead>\n",
              "    <tr style=\"text-align: right;\">\n",
              "      <th></th>\n",
              "      <th>Timeline Group</th>\n",
              "      <th>Made</th>\n",
              "    </tr>\n",
              "  </thead>\n",
              "  <tbody>\n",
              "    <tr>\n",
              "      <th>0</th>\n",
              "      <td>Past 6 months</td>\n",
              "      <td>10450</td>\n",
              "    </tr>\n",
              "    <tr>\n",
              "      <th>1</th>\n",
              "      <td>Past 12-6 months</td>\n",
              "      <td>8684</td>\n",
              "    </tr>\n",
              "  </tbody>\n",
              "</table>\n",
              "</div>\n",
              "      <button class=\"colab-df-convert\" onclick=\"convertToInteractive('df-b1c77c24-eda9-4c6d-831a-41468910c8d6')\"\n",
              "              title=\"Convert this dataframe to an interactive table.\"\n",
              "              style=\"display:none;\">\n",
              "        \n",
              "  <svg xmlns=\"http://www.w3.org/2000/svg\" height=\"24px\"viewBox=\"0 0 24 24\"\n",
              "       width=\"24px\">\n",
              "    <path d=\"M0 0h24v24H0V0z\" fill=\"none\"/>\n",
              "    <path d=\"M18.56 5.44l.94 2.06.94-2.06 2.06-.94-2.06-.94-.94-2.06-.94 2.06-2.06.94zm-11 1L8.5 8.5l.94-2.06 2.06-.94-2.06-.94L8.5 2.5l-.94 2.06-2.06.94zm10 10l.94 2.06.94-2.06 2.06-.94-2.06-.94-.94-2.06-.94 2.06-2.06.94z\"/><path d=\"M17.41 7.96l-1.37-1.37c-.4-.4-.92-.59-1.43-.59-.52 0-1.04.2-1.43.59L10.3 9.45l-7.72 7.72c-.78.78-.78 2.05 0 2.83L4 21.41c.39.39.9.59 1.41.59.51 0 1.02-.2 1.41-.59l7.78-7.78 2.81-2.81c.8-.78.8-2.07 0-2.86zM5.41 20L4 18.59l7.72-7.72 1.47 1.35L5.41 20z\"/>\n",
              "  </svg>\n",
              "      </button>\n",
              "      \n",
              "  <style>\n",
              "    .colab-df-container {\n",
              "      display:flex;\n",
              "      flex-wrap:wrap;\n",
              "      gap: 12px;\n",
              "    }\n",
              "\n",
              "    .colab-df-convert {\n",
              "      background-color: #E8F0FE;\n",
              "      border: none;\n",
              "      border-radius: 50%;\n",
              "      cursor: pointer;\n",
              "      display: none;\n",
              "      fill: #1967D2;\n",
              "      height: 32px;\n",
              "      padding: 0 0 0 0;\n",
              "      width: 32px;\n",
              "    }\n",
              "\n",
              "    .colab-df-convert:hover {\n",
              "      background-color: #E2EBFA;\n",
              "      box-shadow: 0px 1px 2px rgba(60, 64, 67, 0.3), 0px 1px 3px 1px rgba(60, 64, 67, 0.15);\n",
              "      fill: #174EA6;\n",
              "    }\n",
              "\n",
              "    [theme=dark] .colab-df-convert {\n",
              "      background-color: #3B4455;\n",
              "      fill: #D2E3FC;\n",
              "    }\n",
              "\n",
              "    [theme=dark] .colab-df-convert:hover {\n",
              "      background-color: #434B5C;\n",
              "      box-shadow: 0px 1px 3px 1px rgba(0, 0, 0, 0.15);\n",
              "      filter: drop-shadow(0px 1px 2px rgba(0, 0, 0, 0.3));\n",
              "      fill: #FFFFFF;\n",
              "    }\n",
              "  </style>\n",
              "\n",
              "      <script>\n",
              "        const buttonEl =\n",
              "          document.querySelector('#df-b1c77c24-eda9-4c6d-831a-41468910c8d6 button.colab-df-convert');\n",
              "        buttonEl.style.display =\n",
              "          google.colab.kernel.accessAllowed ? 'block' : 'none';\n",
              "\n",
              "        async function convertToInteractive(key) {\n",
              "          const element = document.querySelector('#df-b1c77c24-eda9-4c6d-831a-41468910c8d6');\n",
              "          const dataTable =\n",
              "            await google.colab.kernel.invokeFunction('convertToInteractive',\n",
              "                                                     [key], {});\n",
              "          if (!dataTable) return;\n",
              "\n",
              "          const docLinkHtml = 'Like what you see? Visit the ' +\n",
              "            '<a target=\"_blank\" href=https://colab.research.google.com/notebooks/data_table.ipynb>data table notebook</a>'\n",
              "            + ' to learn more about interactive tables.';\n",
              "          element.innerHTML = '';\n",
              "          dataTable['output_type'] = 'display_data';\n",
              "          await google.colab.output.renderOutput(dataTable, element);\n",
              "          const docLink = document.createElement('div');\n",
              "          docLink.innerHTML = docLinkHtml;\n",
              "          element.appendChild(docLink);\n",
              "        }\n",
              "      </script>\n",
              "    </div>\n",
              "  </div>\n",
              "  "
            ]
          },
          "metadata": {},
          "execution_count": 122
        }
      ]
    },
    {
      "cell_type": "markdown",
      "source": [
        "###EDA 6.b: Age group"
      ],
      "metadata": {
        "id": "PrIhyBnD3Zkj"
      }
    },
    {
      "cell_type": "markdown",
      "source": [
        "Making new series and lambda way"
      ],
      "metadata": {
        "id": "SgSsZWvQgYD8"
      }
    },
    {
      "cell_type": "code",
      "source": [
        "cleanusersuniq['age_group'] = cleanusersuniq['age'].apply(lambda x: '15-25' if (x >=15) and (x < 25)\n",
        "                                                          else '25-40' if (x >=25) and (x < 40)\n",
        "                                                          else '40-60' if (x >=40) and (x < 60)\n",
        "                                                          else '60-80' if (x >=60) and (x <= 80)\n",
        "                                                          else 0\n",
        "                                                          )"
      ],
      "metadata": {
        "id": "Z-fFDOeDa5vG"
      },
      "execution_count": 16,
      "outputs": []
    },
    {
      "cell_type": "code",
      "source": [
        "agegrouped=cleanusersuniq.groupby('traffic_source').agg(\n",
        "    _15_25=('age_group', lambda x: (x == '15-25').sum()),\n",
        "    _25_40=('age_group', lambda x: (x == '25-40').sum()),\n",
        "    _40_60=('age_group', lambda x: (x == '40-60').sum()),\n",
        "    _60_80=('age_group', lambda x: (x == '60-80').sum())\n",
        ").reset_index()\n",
        "agegrouped\n",
        "\n"
      ],
      "metadata": {
        "colab": {
          "base_uri": "https://localhost:8080/",
          "height": 206
        },
        "id": "9xQfig80cO-u",
        "outputId": "ea913402-1af9-4cde-8a74-2bce2267f9ca"
      },
      "execution_count": 17,
      "outputs": [
        {
          "output_type": "execute_result",
          "data": {
            "text/plain": [
              "  traffic_source  _15_25  _25_40  _40_60  _60_80\n",
              "0        Display     547     800    1109     567\n",
              "1          Email     661     977    1322     761\n",
              "2       Facebook     781    1245    1620     790\n",
              "3        Organic    1962    3117    4007    2168\n",
              "4         Search    9372   13846   18601   10358"
            ],
            "text/html": [
              "\n",
              "  <div id=\"df-b5c1d23f-ee5d-478c-bbfe-9d51f916003c\">\n",
              "    <div class=\"colab-df-container\">\n",
              "      <div>\n",
              "<style scoped>\n",
              "    .dataframe tbody tr th:only-of-type {\n",
              "        vertical-align: middle;\n",
              "    }\n",
              "\n",
              "    .dataframe tbody tr th {\n",
              "        vertical-align: top;\n",
              "    }\n",
              "\n",
              "    .dataframe thead th {\n",
              "        text-align: right;\n",
              "    }\n",
              "</style>\n",
              "<table border=\"1\" class=\"dataframe\">\n",
              "  <thead>\n",
              "    <tr style=\"text-align: right;\">\n",
              "      <th></th>\n",
              "      <th>traffic_source</th>\n",
              "      <th>_15_25</th>\n",
              "      <th>_25_40</th>\n",
              "      <th>_40_60</th>\n",
              "      <th>_60_80</th>\n",
              "    </tr>\n",
              "  </thead>\n",
              "  <tbody>\n",
              "    <tr>\n",
              "      <th>0</th>\n",
              "      <td>Display</td>\n",
              "      <td>547</td>\n",
              "      <td>800</td>\n",
              "      <td>1109</td>\n",
              "      <td>567</td>\n",
              "    </tr>\n",
              "    <tr>\n",
              "      <th>1</th>\n",
              "      <td>Email</td>\n",
              "      <td>661</td>\n",
              "      <td>977</td>\n",
              "      <td>1322</td>\n",
              "      <td>761</td>\n",
              "    </tr>\n",
              "    <tr>\n",
              "      <th>2</th>\n",
              "      <td>Facebook</td>\n",
              "      <td>781</td>\n",
              "      <td>1245</td>\n",
              "      <td>1620</td>\n",
              "      <td>790</td>\n",
              "    </tr>\n",
              "    <tr>\n",
              "      <th>3</th>\n",
              "      <td>Organic</td>\n",
              "      <td>1962</td>\n",
              "      <td>3117</td>\n",
              "      <td>4007</td>\n",
              "      <td>2168</td>\n",
              "    </tr>\n",
              "    <tr>\n",
              "      <th>4</th>\n",
              "      <td>Search</td>\n",
              "      <td>9372</td>\n",
              "      <td>13846</td>\n",
              "      <td>18601</td>\n",
              "      <td>10358</td>\n",
              "    </tr>\n",
              "  </tbody>\n",
              "</table>\n",
              "</div>\n",
              "      <button class=\"colab-df-convert\" onclick=\"convertToInteractive('df-b5c1d23f-ee5d-478c-bbfe-9d51f916003c')\"\n",
              "              title=\"Convert this dataframe to an interactive table.\"\n",
              "              style=\"display:none;\">\n",
              "        \n",
              "  <svg xmlns=\"http://www.w3.org/2000/svg\" height=\"24px\"viewBox=\"0 0 24 24\"\n",
              "       width=\"24px\">\n",
              "    <path d=\"M0 0h24v24H0V0z\" fill=\"none\"/>\n",
              "    <path d=\"M18.56 5.44l.94 2.06.94-2.06 2.06-.94-2.06-.94-.94-2.06-.94 2.06-2.06.94zm-11 1L8.5 8.5l.94-2.06 2.06-.94-2.06-.94L8.5 2.5l-.94 2.06-2.06.94zm10 10l.94 2.06.94-2.06 2.06-.94-2.06-.94-.94-2.06-.94 2.06-2.06.94z\"/><path d=\"M17.41 7.96l-1.37-1.37c-.4-.4-.92-.59-1.43-.59-.52 0-1.04.2-1.43.59L10.3 9.45l-7.72 7.72c-.78.78-.78 2.05 0 2.83L4 21.41c.39.39.9.59 1.41.59.51 0 1.02-.2 1.41-.59l7.78-7.78 2.81-2.81c.8-.78.8-2.07 0-2.86zM5.41 20L4 18.59l7.72-7.72 1.47 1.35L5.41 20z\"/>\n",
              "  </svg>\n",
              "      </button>\n",
              "      \n",
              "  <style>\n",
              "    .colab-df-container {\n",
              "      display:flex;\n",
              "      flex-wrap:wrap;\n",
              "      gap: 12px;\n",
              "    }\n",
              "\n",
              "    .colab-df-convert {\n",
              "      background-color: #E8F0FE;\n",
              "      border: none;\n",
              "      border-radius: 50%;\n",
              "      cursor: pointer;\n",
              "      display: none;\n",
              "      fill: #1967D2;\n",
              "      height: 32px;\n",
              "      padding: 0 0 0 0;\n",
              "      width: 32px;\n",
              "    }\n",
              "\n",
              "    .colab-df-convert:hover {\n",
              "      background-color: #E2EBFA;\n",
              "      box-shadow: 0px 1px 2px rgba(60, 64, 67, 0.3), 0px 1px 3px 1px rgba(60, 64, 67, 0.15);\n",
              "      fill: #174EA6;\n",
              "    }\n",
              "\n",
              "    [theme=dark] .colab-df-convert {\n",
              "      background-color: #3B4455;\n",
              "      fill: #D2E3FC;\n",
              "    }\n",
              "\n",
              "    [theme=dark] .colab-df-convert:hover {\n",
              "      background-color: #434B5C;\n",
              "      box-shadow: 0px 1px 3px 1px rgba(0, 0, 0, 0.15);\n",
              "      filter: drop-shadow(0px 1px 2px rgba(0, 0, 0, 0.3));\n",
              "      fill: #FFFFFF;\n",
              "    }\n",
              "  </style>\n",
              "\n",
              "      <script>\n",
              "        const buttonEl =\n",
              "          document.querySelector('#df-b5c1d23f-ee5d-478c-bbfe-9d51f916003c button.colab-df-convert');\n",
              "        buttonEl.style.display =\n",
              "          google.colab.kernel.accessAllowed ? 'block' : 'none';\n",
              "\n",
              "        async function convertToInteractive(key) {\n",
              "          const element = document.querySelector('#df-b5c1d23f-ee5d-478c-bbfe-9d51f916003c');\n",
              "          const dataTable =\n",
              "            await google.colab.kernel.invokeFunction('convertToInteractive',\n",
              "                                                     [key], {});\n",
              "          if (!dataTable) return;\n",
              "\n",
              "          const docLinkHtml = 'Like what you see? Visit the ' +\n",
              "            '<a target=\"_blank\" href=https://colab.research.google.com/notebooks/data_table.ipynb>data table notebook</a>'\n",
              "            + ' to learn more about interactive tables.';\n",
              "          element.innerHTML = '';\n",
              "          dataTable['output_type'] = 'display_data';\n",
              "          await google.colab.output.renderOutput(dataTable, element);\n",
              "          const docLink = document.createElement('div');\n",
              "          docLink.innerHTML = docLinkHtml;\n",
              "          element.appendChild(docLink);\n",
              "        }\n",
              "      </script>\n",
              "    </div>\n",
              "  </div>\n",
              "  "
            ]
          },
          "metadata": {},
          "execution_count": 17
        }
      ]
    },
    {
      "cell_type": "markdown",
      "source": [
        "###EDA 6.c: Top 10 valuable users"
      ],
      "metadata": {
        "id": "iVjQdFoYlQWj"
      }
    },
    {
      "cell_type": "code",
      "source": [
        "top10valueusers= cleanusers.groupby('user_id').agg(\n",
        "    USD_spent = ('sale_price','sum')\n",
        ").reset_index().sort_values('USD_spent', ascending=False).head(10)"
      ],
      "metadata": {
        "id": "YF_P5yV4lXpz",
        "colab": {
          "base_uri": "https://localhost:8080/",
          "height": 363
        },
        "outputId": "7c1136e9-b2c2-4c2c-bef8-7dff00a66f14"
      },
      "execution_count": null,
      "outputs": [
        {
          "output_type": "execute_result",
          "data": {
            "text/plain": [
              "       user_id  USD_spent\n",
              "62282    79203    1035.14\n",
              "41479    52701     992.46\n",
              "64474    81990     986.36\n",
              "50709    64443     973.43\n",
              "13405    17065     955.19\n",
              "67816    86243     946.17\n",
              "17326    22038     928.26\n",
              "16204    20605     920.18\n",
              "53953    68559     911.77\n",
              "4349      5536     904.19"
            ],
            "text/html": [
              "\n",
              "  <div id=\"df-1941a352-d650-4c6b-84c9-c45c66bddafe\">\n",
              "    <div class=\"colab-df-container\">\n",
              "      <div>\n",
              "<style scoped>\n",
              "    .dataframe tbody tr th:only-of-type {\n",
              "        vertical-align: middle;\n",
              "    }\n",
              "\n",
              "    .dataframe tbody tr th {\n",
              "        vertical-align: top;\n",
              "    }\n",
              "\n",
              "    .dataframe thead th {\n",
              "        text-align: right;\n",
              "    }\n",
              "</style>\n",
              "<table border=\"1\" class=\"dataframe\">\n",
              "  <thead>\n",
              "    <tr style=\"text-align: right;\">\n",
              "      <th></th>\n",
              "      <th>user_id</th>\n",
              "      <th>USD_spent</th>\n",
              "    </tr>\n",
              "  </thead>\n",
              "  <tbody>\n",
              "    <tr>\n",
              "      <th>62282</th>\n",
              "      <td>79203</td>\n",
              "      <td>1035.14</td>\n",
              "    </tr>\n",
              "    <tr>\n",
              "      <th>41479</th>\n",
              "      <td>52701</td>\n",
              "      <td>992.46</td>\n",
              "    </tr>\n",
              "    <tr>\n",
              "      <th>64474</th>\n",
              "      <td>81990</td>\n",
              "      <td>986.36</td>\n",
              "    </tr>\n",
              "    <tr>\n",
              "      <th>50709</th>\n",
              "      <td>64443</td>\n",
              "      <td>973.43</td>\n",
              "    </tr>\n",
              "    <tr>\n",
              "      <th>13405</th>\n",
              "      <td>17065</td>\n",
              "      <td>955.19</td>\n",
              "    </tr>\n",
              "    <tr>\n",
              "      <th>67816</th>\n",
              "      <td>86243</td>\n",
              "      <td>946.17</td>\n",
              "    </tr>\n",
              "    <tr>\n",
              "      <th>17326</th>\n",
              "      <td>22038</td>\n",
              "      <td>928.26</td>\n",
              "    </tr>\n",
              "    <tr>\n",
              "      <th>16204</th>\n",
              "      <td>20605</td>\n",
              "      <td>920.18</td>\n",
              "    </tr>\n",
              "    <tr>\n",
              "      <th>53953</th>\n",
              "      <td>68559</td>\n",
              "      <td>911.77</td>\n",
              "    </tr>\n",
              "    <tr>\n",
              "      <th>4349</th>\n",
              "      <td>5536</td>\n",
              "      <td>904.19</td>\n",
              "    </tr>\n",
              "  </tbody>\n",
              "</table>\n",
              "</div>\n",
              "      <button class=\"colab-df-convert\" onclick=\"convertToInteractive('df-1941a352-d650-4c6b-84c9-c45c66bddafe')\"\n",
              "              title=\"Convert this dataframe to an interactive table.\"\n",
              "              style=\"display:none;\">\n",
              "        \n",
              "  <svg xmlns=\"http://www.w3.org/2000/svg\" height=\"24px\"viewBox=\"0 0 24 24\"\n",
              "       width=\"24px\">\n",
              "    <path d=\"M0 0h24v24H0V0z\" fill=\"none\"/>\n",
              "    <path d=\"M18.56 5.44l.94 2.06.94-2.06 2.06-.94-2.06-.94-.94-2.06-.94 2.06-2.06.94zm-11 1L8.5 8.5l.94-2.06 2.06-.94-2.06-.94L8.5 2.5l-.94 2.06-2.06.94zm10 10l.94 2.06.94-2.06 2.06-.94-2.06-.94-.94-2.06-.94 2.06-2.06.94z\"/><path d=\"M17.41 7.96l-1.37-1.37c-.4-.4-.92-.59-1.43-.59-.52 0-1.04.2-1.43.59L10.3 9.45l-7.72 7.72c-.78.78-.78 2.05 0 2.83L4 21.41c.39.39.9.59 1.41.59.51 0 1.02-.2 1.41-.59l7.78-7.78 2.81-2.81c.8-.78.8-2.07 0-2.86zM5.41 20L4 18.59l7.72-7.72 1.47 1.35L5.41 20z\"/>\n",
              "  </svg>\n",
              "      </button>\n",
              "      \n",
              "  <style>\n",
              "    .colab-df-container {\n",
              "      display:flex;\n",
              "      flex-wrap:wrap;\n",
              "      gap: 12px;\n",
              "    }\n",
              "\n",
              "    .colab-df-convert {\n",
              "      background-color: #E8F0FE;\n",
              "      border: none;\n",
              "      border-radius: 50%;\n",
              "      cursor: pointer;\n",
              "      display: none;\n",
              "      fill: #1967D2;\n",
              "      height: 32px;\n",
              "      padding: 0 0 0 0;\n",
              "      width: 32px;\n",
              "    }\n",
              "\n",
              "    .colab-df-convert:hover {\n",
              "      background-color: #E2EBFA;\n",
              "      box-shadow: 0px 1px 2px rgba(60, 64, 67, 0.3), 0px 1px 3px 1px rgba(60, 64, 67, 0.15);\n",
              "      fill: #174EA6;\n",
              "    }\n",
              "\n",
              "    [theme=dark] .colab-df-convert {\n",
              "      background-color: #3B4455;\n",
              "      fill: #D2E3FC;\n",
              "    }\n",
              "\n",
              "    [theme=dark] .colab-df-convert:hover {\n",
              "      background-color: #434B5C;\n",
              "      box-shadow: 0px 1px 3px 1px rgba(0, 0, 0, 0.15);\n",
              "      filter: drop-shadow(0px 1px 2px rgba(0, 0, 0, 0.3));\n",
              "      fill: #FFFFFF;\n",
              "    }\n",
              "  </style>\n",
              "\n",
              "      <script>\n",
              "        const buttonEl =\n",
              "          document.querySelector('#df-1941a352-d650-4c6b-84c9-c45c66bddafe button.colab-df-convert');\n",
              "        buttonEl.style.display =\n",
              "          google.colab.kernel.accessAllowed ? 'block' : 'none';\n",
              "\n",
              "        async function convertToInteractive(key) {\n",
              "          const element = document.querySelector('#df-1941a352-d650-4c6b-84c9-c45c66bddafe');\n",
              "          const dataTable =\n",
              "            await google.colab.kernel.invokeFunction('convertToInteractive',\n",
              "                                                     [key], {});\n",
              "          if (!dataTable) return;\n",
              "\n",
              "          const docLinkHtml = 'Like what you see? Visit the ' +\n",
              "            '<a target=\"_blank\" href=https://colab.research.google.com/notebooks/data_table.ipynb>data table notebook</a>'\n",
              "            + ' to learn more about interactive tables.';\n",
              "          element.innerHTML = '';\n",
              "          dataTable['output_type'] = 'display_data';\n",
              "          await google.colab.output.renderOutput(dataTable, element);\n",
              "          const docLink = document.createElement('div');\n",
              "          docLink.innerHTML = docLinkHtml;\n",
              "          element.appendChild(docLink);\n",
              "        }\n",
              "      </script>\n",
              "    </div>\n",
              "  </div>\n",
              "  "
            ]
          },
          "metadata": {},
          "execution_count": 20
        }
      ]
    },
    {
      "cell_type": "code",
      "source": [
        "pd.merge(top10valueusers, d_users, left_on = 'user_id', right_on='id', how='left)"
      ],
      "metadata": {
        "id": "gjQzsf6VZgMR"
      },
      "execution_count": null,
      "outputs": []
    },
    {
      "cell_type": "markdown",
      "metadata": {
        "id": "X-zeO52k7GhW"
      },
      "source": [
        "# SEGMENT PREPARATION DF: normally segmenting users only done to confirmed value spent by users"
      ]
    },
    {
      "cell_type": "markdown",
      "source": [
        "##Making RFM DF (recency, frequency (order), monetary value)"
      ],
      "metadata": {
        "id": "vh40YSYsqZfA"
      }
    },
    {
      "cell_type": "code",
      "execution_count": null,
      "metadata": {
        "id": "0rKglk5C7GhV"
      },
      "outputs": [],
      "source": [
        "rfm = df_buy.groupby('user_id').agg(\n",
        "    order_count=('order_id','count'),\n",
        "    total_spend=('sale_price','sum'),\n",
        "    recency=('created', lambda x: (datetime(2023,5,1)-x.max()).days)).sort_values('recency', ascending= True)"
      ]
    },
    {
      "cell_type": "code",
      "execution_count": null,
      "metadata": {
        "id": "ClDjIzp47GhW",
        "outputId": "a5b0e701-4018-432f-a4c2-5e58f1512727",
        "colab": {
          "base_uri": "https://localhost:8080/",
          "height": 455
        }
      },
      "outputs": [
        {
          "output_type": "execute_result",
          "data": {
            "text/plain": [
              "         order_count  total_spend  recency\n",
              "user_id                                   \n",
              "1                  2        67.50       99\n",
              "4                  1        19.90      513\n",
              "6                  4       233.44      116\n",
              "7                  3        80.24       85\n",
              "8                  1        23.43      213\n",
              "...              ...          ...      ...\n",
              "99994              1        59.00      404\n",
              "99996              1        19.99      247\n",
              "99998              1        19.90     1064\n",
              "99999              1        59.00       17\n",
              "100000             7       394.53      258\n",
              "\n",
              "[65014 rows x 3 columns]"
            ],
            "text/html": [
              "\n",
              "  <div id=\"df-cf246e01-205a-4310-bf75-48de3cd46c2f\">\n",
              "    <div class=\"colab-df-container\">\n",
              "      <div>\n",
              "<style scoped>\n",
              "    .dataframe tbody tr th:only-of-type {\n",
              "        vertical-align: middle;\n",
              "    }\n",
              "\n",
              "    .dataframe tbody tr th {\n",
              "        vertical-align: top;\n",
              "    }\n",
              "\n",
              "    .dataframe thead th {\n",
              "        text-align: right;\n",
              "    }\n",
              "</style>\n",
              "<table border=\"1\" class=\"dataframe\">\n",
              "  <thead>\n",
              "    <tr style=\"text-align: right;\">\n",
              "      <th></th>\n",
              "      <th>order_count</th>\n",
              "      <th>total_spend</th>\n",
              "      <th>recency</th>\n",
              "    </tr>\n",
              "    <tr>\n",
              "      <th>user_id</th>\n",
              "      <th></th>\n",
              "      <th></th>\n",
              "      <th></th>\n",
              "    </tr>\n",
              "  </thead>\n",
              "  <tbody>\n",
              "    <tr>\n",
              "      <th>1</th>\n",
              "      <td>2</td>\n",
              "      <td>67.50</td>\n",
              "      <td>99</td>\n",
              "    </tr>\n",
              "    <tr>\n",
              "      <th>4</th>\n",
              "      <td>1</td>\n",
              "      <td>19.90</td>\n",
              "      <td>513</td>\n",
              "    </tr>\n",
              "    <tr>\n",
              "      <th>6</th>\n",
              "      <td>4</td>\n",
              "      <td>233.44</td>\n",
              "      <td>116</td>\n",
              "    </tr>\n",
              "    <tr>\n",
              "      <th>7</th>\n",
              "      <td>3</td>\n",
              "      <td>80.24</td>\n",
              "      <td>85</td>\n",
              "    </tr>\n",
              "    <tr>\n",
              "      <th>8</th>\n",
              "      <td>1</td>\n",
              "      <td>23.43</td>\n",
              "      <td>213</td>\n",
              "    </tr>\n",
              "    <tr>\n",
              "      <th>...</th>\n",
              "      <td>...</td>\n",
              "      <td>...</td>\n",
              "      <td>...</td>\n",
              "    </tr>\n",
              "    <tr>\n",
              "      <th>99994</th>\n",
              "      <td>1</td>\n",
              "      <td>59.00</td>\n",
              "      <td>404</td>\n",
              "    </tr>\n",
              "    <tr>\n",
              "      <th>99996</th>\n",
              "      <td>1</td>\n",
              "      <td>19.99</td>\n",
              "      <td>247</td>\n",
              "    </tr>\n",
              "    <tr>\n",
              "      <th>99998</th>\n",
              "      <td>1</td>\n",
              "      <td>19.90</td>\n",
              "      <td>1064</td>\n",
              "    </tr>\n",
              "    <tr>\n",
              "      <th>99999</th>\n",
              "      <td>1</td>\n",
              "      <td>59.00</td>\n",
              "      <td>17</td>\n",
              "    </tr>\n",
              "    <tr>\n",
              "      <th>100000</th>\n",
              "      <td>7</td>\n",
              "      <td>394.53</td>\n",
              "      <td>258</td>\n",
              "    </tr>\n",
              "  </tbody>\n",
              "</table>\n",
              "<p>65014 rows × 3 columns</p>\n",
              "</div>\n",
              "      <button class=\"colab-df-convert\" onclick=\"convertToInteractive('df-cf246e01-205a-4310-bf75-48de3cd46c2f')\"\n",
              "              title=\"Convert this dataframe to an interactive table.\"\n",
              "              style=\"display:none;\">\n",
              "        \n",
              "  <svg xmlns=\"http://www.w3.org/2000/svg\" height=\"24px\"viewBox=\"0 0 24 24\"\n",
              "       width=\"24px\">\n",
              "    <path d=\"M0 0h24v24H0V0z\" fill=\"none\"/>\n",
              "    <path d=\"M18.56 5.44l.94 2.06.94-2.06 2.06-.94-2.06-.94-.94-2.06-.94 2.06-2.06.94zm-11 1L8.5 8.5l.94-2.06 2.06-.94-2.06-.94L8.5 2.5l-.94 2.06-2.06.94zm10 10l.94 2.06.94-2.06 2.06-.94-2.06-.94-.94-2.06-.94 2.06-2.06.94z\"/><path d=\"M17.41 7.96l-1.37-1.37c-.4-.4-.92-.59-1.43-.59-.52 0-1.04.2-1.43.59L10.3 9.45l-7.72 7.72c-.78.78-.78 2.05 0 2.83L4 21.41c.39.39.9.59 1.41.59.51 0 1.02-.2 1.41-.59l7.78-7.78 2.81-2.81c.8-.78.8-2.07 0-2.86zM5.41 20L4 18.59l7.72-7.72 1.47 1.35L5.41 20z\"/>\n",
              "  </svg>\n",
              "      </button>\n",
              "      \n",
              "  <style>\n",
              "    .colab-df-container {\n",
              "      display:flex;\n",
              "      flex-wrap:wrap;\n",
              "      gap: 12px;\n",
              "    }\n",
              "\n",
              "    .colab-df-convert {\n",
              "      background-color: #E8F0FE;\n",
              "      border: none;\n",
              "      border-radius: 50%;\n",
              "      cursor: pointer;\n",
              "      display: none;\n",
              "      fill: #1967D2;\n",
              "      height: 32px;\n",
              "      padding: 0 0 0 0;\n",
              "      width: 32px;\n",
              "    }\n",
              "\n",
              "    .colab-df-convert:hover {\n",
              "      background-color: #E2EBFA;\n",
              "      box-shadow: 0px 1px 2px rgba(60, 64, 67, 0.3), 0px 1px 3px 1px rgba(60, 64, 67, 0.15);\n",
              "      fill: #174EA6;\n",
              "    }\n",
              "\n",
              "    [theme=dark] .colab-df-convert {\n",
              "      background-color: #3B4455;\n",
              "      fill: #D2E3FC;\n",
              "    }\n",
              "\n",
              "    [theme=dark] .colab-df-convert:hover {\n",
              "      background-color: #434B5C;\n",
              "      box-shadow: 0px 1px 3px 1px rgba(0, 0, 0, 0.15);\n",
              "      filter: drop-shadow(0px 1px 2px rgba(0, 0, 0, 0.3));\n",
              "      fill: #FFFFFF;\n",
              "    }\n",
              "  </style>\n",
              "\n",
              "      <script>\n",
              "        const buttonEl =\n",
              "          document.querySelector('#df-cf246e01-205a-4310-bf75-48de3cd46c2f button.colab-df-convert');\n",
              "        buttonEl.style.display =\n",
              "          google.colab.kernel.accessAllowed ? 'block' : 'none';\n",
              "\n",
              "        async function convertToInteractive(key) {\n",
              "          const element = document.querySelector('#df-cf246e01-205a-4310-bf75-48de3cd46c2f');\n",
              "          const dataTable =\n",
              "            await google.colab.kernel.invokeFunction('convertToInteractive',\n",
              "                                                     [key], {});\n",
              "          if (!dataTable) return;\n",
              "\n",
              "          const docLinkHtml = 'Like what you see? Visit the ' +\n",
              "            '<a target=\"_blank\" href=https://colab.research.google.com/notebooks/data_table.ipynb>data table notebook</a>'\n",
              "            + ' to learn more about interactive tables.';\n",
              "          element.innerHTML = '';\n",
              "          dataTable['output_type'] = 'display_data';\n",
              "          await google.colab.output.renderOutput(dataTable, element);\n",
              "          const docLink = document.createElement('div');\n",
              "          docLink.innerHTML = docLinkHtml;\n",
              "          element.appendChild(docLink);\n",
              "        }\n",
              "      </script>\n",
              "    </div>\n",
              "  </div>\n",
              "  "
            ]
          },
          "metadata": {},
          "execution_count": 9
        }
      ],
      "source": [
        "rfm.sort_index(ascending=True)"
      ]
    },
    {
      "cell_type": "code",
      "execution_count": null,
      "metadata": {
        "id": "gWBS4vAB7GhW",
        "outputId": "2620af95-eb96-4e79-9bd9-00ae2234d773",
        "colab": {
          "base_uri": "https://localhost:8080/",
          "height": 350
        }
      },
      "outputs": [
        {
          "output_type": "display_data",
          "data": {
            "text/plain": [
              "<Figure size 2000x500 with 3 Axes>"
            ],
            "image/png": "[encoded data removed]"
          },
          "metadata": {}
        }
      ],
      "source": [
        "fig, ax = plt.subplots(1, 3, figsize=(20,5))\n",
        "sns.histplot(rfm['order_count'], kde=True, ax=ax[0])\n",
        "sns.histplot(rfm['total_spend'], kde=True,ax=ax[1])\n",
        "sns.histplot(rfm['recency'], kde=True,ax=ax[2])\n",
        "plt.tight_layout()"
      ]
    },
    {
      "cell_type": "markdown",
      "metadata": {
        "id": "85zvAl0v7GhX"
      },
      "source": [
        "##Testing all normal distribution transforming methods:\n",
        "1. log\n",
        "2. squareroot\n",
        "3. boxcox\n",
        "4. cube root (x)^1/3\n",
        "\n",
        "followed by skewness analysis of each method on each variable/column"
      ]
    },
    {
      "cell_type": "code",
      "execution_count": null,
      "metadata": {
        "id": "MuYEshS_7GhX"
      },
      "outputs": [],
      "source": [
        "def analyze_skewness(x):\n",
        "    for c in x.columns:\n",
        "      fig, ax = plt.subplots(1, 5, figsize=(20,5))\n",
        "      sns.histplot(x[c], kde=True, ax=ax[0])\n",
        "      sns.distplot(np.log(x[c]),ax=ax[1])\n",
        "      sns.distplot(np.sqrt(x[c]),ax=ax[2])\n",
        "      sns.distplot(stats.boxcox(x[c])[0],ax=ax[3])\n",
        "      sns.distplot(np.cbrt(x[c]),ax=ax[4])\n",
        "      plt.tight_layout()\n",
        "\n",
        "      print(c,'\\n','original: ', x[c].skew().round(2))\n",
        "      print('log: ', np.log(x[c]).skew().round(2))\n",
        "      print('squareroot: ', np.sqrt(x[c]).skew().round(2))\n",
        "      print('boxcox: ', pd.Series(stats.boxcox(x[c])[0]).skew().round(2))\n",
        "      print('cuberoot', np.cbrt(x[c]).skew().round(2), '\\n')\n"
      ]
    },
    {
      "cell_type": "code",
      "execution_count": null,
      "metadata": {
        "id": "huwx_rEf7GhX",
        "outputId": "d0cce3d9-43dc-461b-a487-83d44b2d0250",
        "colab": {
          "base_uri": "https://localhost:8080/",
          "height": 1000
        }
      },
      "outputs": [
        {
          "output_type": "stream",
          "name": "stdout",
          "text": [
            "order_count \n",
            " original:  1.73\n",
            "log:  0.64\n",
            "squareroot:  1.09\n",
            "boxcox:  0.25\n",
            "cuberoot 0.92 \n",
            "\n",
            "total_spend \n",
            " original:  1.75\n",
            "log:  -0.29\n",
            "squareroot:  0.71\n",
            "boxcox:  -0.02\n",
            "cuberoot 0.39 \n",
            "\n",
            "recency \n",
            " original:  1.18\n",
            "log:  -0.76\n",
            "squareroot:  0.35\n",
            "boxcox:  -0.11\n",
            "cuberoot 0.03 \n",
            "\n"
          ]
        },
        {
          "output_type": "display_data",
          "data": {
            "text/plain": [
              "<Figure size 2000x500 with 5 Axes>"
            ],
            "image/png": "[encoded data removed]"
          },
          "metadata": {}
        },
        {
          "output_type": "display_data",
          "data": {
            "text/plain": [
              "<Figure size 2000x500 with 5 Axes>"
            ],
            "image/png": "[encoded data removed]"
          },
          "metadata": {}
        },
        {
          "output_type": "display_data",
          "data": {
            "text/plain": [
              "<Figure size 2000x500 with 5 Axes>"
            ],
            "image/png": "[encoded data removed]"
          },
          "metadata": {}
        }
      ],
      "source": [
        "analyze_skewness(rfm)"
      ]
    },
    {
      "cell_type": "markdown",
      "metadata": {
        "id": "p6eg-hmC7GhX"
      },
      "source": [
        "Column total_spend produces minus values in boxcox value. picking: boxcox for order frequency | cuberoot for recency, monetary (total_spend)."
      ]
    },
    {
      "cell_type": "markdown",
      "metadata": {
        "id": "gzit-H197GhY"
      },
      "source": [
        "##Transforming RFM"
      ]
    },
    {
      "cell_type": "code",
      "execution_count": null,
      "metadata": {
        "id": "bQnZXqNW7GhY"
      },
      "outputs": [],
      "source": [
        "dist_rfm = rfm.copy()"
      ]
    },
    {
      "cell_type": "code",
      "execution_count": null,
      "metadata": {
        "id": "59a9NWUJ7GhY"
      },
      "outputs": [],
      "source": [
        "dist_rfm['order_count'] = stats.boxcox(dist_rfm['order_count'])[0]\n",
        "dist_rfm['recency'] = np.cbrt(dist_rfm['recency'])\n",
        "dist_rfm['total_spend'] = np.cbrt(dist_rfm['total_spend'])"
      ]
    },
    {
      "cell_type": "code",
      "execution_count": null,
      "metadata": {
        "id": "16hygb1q7GhY",
        "outputId": "80b8c63f-5a98-48fe-c225-6c282e931c5e",
        "colab": {
          "base_uri": "https://localhost:8080/",
          "height": 300
        }
      },
      "outputs": [
        {
          "output_type": "execute_result",
          "data": {
            "text/plain": [
              "       order_count  total_spend  recency\n",
              "count     65014.00     65014.00 65014.00\n",
              "mean          0.35         4.40     6.20\n",
              "std           0.36         1.34     2.39\n",
              "min           0.00         0.27     1.26\n",
              "25%           0.00         3.36     4.31\n",
              "50%           0.53         4.27     6.21\n",
              "75%           0.74         5.35     8.05\n",
              "max           1.10         9.91    11.62"
            ],
            "text/html": [
              "\n",
              "  <div id=\"df-ef2c72c6-374c-4690-9f5d-6730cfc0be3b\">\n",
              "    <div class=\"colab-df-container\">\n",
              "      <div>\n",
              "<style scoped>\n",
              "    .dataframe tbody tr th:only-of-type {\n",
              "        vertical-align: middle;\n",
              "    }\n",
              "\n",
              "    .dataframe tbody tr th {\n",
              "        vertical-align: top;\n",
              "    }\n",
              "\n",
              "    .dataframe thead th {\n",
              "        text-align: right;\n",
              "    }\n",
              "</style>\n",
              "<table border=\"1\" class=\"dataframe\">\n",
              "  <thead>\n",
              "    <tr style=\"text-align: right;\">\n",
              "      <th></th>\n",
              "      <th>order_count</th>\n",
              "      <th>total_spend</th>\n",
              "      <th>recency</th>\n",
              "    </tr>\n",
              "  </thead>\n",
              "  <tbody>\n",
              "    <tr>\n",
              "      <th>count</th>\n",
              "      <td>65014.00</td>\n",
              "      <td>65014.00</td>\n",
              "      <td>65014.00</td>\n",
              "    </tr>\n",
              "    <tr>\n",
              "      <th>mean</th>\n",
              "      <td>0.35</td>\n",
              "      <td>4.40</td>\n",
              "      <td>6.20</td>\n",
              "    </tr>\n",
              "    <tr>\n",
              "      <th>std</th>\n",
              "      <td>0.36</td>\n",
              "      <td>1.34</td>\n",
              "      <td>2.39</td>\n",
              "    </tr>\n",
              "    <tr>\n",
              "      <th>min</th>\n",
              "      <td>0.00</td>\n",
              "      <td>0.27</td>\n",
              "      <td>1.26</td>\n",
              "    </tr>\n",
              "    <tr>\n",
              "      <th>25%</th>\n",
              "      <td>0.00</td>\n",
              "      <td>3.36</td>\n",
              "      <td>4.31</td>\n",
              "    </tr>\n",
              "    <tr>\n",
              "      <th>50%</th>\n",
              "      <td>0.53</td>\n",
              "      <td>4.27</td>\n",
              "      <td>6.21</td>\n",
              "    </tr>\n",
              "    <tr>\n",
              "      <th>75%</th>\n",
              "      <td>0.74</td>\n",
              "      <td>5.35</td>\n",
              "      <td>8.05</td>\n",
              "    </tr>\n",
              "    <tr>\n",
              "      <th>max</th>\n",
              "      <td>1.10</td>\n",
              "      <td>9.91</td>\n",
              "      <td>11.62</td>\n",
              "    </tr>\n",
              "  </tbody>\n",
              "</table>\n",
              "</div>\n",
              "      <button class=\"colab-df-convert\" onclick=\"convertToInteractive('df-ef2c72c6-374c-4690-9f5d-6730cfc0be3b')\"\n",
              "              title=\"Convert this dataframe to an interactive table.\"\n",
              "              style=\"display:none;\">\n",
              "        \n",
              "  <svg xmlns=\"http://www.w3.org/2000/svg\" height=\"24px\"viewBox=\"0 0 24 24\"\n",
              "       width=\"24px\">\n",
              "    <path d=\"M0 0h24v24H0V0z\" fill=\"none\"/>\n",
              "    <path d=\"M18.56 5.44l.94 2.06.94-2.06 2.06-.94-2.06-.94-.94-2.06-.94 2.06-2.06.94zm-11 1L8.5 8.5l.94-2.06 2.06-.94-2.06-.94L8.5 2.5l-.94 2.06-2.06.94zm10 10l.94 2.06.94-2.06 2.06-.94-2.06-.94-.94-2.06-.94 2.06-2.06.94z\"/><path d=\"M17.41 7.96l-1.37-1.37c-.4-.4-.92-.59-1.43-.59-.52 0-1.04.2-1.43.59L10.3 9.45l-7.72 7.72c-.78.78-.78 2.05 0 2.83L4 21.41c.39.39.9.59 1.41.59.51 0 1.02-.2 1.41-.59l7.78-7.78 2.81-2.81c.8-.78.8-2.07 0-2.86zM5.41 20L4 18.59l7.72-7.72 1.47 1.35L5.41 20z\"/>\n",
              "  </svg>\n",
              "      </button>\n",
              "      \n",
              "  <style>\n",
              "    .colab-df-container {\n",
              "      display:flex;\n",
              "      flex-wrap:wrap;\n",
              "      gap: 12px;\n",
              "    }\n",
              "\n",
              "    .colab-df-convert {\n",
              "      background-color: #E8F0FE;\n",
              "      border: none;\n",
              "      border-radius: 50%;\n",
              "      cursor: pointer;\n",
              "      display: none;\n",
              "      fill: #1967D2;\n",
              "      height: 32px;\n",
              "      padding: 0 0 0 0;\n",
              "      width: 32px;\n",
              "    }\n",
              "\n",
              "    .colab-df-convert:hover {\n",
              "      background-color: #E2EBFA;\n",
              "      box-shadow: 0px 1px 2px rgba(60, 64, 67, 0.3), 0px 1px 3px 1px rgba(60, 64, 67, 0.15);\n",
              "      fill: #174EA6;\n",
              "    }\n",
              "\n",
              "    [theme=dark] .colab-df-convert {\n",
              "      background-color: #3B4455;\n",
              "      fill: #D2E3FC;\n",
              "    }\n",
              "\n",
              "    [theme=dark] .colab-df-convert:hover {\n",
              "      background-color: #434B5C;\n",
              "      box-shadow: 0px 1px 3px 1px rgba(0, 0, 0, 0.15);\n",
              "      filter: drop-shadow(0px 1px 2px rgba(0, 0, 0, 0.3));\n",
              "      fill: #FFFFFF;\n",
              "    }\n",
              "  </style>\n",
              "\n",
              "      <script>\n",
              "        const buttonEl =\n",
              "          document.querySelector('#df-ef2c72c6-374c-4690-9f5d-6730cfc0be3b button.colab-df-convert');\n",
              "        buttonEl.style.display =\n",
              "          google.colab.kernel.accessAllowed ? 'block' : 'none';\n",
              "\n",
              "        async function convertToInteractive(key) {\n",
              "          const element = document.querySelector('#df-ef2c72c6-374c-4690-9f5d-6730cfc0be3b');\n",
              "          const dataTable =\n",
              "            await google.colab.kernel.invokeFunction('convertToInteractive',\n",
              "                                                     [key], {});\n",
              "          if (!dataTable) return;\n",
              "\n",
              "          const docLinkHtml = 'Like what you see? Visit the ' +\n",
              "            '<a target=\"_blank\" href=https://colab.research.google.com/notebooks/data_table.ipynb>data table notebook</a>'\n",
              "            + ' to learn more about interactive tables.';\n",
              "          element.innerHTML = '';\n",
              "          dataTable['output_type'] = 'display_data';\n",
              "          await google.colab.output.renderOutput(dataTable, element);\n",
              "          const docLink = document.createElement('div');\n",
              "          docLink.innerHTML = docLinkHtml;\n",
              "          element.appendChild(docLink);\n",
              "        }\n",
              "      </script>\n",
              "    </div>\n",
              "  </div>\n",
              "  "
            ]
          },
          "metadata": {},
          "execution_count": 53
        }
      ],
      "source": [
        "dist_rfm.describe()"
      ]
    },
    {
      "cell_type": "markdown",
      "metadata": {
        "id": "WFTir9RF7GhY"
      },
      "source": [
        "##normalizing all variables into the same scale using StandardScaler sklearn"
      ]
    },
    {
      "cell_type": "code",
      "source": [
        "normal_rfm = dist_rfm.copy()"
      ],
      "metadata": {
        "id": "0xzm6YFmb33k"
      },
      "execution_count": null,
      "outputs": []
    },
    {
      "cell_type": "code",
      "execution_count": null,
      "metadata": {
        "id": "EDXBuT4I7GhY"
      },
      "outputs": [],
      "source": [
        "from sklearn.preprocessing import StandardScaler\n",
        "scaler = StandardScaler()\n",
        "normal_rfm[['order_count','total_spend','recency']] = scaler.fit_transform(normal_rfm[['order_count','total_spend','recency']])"
      ]
    },
    {
      "cell_type": "code",
      "source": [
        "normal_rfm.describe()"
      ],
      "metadata": {
        "colab": {
          "base_uri": "https://localhost:8080/",
          "height": 300
        },
        "id": "dBTcJqaHaYYP",
        "outputId": "df3f5146-c10b-409f-d4be-425c4b440fa4"
      },
      "execution_count": null,
      "outputs": [
        {
          "output_type": "execute_result",
          "data": {
            "text/plain": [
              "       order_count  total_spend  recency\n",
              "count     65014.00     65014.00 65014.00\n",
              "mean         -0.00        -0.00    -0.00\n",
              "std           1.00         1.00     1.00\n",
              "min          -0.97        -3.07    -2.06\n",
              "25%          -0.97        -0.77    -0.79\n",
              "50%           0.51        -0.09     0.00\n",
              "75%           1.08         0.71     0.77\n",
              "max           2.10         4.10     2.26"
            ],
            "text/html": [
              "\n",
              "  <div id=\"df-13cdf608-271c-40a5-997a-7adc54cdf5f1\">\n",
              "    <div class=\"colab-df-container\">\n",
              "      <div>\n",
              "<style scoped>\n",
              "    .dataframe tbody tr th:only-of-type {\n",
              "        vertical-align: middle;\n",
              "    }\n",
              "\n",
              "    .dataframe tbody tr th {\n",
              "        vertical-align: top;\n",
              "    }\n",
              "\n",
              "    .dataframe thead th {\n",
              "        text-align: right;\n",
              "    }\n",
              "</style>\n",
              "<table border=\"1\" class=\"dataframe\">\n",
              "  <thead>\n",
              "    <tr style=\"text-align: right;\">\n",
              "      <th></th>\n",
              "      <th>order_count</th>\n",
              "      <th>total_spend</th>\n",
              "      <th>recency</th>\n",
              "    </tr>\n",
              "  </thead>\n",
              "  <tbody>\n",
              "    <tr>\n",
              "      <th>count</th>\n",
              "      <td>65014.00</td>\n",
              "      <td>65014.00</td>\n",
              "      <td>65014.00</td>\n",
              "    </tr>\n",
              "    <tr>\n",
              "      <th>mean</th>\n",
              "      <td>-0.00</td>\n",
              "      <td>-0.00</td>\n",
              "      <td>-0.00</td>\n",
              "    </tr>\n",
              "    <tr>\n",
              "      <th>std</th>\n",
              "      <td>1.00</td>\n",
              "      <td>1.00</td>\n",
              "      <td>1.00</td>\n",
              "    </tr>\n",
              "    <tr>\n",
              "      <th>min</th>\n",
              "      <td>-0.97</td>\n",
              "      <td>-3.07</td>\n",
              "      <td>-2.06</td>\n",
              "    </tr>\n",
              "    <tr>\n",
              "      <th>25%</th>\n",
              "      <td>-0.97</td>\n",
              "      <td>-0.77</td>\n",
              "      <td>-0.79</td>\n",
              "    </tr>\n",
              "    <tr>\n",
              "      <th>50%</th>\n",
              "      <td>0.51</td>\n",
              "      <td>-0.09</td>\n",
              "      <td>0.00</td>\n",
              "    </tr>\n",
              "    <tr>\n",
              "      <th>75%</th>\n",
              "      <td>1.08</td>\n",
              "      <td>0.71</td>\n",
              "      <td>0.77</td>\n",
              "    </tr>\n",
              "    <tr>\n",
              "      <th>max</th>\n",
              "      <td>2.10</td>\n",
              "      <td>4.10</td>\n",
              "      <td>2.26</td>\n",
              "    </tr>\n",
              "  </tbody>\n",
              "</table>\n",
              "</div>\n",
              "      <button class=\"colab-df-convert\" onclick=\"convertToInteractive('df-13cdf608-271c-40a5-997a-7adc54cdf5f1')\"\n",
              "              title=\"Convert this dataframe to an interactive table.\"\n",
              "              style=\"display:none;\">\n",
              "        \n",
              "  <svg xmlns=\"http://www.w3.org/2000/svg\" height=\"24px\"viewBox=\"0 0 24 24\"\n",
              "       width=\"24px\">\n",
              "    <path d=\"M0 0h24v24H0V0z\" fill=\"none\"/>\n",
              "    <path d=\"M18.56 5.44l.94 2.06.94-2.06 2.06-.94-2.06-.94-.94-2.06-.94 2.06-2.06.94zm-11 1L8.5 8.5l.94-2.06 2.06-.94-2.06-.94L8.5 2.5l-.94 2.06-2.06.94zm10 10l.94 2.06.94-2.06 2.06-.94-2.06-.94-.94-2.06-.94 2.06-2.06.94z\"/><path d=\"M17.41 7.96l-1.37-1.37c-.4-.4-.92-.59-1.43-.59-.52 0-1.04.2-1.43.59L10.3 9.45l-7.72 7.72c-.78.78-.78 2.05 0 2.83L4 21.41c.39.39.9.59 1.41.59.51 0 1.02-.2 1.41-.59l7.78-7.78 2.81-2.81c.8-.78.8-2.07 0-2.86zM5.41 20L4 18.59l7.72-7.72 1.47 1.35L5.41 20z\"/>\n",
              "  </svg>\n",
              "      </button>\n",
              "      \n",
              "  <style>\n",
              "    .colab-df-container {\n",
              "      display:flex;\n",
              "      flex-wrap:wrap;\n",
              "      gap: 12px;\n",
              "    }\n",
              "\n",
              "    .colab-df-convert {\n",
              "      background-color: #E8F0FE;\n",
              "      border: none;\n",
              "      border-radius: 50%;\n",
              "      cursor: pointer;\n",
              "      display: none;\n",
              "      fill: #1967D2;\n",
              "      height: 32px;\n",
              "      padding: 0 0 0 0;\n",
              "      width: 32px;\n",
              "    }\n",
              "\n",
              "    .colab-df-convert:hover {\n",
              "      background-color: #E2EBFA;\n",
              "      box-shadow: 0px 1px 2px rgba(60, 64, 67, 0.3), 0px 1px 3px 1px rgba(60, 64, 67, 0.15);\n",
              "      fill: #174EA6;\n",
              "    }\n",
              "\n",
              "    [theme=dark] .colab-df-convert {\n",
              "      background-color: #3B4455;\n",
              "      fill: #D2E3FC;\n",
              "    }\n",
              "\n",
              "    [theme=dark] .colab-df-convert:hover {\n",
              "      background-color: #434B5C;\n",
              "      box-shadow: 0px 1px 3px 1px rgba(0, 0, 0, 0.15);\n",
              "      filter: drop-shadow(0px 1px 2px rgba(0, 0, 0, 0.3));\n",
              "      fill: #FFFFFF;\n",
              "    }\n",
              "  </style>\n",
              "\n",
              "      <script>\n",
              "        const buttonEl =\n",
              "          document.querySelector('#df-13cdf608-271c-40a5-997a-7adc54cdf5f1 button.colab-df-convert');\n",
              "        buttonEl.style.display =\n",
              "          google.colab.kernel.accessAllowed ? 'block' : 'none';\n",
              "\n",
              "        async function convertToInteractive(key) {\n",
              "          const element = document.querySelector('#df-13cdf608-271c-40a5-997a-7adc54cdf5f1');\n",
              "          const dataTable =\n",
              "            await google.colab.kernel.invokeFunction('convertToInteractive',\n",
              "                                                     [key], {});\n",
              "          if (!dataTable) return;\n",
              "\n",
              "          const docLinkHtml = 'Like what you see? Visit the ' +\n",
              "            '<a target=\"_blank\" href=https://colab.research.google.com/notebooks/data_table.ipynb>data table notebook</a>'\n",
              "            + ' to learn more about interactive tables.';\n",
              "          element.innerHTML = '';\n",
              "          dataTable['output_type'] = 'display_data';\n",
              "          await google.colab.output.renderOutput(dataTable, element);\n",
              "          const docLink = document.createElement('div');\n",
              "          docLink.innerHTML = docLinkHtml;\n",
              "          element.appendChild(docLink);\n",
              "        }\n",
              "      </script>\n",
              "    </div>\n",
              "  </div>\n",
              "  "
            ]
          },
          "metadata": {},
          "execution_count": 81
        }
      ]
    },
    {
      "cell_type": "markdown",
      "metadata": {
        "id": "3VelOj2k7GhZ"
      },
      "source": [
        "Finding the most optimum K value (clusters)"
      ]
    },
    {
      "cell_type": "code",
      "execution_count": null,
      "metadata": {
        "id": "OOOZnsP97GhZ",
        "outputId": "a3e536d2-5172-4c0c-d640-619f98f21c75",
        "colab": {
          "base_uri": "https://localhost:8080/",
          "height": 472
        }
      },
      "outputs": [
        {
          "output_type": "display_data",
          "data": {
            "text/plain": [
              "<Figure size 640x480 with 1 Axes>"
            ],
            "image/png": "[encoded data removed]"
          },
          "metadata": {}
        }
      ],
      "source": [
        "from sklearn.cluster import KMeans\n",
        "sse = {}\n",
        "for k in range(1, 11):\n",
        "    kmeans = KMeans(n_clusters=k, random_state=42)\n",
        "    kmeans.fit(normal_rfm)\n",
        "    sse[k] = (kmeans.inertia_) # SSE to closest cluster centroid\n",
        "plt.title('The Elbow Method')\n",
        "plt.xlabel('k')\n",
        "plt.ylabel('SSE')\n",
        "sns.pointplot(x=list(sse.keys()), y=list(sse.values()))\n",
        "plt.show()"
      ]
    },
    {
      "cell_type": "markdown",
      "source": [
        "##Picking n-cluster (k) & modeling"
      ],
      "metadata": {
        "id": "l-yOAnimec8C"
      }
    },
    {
      "cell_type": "code",
      "execution_count": null,
      "metadata": {
        "id": "9d5CUdur7GhZ"
      },
      "outputs": [],
      "source": [
        "model = KMeans(n_clusters=3, random_state=42)\n",
        "model.fit(normal_rfm)"
      ]
    },
    {
      "cell_type": "code",
      "source": [
        "model.labels_"
      ],
      "metadata": {
        "colab": {
          "base_uri": "https://localhost:8080/"
        },
        "id": "NprGwhXHe4Qv",
        "outputId": "23a9e142-078b-4881-a9ff-e6327ffd24bc"
      },
      "execution_count": null,
      "outputs": [
        {
          "output_type": "execute_result",
          "data": {
            "text/plain": [
              "array([0, 0, 2, ..., 1, 1, 1], dtype=int32)"
            ]
          },
          "metadata": {},
          "execution_count": 85
        }
      ]
    },
    {
      "cell_type": "code",
      "execution_count": null,
      "metadata": {
        "id": "2miT2XgD7Gha"
      },
      "outputs": [],
      "source": [
        "normal_rfm['cluster'] = model.labels_\n"
      ]
    },
    {
      "cell_type": "code",
      "source": [
        "normal_rfm = normal_rfm.reset_index()"
      ],
      "metadata": {
        "id": "H82mYP1clY0Y"
      },
      "execution_count": null,
      "outputs": []
    },
    {
      "cell_type": "code",
      "source": [
        "normal_rfm"
      ],
      "metadata": {
        "colab": {
          "base_uri": "https://localhost:8080/",
          "height": 423
        },
        "id": "zeHpmos_lk7_",
        "outputId": "68dc0269-cc42-48d9-84d5-a0b396faf903"
      },
      "execution_count": null,
      "outputs": [
        {
          "output_type": "execute_result",
          "data": {
            "text/plain": [
              "       user_id  order_count  total_spend  recency  cluster\n",
              "0         4204         1.38         0.40    -2.06        0\n",
              "1        12165         1.70         1.89    -2.06        0\n",
              "2        86815         0.51         0.10    -2.06        2\n",
              "3        12169         0.51         0.46    -2.06        0\n",
              "4        52106         1.38         2.23    -2.06        0\n",
              "...        ...          ...          ...      ...      ...\n",
              "65009    87155        -0.97        -0.22     2.25        1\n",
              "65010    22536        -0.97        -0.33     2.26        1\n",
              "65011    13338        -0.97        -1.92     2.26        1\n",
              "65012    21761         0.51         0.11     2.26        1\n",
              "65013    22798        -0.97        -0.96     2.26        1\n",
              "\n",
              "[65014 rows x 5 columns]"
            ],
            "text/html": [
              "\n",
              "  <div id=\"df-d391f8ce-3b44-4f5a-8849-be79a21f40f9\">\n",
              "    <div class=\"colab-df-container\">\n",
              "      <div>\n",
              "<style scoped>\n",
              "    .dataframe tbody tr th:only-of-type {\n",
              "        vertical-align: middle;\n",
              "    }\n",
              "\n",
              "    .dataframe tbody tr th {\n",
              "        vertical-align: top;\n",
              "    }\n",
              "\n",
              "    .dataframe thead th {\n",
              "        text-align: right;\n",
              "    }\n",
              "</style>\n",
              "<table border=\"1\" class=\"dataframe\">\n",
              "  <thead>\n",
              "    <tr style=\"text-align: right;\">\n",
              "      <th></th>\n",
              "      <th>user_id</th>\n",
              "      <th>order_count</th>\n",
              "      <th>total_spend</th>\n",
              "      <th>recency</th>\n",
              "      <th>cluster</th>\n",
              "    </tr>\n",
              "  </thead>\n",
              "  <tbody>\n",
              "    <tr>\n",
              "      <th>0</th>\n",
              "      <td>4204</td>\n",
              "      <td>1.38</td>\n",
              "      <td>0.40</td>\n",
              "      <td>-2.06</td>\n",
              "      <td>0</td>\n",
              "    </tr>\n",
              "    <tr>\n",
              "      <th>1</th>\n",
              "      <td>12165</td>\n",
              "      <td>1.70</td>\n",
              "      <td>1.89</td>\n",
              "      <td>-2.06</td>\n",
              "      <td>0</td>\n",
              "    </tr>\n",
              "    <tr>\n",
              "      <th>2</th>\n",
              "      <td>86815</td>\n",
              "      <td>0.51</td>\n",
              "      <td>0.10</td>\n",
              "      <td>-2.06</td>\n",
              "      <td>2</td>\n",
              "    </tr>\n",
              "    <tr>\n",
              "      <th>3</th>\n",
              "      <td>12169</td>\n",
              "      <td>0.51</td>\n",
              "      <td>0.46</td>\n",
              "      <td>-2.06</td>\n",
              "      <td>0</td>\n",
              "    </tr>\n",
              "    <tr>\n",
              "      <th>4</th>\n",
              "      <td>52106</td>\n",
              "      <td>1.38</td>\n",
              "      <td>2.23</td>\n",
              "      <td>-2.06</td>\n",
              "      <td>0</td>\n",
              "    </tr>\n",
              "    <tr>\n",
              "      <th>...</th>\n",
              "      <td>...</td>\n",
              "      <td>...</td>\n",
              "      <td>...</td>\n",
              "      <td>...</td>\n",
              "      <td>...</td>\n",
              "    </tr>\n",
              "    <tr>\n",
              "      <th>65009</th>\n",
              "      <td>87155</td>\n",
              "      <td>-0.97</td>\n",
              "      <td>-0.22</td>\n",
              "      <td>2.25</td>\n",
              "      <td>1</td>\n",
              "    </tr>\n",
              "    <tr>\n",
              "      <th>65010</th>\n",
              "      <td>22536</td>\n",
              "      <td>-0.97</td>\n",
              "      <td>-0.33</td>\n",
              "      <td>2.26</td>\n",
              "      <td>1</td>\n",
              "    </tr>\n",
              "    <tr>\n",
              "      <th>65011</th>\n",
              "      <td>13338</td>\n",
              "      <td>-0.97</td>\n",
              "      <td>-1.92</td>\n",
              "      <td>2.26</td>\n",
              "      <td>1</td>\n",
              "    </tr>\n",
              "    <tr>\n",
              "      <th>65012</th>\n",
              "      <td>21761</td>\n",
              "      <td>0.51</td>\n",
              "      <td>0.11</td>\n",
              "      <td>2.26</td>\n",
              "      <td>1</td>\n",
              "    </tr>\n",
              "    <tr>\n",
              "      <th>65013</th>\n",
              "      <td>22798</td>\n",
              "      <td>-0.97</td>\n",
              "      <td>-0.96</td>\n",
              "      <td>2.26</td>\n",
              "      <td>1</td>\n",
              "    </tr>\n",
              "  </tbody>\n",
              "</table>\n",
              "<p>65014 rows × 5 columns</p>\n",
              "</div>\n",
              "      <button class=\"colab-df-convert\" onclick=\"convertToInteractive('df-d391f8ce-3b44-4f5a-8849-be79a21f40f9')\"\n",
              "              title=\"Convert this dataframe to an interactive table.\"\n",
              "              style=\"display:none;\">\n",
              "        \n",
              "  <svg xmlns=\"http://www.w3.org/2000/svg\" height=\"24px\"viewBox=\"0 0 24 24\"\n",
              "       width=\"24px\">\n",
              "    <path d=\"M0 0h24v24H0V0z\" fill=\"none\"/>\n",
              "    <path d=\"M18.56 5.44l.94 2.06.94-2.06 2.06-.94-2.06-.94-.94-2.06-.94 2.06-2.06.94zm-11 1L8.5 8.5l.94-2.06 2.06-.94-2.06-.94L8.5 2.5l-.94 2.06-2.06.94zm10 10l.94 2.06.94-2.06 2.06-.94-2.06-.94-.94-2.06-.94 2.06-2.06.94z\"/><path d=\"M17.41 7.96l-1.37-1.37c-.4-.4-.92-.59-1.43-.59-.52 0-1.04.2-1.43.59L10.3 9.45l-7.72 7.72c-.78.78-.78 2.05 0 2.83L4 21.41c.39.39.9.59 1.41.59.51 0 1.02-.2 1.41-.59l7.78-7.78 2.81-2.81c.8-.78.8-2.07 0-2.86zM5.41 20L4 18.59l7.72-7.72 1.47 1.35L5.41 20z\"/>\n",
              "  </svg>\n",
              "      </button>\n",
              "      \n",
              "  <style>\n",
              "    .colab-df-container {\n",
              "      display:flex;\n",
              "      flex-wrap:wrap;\n",
              "      gap: 12px;\n",
              "    }\n",
              "\n",
              "    .colab-df-convert {\n",
              "      background-color: #E8F0FE;\n",
              "      border: none;\n",
              "      border-radius: 50%;\n",
              "      cursor: pointer;\n",
              "      display: none;\n",
              "      fill: #1967D2;\n",
              "      height: 32px;\n",
              "      padding: 0 0 0 0;\n",
              "      width: 32px;\n",
              "    }\n",
              "\n",
              "    .colab-df-convert:hover {\n",
              "      background-color: #E2EBFA;\n",
              "      box-shadow: 0px 1px 2px rgba(60, 64, 67, 0.3), 0px 1px 3px 1px rgba(60, 64, 67, 0.15);\n",
              "      fill: #174EA6;\n",
              "    }\n",
              "\n",
              "    [theme=dark] .colab-df-convert {\n",
              "      background-color: #3B4455;\n",
              "      fill: #D2E3FC;\n",
              "    }\n",
              "\n",
              "    [theme=dark] .colab-df-convert:hover {\n",
              "      background-color: #434B5C;\n",
              "      box-shadow: 0px 1px 3px 1px rgba(0, 0, 0, 0.15);\n",
              "      filter: drop-shadow(0px 1px 2px rgba(0, 0, 0, 0.3));\n",
              "      fill: #FFFFFF;\n",
              "    }\n",
              "  </style>\n",
              "\n",
              "      <script>\n",
              "        const buttonEl =\n",
              "          document.querySelector('#df-d391f8ce-3b44-4f5a-8849-be79a21f40f9 button.colab-df-convert');\n",
              "        buttonEl.style.display =\n",
              "          google.colab.kernel.accessAllowed ? 'block' : 'none';\n",
              "\n",
              "        async function convertToInteractive(key) {\n",
              "          const element = document.querySelector('#df-d391f8ce-3b44-4f5a-8849-be79a21f40f9');\n",
              "          const dataTable =\n",
              "            await google.colab.kernel.invokeFunction('convertToInteractive',\n",
              "                                                     [key], {});\n",
              "          if (!dataTable) return;\n",
              "\n",
              "          const docLinkHtml = 'Like what you see? Visit the ' +\n",
              "            '<a target=\"_blank\" href=https://colab.research.google.com/notebooks/data_table.ipynb>data table notebook</a>'\n",
              "            + ' to learn more about interactive tables.';\n",
              "          element.innerHTML = '';\n",
              "          dataTable['output_type'] = 'display_data';\n",
              "          await google.colab.output.renderOutput(dataTable, element);\n",
              "          const docLink = document.createElement('div');\n",
              "          docLink.innerHTML = docLinkHtml;\n",
              "          element.appendChild(docLink);\n",
              "        }\n",
              "      </script>\n",
              "    </div>\n",
              "  </div>\n",
              "  "
            ]
          },
          "metadata": {},
          "execution_count": 89
        }
      ]
    },
    {
      "cell_type": "markdown",
      "source": [
        "Summarying & plotting"
      ],
      "metadata": {
        "id": "ij2YI26fkKk7"
      }
    },
    {
      "cell_type": "code",
      "source": [
        "data_rfm=normal_rfm.groupby('cluster').agg(\n",
        "    Recency = ('recency','mean'),\n",
        "    Frequency = ('order_count','mean'),\n",
        "    Monetary_Spending = ('total_spend','mean'),\n",
        "    n_Users = ('user_id','count')\n",
        ")"
      ],
      "metadata": {
        "id": "Onpy8_Isfc2e"
      },
      "execution_count": null,
      "outputs": []
    },
    {
      "cell_type": "code",
      "source": [
        "data_rfm.reset_index()"
      ],
      "metadata": {
        "colab": {
          "base_uri": "https://localhost:8080/",
          "height": 143
        },
        "id": "Rvo4PwtBnUA6",
        "outputId": "4372d7f6-6949-4784-beb7-e44fe6131ef0"
      },
      "execution_count": null,
      "outputs": [
        {
          "output_type": "execute_result",
          "data": {
            "text/plain": [
              "   cluster  Recency  Frequency  Monetary_Spending  n_Users\n",
              "0        0    -0.21       1.03               0.89    26139\n",
              "1        1     0.96      -0.69              -0.57    20991\n",
              "2        2    -0.82      -0.70              -0.63    17884"
            ],
            "text/html": [
              "\n",
              "  <div id=\"df-c9e951a4-7819-4537-b8c2-af78550fd908\">\n",
              "    <div class=\"colab-df-container\">\n",
              "      <div>\n",
              "<style scoped>\n",
              "    .dataframe tbody tr th:only-of-type {\n",
              "        vertical-align: middle;\n",
              "    }\n",
              "\n",
              "    .dataframe tbody tr th {\n",
              "        vertical-align: top;\n",
              "    }\n",
              "\n",
              "    .dataframe thead th {\n",
              "        text-align: right;\n",
              "    }\n",
              "</style>\n",
              "<table border=\"1\" class=\"dataframe\">\n",
              "  <thead>\n",
              "    <tr style=\"text-align: right;\">\n",
              "      <th></th>\n",
              "      <th>cluster</th>\n",
              "      <th>Recency</th>\n",
              "      <th>Frequency</th>\n",
              "      <th>Monetary_Spending</th>\n",
              "      <th>n_Users</th>\n",
              "    </tr>\n",
              "  </thead>\n",
              "  <tbody>\n",
              "    <tr>\n",
              "      <th>0</th>\n",
              "      <td>0</td>\n",
              "      <td>-0.21</td>\n",
              "      <td>1.03</td>\n",
              "      <td>0.89</td>\n",
              "      <td>26139</td>\n",
              "    </tr>\n",
              "    <tr>\n",
              "      <th>1</th>\n",
              "      <td>1</td>\n",
              "      <td>0.96</td>\n",
              "      <td>-0.69</td>\n",
              "      <td>-0.57</td>\n",
              "      <td>20991</td>\n",
              "    </tr>\n",
              "    <tr>\n",
              "      <th>2</th>\n",
              "      <td>2</td>\n",
              "      <td>-0.82</td>\n",
              "      <td>-0.70</td>\n",
              "      <td>-0.63</td>\n",
              "      <td>17884</td>\n",
              "    </tr>\n",
              "  </tbody>\n",
              "</table>\n",
              "</div>\n",
              "      <button class=\"colab-df-convert\" onclick=\"convertToInteractive('df-c9e951a4-7819-4537-b8c2-af78550fd908')\"\n",
              "              title=\"Convert this dataframe to an interactive table.\"\n",
              "              style=\"display:none;\">\n",
              "        \n",
              "  <svg xmlns=\"http://www.w3.org/2000/svg\" height=\"24px\"viewBox=\"0 0 24 24\"\n",
              "       width=\"24px\">\n",
              "    <path d=\"M0 0h24v24H0V0z\" fill=\"none\"/>\n",
              "    <path d=\"M18.56 5.44l.94 2.06.94-2.06 2.06-.94-2.06-.94-.94-2.06-.94 2.06-2.06.94zm-11 1L8.5 8.5l.94-2.06 2.06-.94-2.06-.94L8.5 2.5l-.94 2.06-2.06.94zm10 10l.94 2.06.94-2.06 2.06-.94-2.06-.94-.94-2.06-.94 2.06-2.06.94z\"/><path d=\"M17.41 7.96l-1.37-1.37c-.4-.4-.92-.59-1.43-.59-.52 0-1.04.2-1.43.59L10.3 9.45l-7.72 7.72c-.78.78-.78 2.05 0 2.83L4 21.41c.39.39.9.59 1.41.59.51 0 1.02-.2 1.41-.59l7.78-7.78 2.81-2.81c.8-.78.8-2.07 0-2.86zM5.41 20L4 18.59l7.72-7.72 1.47 1.35L5.41 20z\"/>\n",
              "  </svg>\n",
              "      </button>\n",
              "      \n",
              "  <style>\n",
              "    .colab-df-container {\n",
              "      display:flex;\n",
              "      flex-wrap:wrap;\n",
              "      gap: 12px;\n",
              "    }\n",
              "\n",
              "    .colab-df-convert {\n",
              "      background-color: #E8F0FE;\n",
              "      border: none;\n",
              "      border-radius: 50%;\n",
              "      cursor: pointer;\n",
              "      display: none;\n",
              "      fill: #1967D2;\n",
              "      height: 32px;\n",
              "      padding: 0 0 0 0;\n",
              "      width: 32px;\n",
              "    }\n",
              "\n",
              "    .colab-df-convert:hover {\n",
              "      background-color: #E2EBFA;\n",
              "      box-shadow: 0px 1px 2px rgba(60, 64, 67, 0.3), 0px 1px 3px 1px rgba(60, 64, 67, 0.15);\n",
              "      fill: #174EA6;\n",
              "    }\n",
              "\n",
              "    [theme=dark] .colab-df-convert {\n",
              "      background-color: #3B4455;\n",
              "      fill: #D2E3FC;\n",
              "    }\n",
              "\n",
              "    [theme=dark] .colab-df-convert:hover {\n",
              "      background-color: #434B5C;\n",
              "      box-shadow: 0px 1px 3px 1px rgba(0, 0, 0, 0.15);\n",
              "      filter: drop-shadow(0px 1px 2px rgba(0, 0, 0, 0.3));\n",
              "      fill: #FFFFFF;\n",
              "    }\n",
              "  </style>\n",
              "\n",
              "      <script>\n",
              "        const buttonEl =\n",
              "          document.querySelector('#df-c9e951a4-7819-4537-b8c2-af78550fd908 button.colab-df-convert');\n",
              "        buttonEl.style.display =\n",
              "          google.colab.kernel.accessAllowed ? 'block' : 'none';\n",
              "\n",
              "        async function convertToInteractive(key) {\n",
              "          const element = document.querySelector('#df-c9e951a4-7819-4537-b8c2-af78550fd908');\n",
              "          const dataTable =\n",
              "            await google.colab.kernel.invokeFunction('convertToInteractive',\n",
              "                                                     [key], {});\n",
              "          if (!dataTable) return;\n",
              "\n",
              "          const docLinkHtml = 'Like what you see? Visit the ' +\n",
              "            '<a target=\"_blank\" href=https://colab.research.google.com/notebooks/data_table.ipynb>data table notebook</a>'\n",
              "            + ' to learn more about interactive tables.';\n",
              "          element.innerHTML = '';\n",
              "          dataTable['output_type'] = 'display_data';\n",
              "          await google.colab.output.renderOutput(dataTable, element);\n",
              "          const docLink = document.createElement('div');\n",
              "          docLink.innerHTML = docLinkHtml;\n",
              "          element.appendChild(docLink);\n",
              "        }\n",
              "      </script>\n",
              "    </div>\n",
              "  </div>\n",
              "  "
            ]
          },
          "metadata": {},
          "execution_count": 97
        }
      ]
    },
    {
      "cell_type": "markdown",
      "source": [
        "Conclusion:\n",
        "*   cluster 0 = low Recency, highest Frequency, highest Spending: valuable users\n",
        "*   cluster 1 = highest Recency, low Frequency, low Spending: churned users\n",
        "*   cluster 2 = lowest Recency, lowest Frequency, lowest Spending: new users\n",
        "\n",
        "\n",
        "\n"
      ],
      "metadata": {
        "id": "TTwxniAGoBeH"
      }
    },
    {
      "cell_type": "markdown",
      "source": [
        "##References\n",
        "Daqing C., Sai L.S, and Kun G., Data mining for the online retail industry: A case study of RFM model-based customer segmentation using data mining (2012), Journal of Database Marketing and Customer Strategy Management.<br>\n",
        "K. Jarrod Millman and Michael Aivazis. Python for Scientists and Engineers(2011). Computing in Science & Engineering.<br>\n",
        "https://towardsdatascience.com/top-3-methods-for-handling-skewed-data-1334e0debf45<br>\n",
        "https://www.geeksforgeeks.org/elbow-method-for-optimal-value-of-k-in-kmeans/"
      ],
      "metadata": {
        "id": "BtgSSNWdqOJ1"
      }
    }
  ],
  "metadata": {
    "colab": {
      "provenance": [],
      "toc_visible": true,
      "include_colab_link": true
    },
    "kernelspec": {
      "display_name": "Python 3",
      "name": "python3"
    },
    "language_info": {
      "codemirror_mode": {
        "name": "ipython",
        "version": 3
      },
      "file_extension": ".py",
      "mimetype": "text/x-python",
      "name": "python",
      "nbconvert_exporter": "python",
      "pygments_lexer": "ipython3",
      "version": "3.11.3"
    }
  },
  "nbformat": 4,
  "nbformat_minor": 0
}